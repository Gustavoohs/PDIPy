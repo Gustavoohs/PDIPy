{
  "nbformat": 4,
  "nbformat_minor": 0,
  "metadata": {
    "colab": {
      "provenance": []
    },
    "kernelspec": {
      "name": "python3",
      "display_name": "Python 3"
    },
    "language_info": {
      "name": "python"
    }
  },
  "cells": [
    {
      "cell_type": "code",
      "execution_count": 1,
      "metadata": {
        "colab": {
          "base_uri": "https://localhost:8080/"
        },
        "id": "HN1nnPFS2YB2",
        "outputId": "3914d17d-4bf9-4d3a-9b1a-c5a5c5b26b26"
      },
      "outputs": [
        {
          "output_type": "stream",
          "name": "stdout",
          "text": [
            "\u001b[2K     \u001b[90m━━━━━━━━━━━━━━━━━━━━━━━━━━━━━━━━━━━━━━━━\u001b[0m \u001b[32m20.1/20.1 MB\u001b[0m \u001b[31m27.1 MB/s\u001b[0m eta \u001b[36m0:00:00\u001b[0m\n",
            "\u001b[?25h"
          ]
        }
      ],
      "source": [
        "!pip install -q rasterio"
      ]
    },
    {
      "cell_type": "code",
      "source": [
        "# Bibliotecas\n",
        "import rasterio as rio\n",
        "import matplotlib.pyplot as plt\n",
        "import numpy as np"
      ],
      "metadata": {
        "id": "mDyIfc3i2bvR"
      },
      "execution_count": 2,
      "outputs": []
    },
    {
      "cell_type": "code",
      "source": [
        "# Leitura de arquivos\n",
        "with rio.open('S1A_VH.tif') as src:\n",
        "  VH = src.read(1)\n",
        "with rio.open('S1A_VV.tif') as src:\n",
        "  VV = src.read(1)"
      ],
      "metadata": {
        "id": "nfme6P4N27df"
      },
      "execution_count": 4,
      "outputs": []
    },
    {
      "cell_type": "code",
      "source": [
        "# Calculando RVI\n",
        "RVI = (4 * VH) / (VV + VH)"
      ],
      "metadata": {
        "id": "SUvAFg7p3lFu"
      },
      "execution_count": null,
      "outputs": []
    },
    {
      "cell_type": "code",
      "source": [
        "# Visualizando resultado\n",
        "plt.imshow(RVI, cmap='RdYlGn_r')"
      ],
      "metadata": {
        "id": "SIKn3zSh3wWq"
      },
      "execution_count": null,
      "outputs": []
    }
  ]
}