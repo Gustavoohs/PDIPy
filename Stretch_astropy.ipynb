{
  "nbformat": 4,
  "nbformat_minor": 0,
  "metadata": {
    "colab": {
      "name": "Stretch_astropy.ipynb",
      "provenance": []
    },
    "kernelspec": {
      "name": "python3",
      "display_name": "Python 3"
    },
    "language_info": {
      "name": "python"
    }
  },
  "cells": [
    {
      "cell_type": "code",
      "execution_count": null,
      "metadata": {
        "id": "KanXvLr68gFg"
      },
      "outputs": [],
      "source": [
        "# Bibliotecas\n",
        "from astropy.visualization.stretch import SqrtStretch,LogStretch,AsinhStretch\n",
        "import tifffile as tif\n",
        "import matplotlib.pyplot as plt"
      ]
    },
    {
      "cell_type": "code",
      "source": [
        "# Leitura da imagem\n",
        "b1 = tif.imread('L71221071_07120010720_DN_B1.tif')"
      ],
      "metadata": {
        "id": "t5cOUrin8m3Y"
      },
      "execution_count": null,
      "outputs": []
    },
    {
      "cell_type": "code",
      "source": [
        "# Instanciando métodos\n",
        "b1_norm = b1/256\n",
        "asinh = AsinhStretch()\n",
        "sqrt = SqrtStretch()\n",
        "log = LogStretch()"
      ],
      "metadata": {
        "id": "TUO0YcfuJHZr"
      },
      "execution_count": null,
      "outputs": []
    },
    {
      "cell_type": "code",
      "source": [
        "# COmputando expansão\n",
        "asin = asinh(b1_norm)\n",
        "sqr = sqrt(b1_norm)\n",
        "lg = log(b1_norm)"
      ],
      "metadata": {
        "id": "-BC1rbWcVJhx"
      },
      "execution_count": null,
      "outputs": []
    },
    {
      "cell_type": "code",
      "source": [
        "# Lista com os métodos e nomes\n",
        "metodos = [b1, asin, sqr, lg]\n",
        "nom = ['Original', 'Seno hiper inverso', 'Raíz quadrada', \"Log\"]"
      ],
      "metadata": {
        "id": "5pV5L9iF_J7z"
      },
      "execution_count": null,
      "outputs": []
    },
    {
      "cell_type": "code",
      "source": [
        "# Visualização do resultado\n",
        "fig, axes = plt.subplots(2,2, figsize=(20,10))\n",
        "\n",
        "axes = axes.ravel()\n",
        "\n",
        "for i in range(4):\n",
        "  axes[i].imshow(metodos[i],cmap='gray') \n",
        "  axes[i].set_title(nom[i],fontsize=20) \n",
        "  axes[i].axis('off')"
      ],
      "metadata": {
        "id": "JVXFoloLIxzb"
      },
      "execution_count": null,
      "outputs": []
    },
    {
      "cell_type": "code",
      "source": [
        "# Visualização dos histogramas\n",
        "fig, axes = plt.subplots(2,2, figsize=(20,10))\n",
        "\n",
        "axes = axes.ravel()\n",
        "\n",
        "for i in range(4):\n",
        "  axes[i].hist(metodos[i].flatten(), bins=200) \n",
        "  axes[i].set_title(nom[i],fontsize=20) "
      ],
      "metadata": {
        "id": "7NiJb4jxM88x"
      },
      "execution_count": null,
      "outputs": []
    },
    {
      "cell_type": "code",
      "source": [
        ""
      ],
      "metadata": {
        "id": "HYuRLeB9W5_p"
      },
      "execution_count": null,
      "outputs": []
    }
  ]
}