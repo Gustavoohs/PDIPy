{
  "nbformat": 4,
  "nbformat_minor": 0,
  "metadata": {
    "colab": {
      "name": "Fisher_discriminant.ipynb",
      "provenance": [],
      "collapsed_sections": []
    },
    "kernelspec": {
      "name": "python3",
      "display_name": "Python 3"
    },
    "language_info": {
      "name": "python"
    }
  },
  "cells": [
    {
      "cell_type": "code",
      "metadata": {
        "colab": {
          "base_uri": "https://localhost:8080/"
        },
        "id": "_8ZS_nspmid1",
        "outputId": "b8b47b23-f7f9-41e4-fd6b-4669a1ce7b2d"
      },
      "source": [
        "!pip install spectral"
      ],
      "execution_count": null,
      "outputs": [
        {
          "output_type": "stream",
          "text": [
            "Collecting spectral\n",
            "  Downloading spectral-0.22.2.tar.gz (184 kB)\n",
            "\u001b[?25l\r\u001b[K     |█▉                              | 10 kB 14.0 MB/s eta 0:00:01\r\u001b[K     |███▋                            | 20 kB 18.0 MB/s eta 0:00:01\r\u001b[K     |█████▍                          | 30 kB 17.0 MB/s eta 0:00:01\r\u001b[K     |███████▏                        | 40 kB 19.3 MB/s eta 0:00:01\r\u001b[K     |█████████                       | 51 kB 20.3 MB/s eta 0:00:01\r\u001b[K     |██████████▊                     | 61 kB 13.8 MB/s eta 0:00:01\r\u001b[K     |████████████▌                   | 71 kB 12.7 MB/s eta 0:00:01\r\u001b[K     |██████████████▎                 | 81 kB 13.9 MB/s eta 0:00:01\r\u001b[K     |████████████████                | 92 kB 15.0 MB/s eta 0:00:01\r\u001b[K     |█████████████████▉              | 102 kB 15.9 MB/s eta 0:00:01\r\u001b[K     |███████████████████▋            | 112 kB 15.9 MB/s eta 0:00:01\r\u001b[K     |█████████████████████▍          | 122 kB 15.9 MB/s eta 0:00:01\r\u001b[K     |███████████████████████▏        | 133 kB 15.9 MB/s eta 0:00:01\r\u001b[K     |█████████████████████████       | 143 kB 15.9 MB/s eta 0:00:01\r\u001b[K     |██████████████████████████▊     | 153 kB 15.9 MB/s eta 0:00:01\r\u001b[K     |████████████████████████████▌   | 163 kB 15.9 MB/s eta 0:00:01\r\u001b[K     |██████████████████████████████▎ | 174 kB 15.9 MB/s eta 0:00:01\r\u001b[K     |████████████████████████████████| 184 kB 15.9 MB/s \n",
            "\u001b[?25hRequirement already satisfied: numpy in /usr/local/lib/python3.7/dist-packages (from spectral) (1.19.5)\n",
            "Building wheels for collected packages: spectral\n",
            "  Building wheel for spectral (setup.py) ... \u001b[?25l\u001b[?25hdone\n",
            "  Created wheel for spectral: filename=spectral-0.22.2-py3-none-any.whl size=212954 sha256=53fc63fe2f7dd3f7ab543737702b9fcc05cba7f399591c7172ebbeaff38666d6\n",
            "  Stored in directory: /root/.cache/pip/wheels/8b/3c/53/b5300d56bee75c16de9b19cd481c419cc63929f2e4019a6235\n",
            "Successfully built spectral\n",
            "Installing collected packages: spectral\n",
            "Successfully installed spectral-0.22.2\n"
          ],
          "name": "stdout"
        }
      ]
    },
    {
      "cell_type": "code",
      "metadata": {
        "id": "IFmct5X3mx-a"
      },
      "source": [
        "import matplotlib\n",
        "matplotlib.rcParams['figure.figsize'] = (15,10)"
      ],
      "execution_count": null,
      "outputs": []
    },
    {
      "cell_type": "code",
      "metadata": {
        "id": "P5mHHz3jmz7X"
      },
      "source": [
        " # Bibliotecas\n",
        " from spectral import *\n",
        " import tifffile as tif\n",
        " import matplotlib.pyplot as plt"
      ],
      "execution_count": null,
      "outputs": []
    },
    {
      "cell_type": "code",
      "metadata": {
        "id": "bTzoZEDfm9Pv"
      },
      "source": [
        "# Leitura da imagem\n",
        "img = tif.imread('/content/cubo_L7.tif')\n",
        "gt = open_image('ROI_cubo_L7.GIS').read_band(0)"
      ],
      "execution_count": null,
      "outputs": []
    },
    {
      "cell_type": "code",
      "metadata": {
        "id": "vPWJxAYJJxcV"
      },
      "source": [
        "# Visualizando as classes na imagem\n",
        "view = imshow(img, (2,1,0), classes=gt, stretch=(0.02))\n",
        "view.set_display_mode('overlay')\n",
        "view.class_alpha = 0.5"
      ],
      "execution_count": null,
      "outputs": []
    },
    {
      "cell_type": "code",
      "metadata": {
        "id": "WGCmIWCvnAy2"
      },
      "source": [
        "# Criando um conjunto de treinamento\n",
        "classes = create_training_classes(img, gt)\n",
        "\n",
        "# Calculando o discriminante linear de Fisher\n",
        "fld = linear_discriminant(classes)"
      ],
      "execution_count": null,
      "outputs": []
    },
    {
      "cell_type": "code",
      "metadata": {
        "id": "AjYcehjK2h0e"
      },
      "source": [
        "# Rodando a transformação na imagem original\n",
        "img_fld = fld.transform(img)\n",
        "\n",
        "# Visualizando composição com as componentes 4, 3 e 2\n",
        "imshow(img_fld, (3,2,1), stretch=(0.02))"
      ],
      "execution_count": null,
      "outputs": []
    },
    {
      "cell_type": "code",
      "metadata": {
        "id": "6PATP-IYrl3j"
      },
      "source": [
        ""
      ],
      "execution_count": null,
      "outputs": []
    }
  ]
}