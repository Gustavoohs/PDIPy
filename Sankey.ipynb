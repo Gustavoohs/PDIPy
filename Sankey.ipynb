{
  "nbformat": 4,
  "nbformat_minor": 0,
  "metadata": {
    "colab": {
      "provenance": []
    },
    "kernelspec": {
      "name": "python3",
      "display_name": "Python 3"
    },
    "language_info": {
      "name": "python"
    }
  },
  "cells": [
    {
      "cell_type": "code",
      "source": [
        "!pip install -q rasterio"
      ],
      "metadata": {
        "id": "yitVIo0n3k4_"
      },
      "execution_count": null,
      "outputs": []
    },
    {
      "cell_type": "code",
      "execution_count": null,
      "metadata": {
        "id": "ghNHhYxw3dUh"
      },
      "outputs": [],
      "source": [
        "# Bibliotecas\n",
        "import rasterio as rio\n",
        "import matplotlib.pyplot as plt\n",
        "import numpy as np\n",
        "import plotly.graph_objects as go"
      ]
    },
    {
      "cell_type": "code",
      "source": [
        "# Carregar as imagens classificadas\n",
        "with rio.open('/content/mapbiomas-brazil-collection-90-altamirapa1500602-2013.tif') as src_2013:\n",
        "    img_2013 = src_2013.read(1)\n",
        "\n",
        "with rio.open('/content/mapbiomas-brazil-collection-90-altamirapa1500602-2023.tif') as src_2023:\n",
        "    img_2023 = src_2023.read(1)\n",
        "\n",
        "# Calcular a matriz de transição\n",
        "classes_2013 = np.unique(img_2013)\n",
        "classes_2023 = np.unique(img_2023)\n",
        "\n",
        "matriz_transicao = {}\n",
        "\n",
        "for classe_2013 in classes_2013:\n",
        "    for classe_2023 in classes_2023:\n",
        "        # Contar o número de pixels que mudaram de classe_2013 para classe_2023\n",
        "        count = np.sum((img_2013 == classe_2013) & (img_2023 == classe_2023))\n",
        "        if count > 0:\n",
        "            matriz_transicao[(classe_2013, classe_2023)] = count"
      ],
      "metadata": {
        "id": "NzkobQNs3kgf"
      },
      "execution_count": null,
      "outputs": []
    },
    {
      "cell_type": "code",
      "source": [
        "# Dicionário com descrições das classes\n",
        "class_descriptions = {\n",
        "    1: \"Forest\",\n",
        "    3: \"Forest Formation\",\n",
        "    4: \"Savanna Formation\",\n",
        "    5: \"Mangrove\",\n",
        "    6: \"Floodable Forest\",\n",
        "    49: \"Wooded Sandbank Vegetation\",\n",
        "    10: \"Herbaceous and Shrubby Vegetation\",\n",
        "    11: \"Wetland\",\n",
        "    12: \"Grassland\",\n",
        "    32: \"Hypersaline Tidal Flat\",\n",
        "    29: \"Rocky Outcrop\",\n",
        "    50: \"Herbaceous Sandbank Vegetation\",\n",
        "    14: \"Farming\",\n",
        "    15: \"Pasture\",\n",
        "    18: \"Agriculture\",\n",
        "    19: \"Temporary Crop\",\n",
        "    39: \"Soybean\",\n",
        "    20: \"Sugar cane\",\n",
        "    40: \"Rice\",\n",
        "    62: \"Cotton (beta)\",\n",
        "    41: \"Other Temporary Crops\",\n",
        "    36: \"Perennial Crop\",\n",
        "    46: \"Coffee\",\n",
        "    47: \"Citrus\",\n",
        "    35: \"Palm Oil\",\n",
        "    48: \"Other Perennial Crops\",\n",
        "    9: \"Forest Plantation\",\n",
        "    21: \"Mosaic of Uses\",\n",
        "    22: \"Non vegetated area\",\n",
        "    23: \"Beach\",\n",
        "    24: \"Urban Area\",\n",
        "    30: \"Mining\",\n",
        "    25: \"Other non Vegetated Areas\",\n",
        "    26: \"Water\",\n",
        "    33: \"River\",\n",
        "    31: \"Aquaculture\",\n",
        "    27: \"Not Observed\"\n",
        "}"
      ],
      "metadata": {
        "id": "QRJxAAx53zjN"
      },
      "execution_count": null,
      "outputs": []
    },
    {
      "cell_type": "code",
      "source": [
        "# Criar listas para os dados do Sankey, excluindo a classe zero\n",
        "source = []\n",
        "target = []\n",
        "value = []\n",
        "\n",
        "# Dicionário para mapear as classes para índices separados para 2013 e 2023\n",
        "class_indices_2013 = {}\n",
        "class_indices_2023 = {}\n",
        "index_counter = 0\n",
        "\n",
        "# Definir índices para classes de 2013\n",
        "for classe in classes_2013:\n",
        "    if classe != 0:\n",
        "        class_indices_2013[classe] = index_counter\n",
        "        index_counter += 1\n",
        "\n",
        "# Definir índices para classes de 2023\n",
        "for classe in classes_2023:\n",
        "    if classe != 0:\n",
        "        class_indices_2023[classe] = index_counter\n",
        "        index_counter += 1\n",
        "\n",
        "# Preencher listas source, target e value para o Sankey\n",
        "for (classe_2013, classe_2023), count in matriz_transicao.items():\n",
        "    if classe_2013 != 0 and classe_2023 != 0:  # Ignorar a classe zero\n",
        "        source.append(class_indices_2013[classe_2013])\n",
        "        target.append(class_indices_2023[classe_2023])\n",
        "        value.append(count)\n",
        "\n",
        "# Criar labels para as classes com suas descrições\n",
        "labels_2013 = [f\"{class_descriptions.get(classe, f'Class {classe}')}\" for classe in class_indices_2013.keys()]\n",
        "labels_2023 = [f\"{class_descriptions.get(classe, f'Class {classe}')}\" for classe in class_indices_2023.keys()]\n",
        "labels = labels_2013 + labels_2023\n",
        "\n",
        "# Criar o diagrama de Sankey\n",
        "fig = go.Figure(go.Sankey(\n",
        "    node=dict(\n",
        "        pad=15,\n",
        "        thickness=20,\n",
        "        line=dict(color=\"black\", width=0.5),\n",
        "        label=labels\n",
        "    ),\n",
        "    link=dict(\n",
        "        source=source,\n",
        "        target=target,\n",
        "        value=value\n",
        "    )\n",
        "))\n",
        "\n",
        "fig.update_layout(title_text=\"Diagrama de Sankey das Mudanças de Classe (2013-2023)\", font_size=10)\n",
        "fig.show()\n"
      ],
      "metadata": {
        "colab": {
          "base_uri": "https://localhost:8080/",
          "height": 542
        },
        "id": "x258Fnpa9J_k",
        "outputId": "007e01d4-5b13-4619-8ab3-e04f760cf33c"
      },
      "execution_count": null,
      "outputs": [
        {
          "output_type": "display_data",
          "data": {
            "text/html": [
              "<html>\n",
              "<head><meta charset=\"utf-8\" /></head>\n",
              "<body>\n",
              "    <div>            <script src=\"https://cdnjs.cloudflare.com/ajax/libs/mathjax/2.7.5/MathJax.js?config=TeX-AMS-MML_SVG\"></script><script type=\"text/javascript\">if (window.MathJax && window.MathJax.Hub && window.MathJax.Hub.Config) {window.MathJax.Hub.Config({SVG: {font: \"STIX-Web\"}});}</script>                <script type=\"text/javascript\">window.PlotlyConfig = {MathJaxConfig: 'local'};</script>\n",
              "        <script charset=\"utf-8\" src=\"https://cdn.plot.ly/plotly-2.35.2.min.js\"></script>                <div id=\"97bc2790-5d42-4d65-8f18-6fa9d02354e9\" class=\"plotly-graph-div\" style=\"height:525px; width:100%;\"></div>            <script type=\"text/javascript\">                                    window.PLOTLYENV=window.PLOTLYENV || {};                                    if (document.getElementById(\"97bc2790-5d42-4d65-8f18-6fa9d02354e9\")) {                    Plotly.newPlot(                        \"97bc2790-5d42-4d65-8f18-6fa9d02354e9\",                        [{\"link\":{\"source\":[0,0,0,0,0,0,0,0,0,0,0,0,0,1,1,1,1,1,1,1,1,1,1,1,1,1,2,2,2,2,2,2,2,2,2,2,2,2,2,3,3,3,3,3,3,3,3,3,3,3,3,3,4,4,4,4,4,4,4,4,4,4,4,4,4,5,5,5,5,5,5,5,5,5,5,5,5,5,6,6,6,6,6,6,6,6,7,7,7,7,7,7,8,8,8,8,8,8,8,8,8,8,9,9,9,9,9,9,9,9,10,10,10,10,10,10,10,10,10,10,10,10,10,11,12,12,12,12,12,12,12,12,12,12,12,12],\"target\":[13,14,15,16,17,18,19,20,21,22,23,24,25,13,14,15,16,17,18,19,20,21,22,23,24,25,13,14,15,16,17,18,19,20,21,22,23,24,25,13,14,15,16,17,18,19,20,21,22,23,24,25,13,14,15,16,17,18,19,20,21,22,23,24,25,13,14,15,16,17,18,19,20,21,22,23,24,25,13,14,15,18,19,22,23,25,13,14,18,19,20,25,13,14,15,16,17,18,21,22,23,25,13,14,15,16,17,18,22,23,13,14,15,16,17,18,19,20,21,22,23,24,25,18,13,14,15,16,17,18,20,21,22,23,24,25],\"value\":[153998463,38459,647,57,24360,6542133,518,3393,1262,17215,5515,3510,9552,4145,1880355,201,11,527,76218,146,4536,35,1442,120,4133,6072,467,71,7768330,21403,13,108414,13,203,6,2193,159308,7,649,157,2108,13071,43502,360,6294,10,161,2,1345,15317,21,291,6894,2298,52,41,120207,54184,45,902,1476,3532,1539,340,1830,294029,13630,24353,8658,10529,5968092,6383,10530,26,6614,17584,81619,73160,15,1,5,16,42259,136,19,2,7,20,89,12,389,4,1080,92,2,3,734,1152,281136,17,7,1,4,6,21,7,30,94,26679,169,2553,44,45751,28734,364,3799,24,187,6,1101,1784034,2,731,3,80,373,172,2073,290,3659,596,3,10,1606,1694,4327]},\"node\":{\"label\":[\"Forest Formation\",\"Savanna Formation\",\"Floodable Forest\",\"Wetland\",\"Grassland\",\"Pasture\",\"Urban Area\",\"Other non Vegetated Areas\",\"Rocky Outcrop\",\"Mining\",\"River\",\"Soybean\",\"Other Temporary Crops\",\"Forest Formation\",\"Savanna Formation\",\"Floodable Forest\",\"Wetland\",\"Grassland\",\"Pasture\",\"Urban Area\",\"Other non Vegetated Areas\",\"Rocky Outcrop\",\"Mining\",\"River\",\"Soybean\",\"Other Temporary Crops\"],\"line\":{\"color\":\"black\",\"width\":0.5},\"pad\":15,\"thickness\":20},\"type\":\"sankey\"}],                        {\"template\":{\"data\":{\"histogram2dcontour\":[{\"type\":\"histogram2dcontour\",\"colorbar\":{\"outlinewidth\":0,\"ticks\":\"\"},\"colorscale\":[[0.0,\"#0d0887\"],[0.1111111111111111,\"#46039f\"],[0.2222222222222222,\"#7201a8\"],[0.3333333333333333,\"#9c179e\"],[0.4444444444444444,\"#bd3786\"],[0.5555555555555556,\"#d8576b\"],[0.6666666666666666,\"#ed7953\"],[0.7777777777777778,\"#fb9f3a\"],[0.8888888888888888,\"#fdca26\"],[1.0,\"#f0f921\"]]}],\"choropleth\":[{\"type\":\"choropleth\",\"colorbar\":{\"outlinewidth\":0,\"ticks\":\"\"}}],\"histogram2d\":[{\"type\":\"histogram2d\",\"colorbar\":{\"outlinewidth\":0,\"ticks\":\"\"},\"colorscale\":[[0.0,\"#0d0887\"],[0.1111111111111111,\"#46039f\"],[0.2222222222222222,\"#7201a8\"],[0.3333333333333333,\"#9c179e\"],[0.4444444444444444,\"#bd3786\"],[0.5555555555555556,\"#d8576b\"],[0.6666666666666666,\"#ed7953\"],[0.7777777777777778,\"#fb9f3a\"],[0.8888888888888888,\"#fdca26\"],[1.0,\"#f0f921\"]]}],\"heatmap\":[{\"type\":\"heatmap\",\"colorbar\":{\"outlinewidth\":0,\"ticks\":\"\"},\"colorscale\":[[0.0,\"#0d0887\"],[0.1111111111111111,\"#46039f\"],[0.2222222222222222,\"#7201a8\"],[0.3333333333333333,\"#9c179e\"],[0.4444444444444444,\"#bd3786\"],[0.5555555555555556,\"#d8576b\"],[0.6666666666666666,\"#ed7953\"],[0.7777777777777778,\"#fb9f3a\"],[0.8888888888888888,\"#fdca26\"],[1.0,\"#f0f921\"]]}],\"heatmapgl\":[{\"type\":\"heatmapgl\",\"colorbar\":{\"outlinewidth\":0,\"ticks\":\"\"},\"colorscale\":[[0.0,\"#0d0887\"],[0.1111111111111111,\"#46039f\"],[0.2222222222222222,\"#7201a8\"],[0.3333333333333333,\"#9c179e\"],[0.4444444444444444,\"#bd3786\"],[0.5555555555555556,\"#d8576b\"],[0.6666666666666666,\"#ed7953\"],[0.7777777777777778,\"#fb9f3a\"],[0.8888888888888888,\"#fdca26\"],[1.0,\"#f0f921\"]]}],\"contourcarpet\":[{\"type\":\"contourcarpet\",\"colorbar\":{\"outlinewidth\":0,\"ticks\":\"\"}}],\"contour\":[{\"type\":\"contour\",\"colorbar\":{\"outlinewidth\":0,\"ticks\":\"\"},\"colorscale\":[[0.0,\"#0d0887\"],[0.1111111111111111,\"#46039f\"],[0.2222222222222222,\"#7201a8\"],[0.3333333333333333,\"#9c179e\"],[0.4444444444444444,\"#bd3786\"],[0.5555555555555556,\"#d8576b\"],[0.6666666666666666,\"#ed7953\"],[0.7777777777777778,\"#fb9f3a\"],[0.8888888888888888,\"#fdca26\"],[1.0,\"#f0f921\"]]}],\"surface\":[{\"type\":\"surface\",\"colorbar\":{\"outlinewidth\":0,\"ticks\":\"\"},\"colorscale\":[[0.0,\"#0d0887\"],[0.1111111111111111,\"#46039f\"],[0.2222222222222222,\"#7201a8\"],[0.3333333333333333,\"#9c179e\"],[0.4444444444444444,\"#bd3786\"],[0.5555555555555556,\"#d8576b\"],[0.6666666666666666,\"#ed7953\"],[0.7777777777777778,\"#fb9f3a\"],[0.8888888888888888,\"#fdca26\"],[1.0,\"#f0f921\"]]}],\"mesh3d\":[{\"type\":\"mesh3d\",\"colorbar\":{\"outlinewidth\":0,\"ticks\":\"\"}}],\"scatter\":[{\"fillpattern\":{\"fillmode\":\"overlay\",\"size\":10,\"solidity\":0.2},\"type\":\"scatter\"}],\"parcoords\":[{\"type\":\"parcoords\",\"line\":{\"colorbar\":{\"outlinewidth\":0,\"ticks\":\"\"}}}],\"scatterpolargl\":[{\"type\":\"scatterpolargl\",\"marker\":{\"colorbar\":{\"outlinewidth\":0,\"ticks\":\"\"}}}],\"bar\":[{\"error_x\":{\"color\":\"#2a3f5f\"},\"error_y\":{\"color\":\"#2a3f5f\"},\"marker\":{\"line\":{\"color\":\"#E5ECF6\",\"width\":0.5},\"pattern\":{\"fillmode\":\"overlay\",\"size\":10,\"solidity\":0.2}},\"type\":\"bar\"}],\"scattergeo\":[{\"type\":\"scattergeo\",\"marker\":{\"colorbar\":{\"outlinewidth\":0,\"ticks\":\"\"}}}],\"scatterpolar\":[{\"type\":\"scatterpolar\",\"marker\":{\"colorbar\":{\"outlinewidth\":0,\"ticks\":\"\"}}}],\"histogram\":[{\"marker\":{\"pattern\":{\"fillmode\":\"overlay\",\"size\":10,\"solidity\":0.2}},\"type\":\"histogram\"}],\"scattergl\":[{\"type\":\"scattergl\",\"marker\":{\"colorbar\":{\"outlinewidth\":0,\"ticks\":\"\"}}}],\"scatter3d\":[{\"type\":\"scatter3d\",\"line\":{\"colorbar\":{\"outlinewidth\":0,\"ticks\":\"\"}},\"marker\":{\"colorbar\":{\"outlinewidth\":0,\"ticks\":\"\"}}}],\"scattermapbox\":[{\"type\":\"scattermapbox\",\"marker\":{\"colorbar\":{\"outlinewidth\":0,\"ticks\":\"\"}}}],\"scatterternary\":[{\"type\":\"scatterternary\",\"marker\":{\"colorbar\":{\"outlinewidth\":0,\"ticks\":\"\"}}}],\"scattercarpet\":[{\"type\":\"scattercarpet\",\"marker\":{\"colorbar\":{\"outlinewidth\":0,\"ticks\":\"\"}}}],\"carpet\":[{\"aaxis\":{\"endlinecolor\":\"#2a3f5f\",\"gridcolor\":\"white\",\"linecolor\":\"white\",\"minorgridcolor\":\"white\",\"startlinecolor\":\"#2a3f5f\"},\"baxis\":{\"endlinecolor\":\"#2a3f5f\",\"gridcolor\":\"white\",\"linecolor\":\"white\",\"minorgridcolor\":\"white\",\"startlinecolor\":\"#2a3f5f\"},\"type\":\"carpet\"}],\"table\":[{\"cells\":{\"fill\":{\"color\":\"#EBF0F8\"},\"line\":{\"color\":\"white\"}},\"header\":{\"fill\":{\"color\":\"#C8D4E3\"},\"line\":{\"color\":\"white\"}},\"type\":\"table\"}],\"barpolar\":[{\"marker\":{\"line\":{\"color\":\"#E5ECF6\",\"width\":0.5},\"pattern\":{\"fillmode\":\"overlay\",\"size\":10,\"solidity\":0.2}},\"type\":\"barpolar\"}],\"pie\":[{\"automargin\":true,\"type\":\"pie\"}]},\"layout\":{\"autotypenumbers\":\"strict\",\"colorway\":[\"#636efa\",\"#EF553B\",\"#00cc96\",\"#ab63fa\",\"#FFA15A\",\"#19d3f3\",\"#FF6692\",\"#B6E880\",\"#FF97FF\",\"#FECB52\"],\"font\":{\"color\":\"#2a3f5f\"},\"hovermode\":\"closest\",\"hoverlabel\":{\"align\":\"left\"},\"paper_bgcolor\":\"white\",\"plot_bgcolor\":\"#E5ECF6\",\"polar\":{\"bgcolor\":\"#E5ECF6\",\"angularaxis\":{\"gridcolor\":\"white\",\"linecolor\":\"white\",\"ticks\":\"\"},\"radialaxis\":{\"gridcolor\":\"white\",\"linecolor\":\"white\",\"ticks\":\"\"}},\"ternary\":{\"bgcolor\":\"#E5ECF6\",\"aaxis\":{\"gridcolor\":\"white\",\"linecolor\":\"white\",\"ticks\":\"\"},\"baxis\":{\"gridcolor\":\"white\",\"linecolor\":\"white\",\"ticks\":\"\"},\"caxis\":{\"gridcolor\":\"white\",\"linecolor\":\"white\",\"ticks\":\"\"}},\"coloraxis\":{\"colorbar\":{\"outlinewidth\":0,\"ticks\":\"\"}},\"colorscale\":{\"sequential\":[[0.0,\"#0d0887\"],[0.1111111111111111,\"#46039f\"],[0.2222222222222222,\"#7201a8\"],[0.3333333333333333,\"#9c179e\"],[0.4444444444444444,\"#bd3786\"],[0.5555555555555556,\"#d8576b\"],[0.6666666666666666,\"#ed7953\"],[0.7777777777777778,\"#fb9f3a\"],[0.8888888888888888,\"#fdca26\"],[1.0,\"#f0f921\"]],\"sequentialminus\":[[0.0,\"#0d0887\"],[0.1111111111111111,\"#46039f\"],[0.2222222222222222,\"#7201a8\"],[0.3333333333333333,\"#9c179e\"],[0.4444444444444444,\"#bd3786\"],[0.5555555555555556,\"#d8576b\"],[0.6666666666666666,\"#ed7953\"],[0.7777777777777778,\"#fb9f3a\"],[0.8888888888888888,\"#fdca26\"],[1.0,\"#f0f921\"]],\"diverging\":[[0,\"#8e0152\"],[0.1,\"#c51b7d\"],[0.2,\"#de77ae\"],[0.3,\"#f1b6da\"],[0.4,\"#fde0ef\"],[0.5,\"#f7f7f7\"],[0.6,\"#e6f5d0\"],[0.7,\"#b8e186\"],[0.8,\"#7fbc41\"],[0.9,\"#4d9221\"],[1,\"#276419\"]]},\"xaxis\":{\"gridcolor\":\"white\",\"linecolor\":\"white\",\"ticks\":\"\",\"title\":{\"standoff\":15},\"zerolinecolor\":\"white\",\"automargin\":true,\"zerolinewidth\":2},\"yaxis\":{\"gridcolor\":\"white\",\"linecolor\":\"white\",\"ticks\":\"\",\"title\":{\"standoff\":15},\"zerolinecolor\":\"white\",\"automargin\":true,\"zerolinewidth\":2},\"scene\":{\"xaxis\":{\"backgroundcolor\":\"#E5ECF6\",\"gridcolor\":\"white\",\"linecolor\":\"white\",\"showbackground\":true,\"ticks\":\"\",\"zerolinecolor\":\"white\",\"gridwidth\":2},\"yaxis\":{\"backgroundcolor\":\"#E5ECF6\",\"gridcolor\":\"white\",\"linecolor\":\"white\",\"showbackground\":true,\"ticks\":\"\",\"zerolinecolor\":\"white\",\"gridwidth\":2},\"zaxis\":{\"backgroundcolor\":\"#E5ECF6\",\"gridcolor\":\"white\",\"linecolor\":\"white\",\"showbackground\":true,\"ticks\":\"\",\"zerolinecolor\":\"white\",\"gridwidth\":2}},\"shapedefaults\":{\"line\":{\"color\":\"#2a3f5f\"}},\"annotationdefaults\":{\"arrowcolor\":\"#2a3f5f\",\"arrowhead\":0,\"arrowwidth\":1},\"geo\":{\"bgcolor\":\"white\",\"landcolor\":\"#E5ECF6\",\"subunitcolor\":\"white\",\"showland\":true,\"showlakes\":true,\"lakecolor\":\"white\"},\"title\":{\"x\":0.05},\"mapbox\":{\"style\":\"light\"}}},\"title\":{\"text\":\"Diagrama de Sankey das Mudan\\u00e7as de Classe (2013-2023)\"},\"font\":{\"size\":10}},                        {\"responsive\": true}                    ).then(function(){\n",
              "                            \n",
              "var gd = document.getElementById('97bc2790-5d42-4d65-8f18-6fa9d02354e9');\n",
              "var x = new MutationObserver(function (mutations, observer) {{\n",
              "        var display = window.getComputedStyle(gd).display;\n",
              "        if (!display || display === 'none') {{\n",
              "            console.log([gd, 'removed!']);\n",
              "            Plotly.purge(gd);\n",
              "            observer.disconnect();\n",
              "        }}\n",
              "}});\n",
              "\n",
              "// Listen for the removal of the full notebook cells\n",
              "var notebookContainer = gd.closest('#notebook-container');\n",
              "if (notebookContainer) {{\n",
              "    x.observe(notebookContainer, {childList: true});\n",
              "}}\n",
              "\n",
              "// Listen for the clearing of the current output cell\n",
              "var outputEl = gd.closest('.output');\n",
              "if (outputEl) {{\n",
              "    x.observe(outputEl, {childList: true});\n",
              "}}\n",
              "\n",
              "                        })                };                            </script>        </div>\n",
              "</body>\n",
              "</html>"
            ]
          },
          "metadata": {}
        }
      ]
    }
  ]
}