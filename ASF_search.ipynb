{
  "nbformat": 4,
  "nbformat_minor": 0,
  "metadata": {
    "colab": {
      "name": "ASF_search.ipynb",
      "provenance": [],
      "collapsed_sections": []
    },
    "kernelspec": {
      "name": "python3",
      "display_name": "Python 3"
    },
    "language_info": {
      "name": "python"
    }
  },
  "cells": [
    {
      "cell_type": "code",
      "execution_count": 10,
      "metadata": {
        "colab": {
          "base_uri": "https://localhost:8080/"
        },
        "id": "TrP2hIPtquRp",
        "outputId": "f8fdcba6-922e-4f6c-c135-5a5003cbbe66"
      },
      "outputs": [
        {
          "output_type": "stream",
          "name": "stdout",
          "text": [
            "\u001b[?25l\r\u001b[K     |▍                               | 10 kB 16.8 MB/s eta 0:00:01\r\u001b[K     |▊                               | 20 kB 23.0 MB/s eta 0:00:01\r\u001b[K     |█                               | 30 kB 29.2 MB/s eta 0:00:01\r\u001b[K     |█▍                              | 40 kB 32.6 MB/s eta 0:00:01\r\u001b[K     |█▊                              | 51 kB 10.3 MB/s eta 0:00:01\r\u001b[K     |██▏                             | 61 kB 11.8 MB/s eta 0:00:01\r\u001b[K     |██▌                             | 71 kB 11.4 MB/s eta 0:00:01\r\u001b[K     |██▉                             | 81 kB 10.8 MB/s eta 0:00:01\r\u001b[K     |███▏                            | 92 kB 11.8 MB/s eta 0:00:01\r\u001b[K     |███▌                            | 102 kB 12.9 MB/s eta 0:00:01\r\u001b[K     |███▉                            | 112 kB 12.9 MB/s eta 0:00:01\r\u001b[K     |████▎                           | 122 kB 12.9 MB/s eta 0:00:01\r\u001b[K     |████▋                           | 133 kB 12.9 MB/s eta 0:00:01\r\u001b[K     |█████                           | 143 kB 12.9 MB/s eta 0:00:01\r\u001b[K     |█████▎                          | 153 kB 12.9 MB/s eta 0:00:01\r\u001b[K     |█████▋                          | 163 kB 12.9 MB/s eta 0:00:01\r\u001b[K     |██████                          | 174 kB 12.9 MB/s eta 0:00:01\r\u001b[K     |██████▍                         | 184 kB 12.9 MB/s eta 0:00:01\r\u001b[K     |██████▊                         | 194 kB 12.9 MB/s eta 0:00:01\r\u001b[K     |███████                         | 204 kB 12.9 MB/s eta 0:00:01\r\u001b[K     |███████▍                        | 215 kB 12.9 MB/s eta 0:00:01\r\u001b[K     |███████▊                        | 225 kB 12.9 MB/s eta 0:00:01\r\u001b[K     |████████▏                       | 235 kB 12.9 MB/s eta 0:00:01\r\u001b[K     |████████▌                       | 245 kB 12.9 MB/s eta 0:00:01\r\u001b[K     |████████▉                       | 256 kB 12.9 MB/s eta 0:00:01\r\u001b[K     |█████████▏                      | 266 kB 12.9 MB/s eta 0:00:01\r\u001b[K     |█████████▌                      | 276 kB 12.9 MB/s eta 0:00:01\r\u001b[K     |█████████▉                      | 286 kB 12.9 MB/s eta 0:00:01\r\u001b[K     |██████████▎                     | 296 kB 12.9 MB/s eta 0:00:01\r\u001b[K     |██████████▋                     | 307 kB 12.9 MB/s eta 0:00:01\r\u001b[K     |███████████                     | 317 kB 12.9 MB/s eta 0:00:01\r\u001b[K     |███████████▎                    | 327 kB 12.9 MB/s eta 0:00:01\r\u001b[K     |███████████▋                    | 337 kB 12.9 MB/s eta 0:00:01\r\u001b[K     |████████████                    | 348 kB 12.9 MB/s eta 0:00:01\r\u001b[K     |████████████▍                   | 358 kB 12.9 MB/s eta 0:00:01\r\u001b[K     |████████████▊                   | 368 kB 12.9 MB/s eta 0:00:01\r\u001b[K     |█████████████                   | 378 kB 12.9 MB/s eta 0:00:01\r\u001b[K     |█████████████▍                  | 389 kB 12.9 MB/s eta 0:00:01\r\u001b[K     |█████████████▊                  | 399 kB 12.9 MB/s eta 0:00:01\r\u001b[K     |██████████████▏                 | 409 kB 12.9 MB/s eta 0:00:01\r\u001b[K     |██████████████▌                 | 419 kB 12.9 MB/s eta 0:00:01\r\u001b[K     |██████████████▉                 | 430 kB 12.9 MB/s eta 0:00:01\r\u001b[K     |███████████████▏                | 440 kB 12.9 MB/s eta 0:00:01\r\u001b[K     |███████████████▌                | 450 kB 12.9 MB/s eta 0:00:01\r\u001b[K     |███████████████▉                | 460 kB 12.9 MB/s eta 0:00:01\r\u001b[K     |████████████████▎               | 471 kB 12.9 MB/s eta 0:00:01\r\u001b[K     |████████████████▋               | 481 kB 12.9 MB/s eta 0:00:01\r\u001b[K     |█████████████████               | 491 kB 12.9 MB/s eta 0:00:01\r\u001b[K     |█████████████████▎              | 501 kB 12.9 MB/s eta 0:00:01\r\u001b[K     |█████████████████▋              | 512 kB 12.9 MB/s eta 0:00:01\r\u001b[K     |██████████████████              | 522 kB 12.9 MB/s eta 0:00:01\r\u001b[K     |██████████████████▍             | 532 kB 12.9 MB/s eta 0:00:01\r\u001b[K     |██████████████████▊             | 542 kB 12.9 MB/s eta 0:00:01\r\u001b[K     |███████████████████             | 552 kB 12.9 MB/s eta 0:00:01\r\u001b[K     |███████████████████▍            | 563 kB 12.9 MB/s eta 0:00:01\r\u001b[K     |███████████████████▊            | 573 kB 12.9 MB/s eta 0:00:01\r\u001b[K     |████████████████████▏           | 583 kB 12.9 MB/s eta 0:00:01\r\u001b[K     |████████████████████▌           | 593 kB 12.9 MB/s eta 0:00:01\r\u001b[K     |████████████████████▉           | 604 kB 12.9 MB/s eta 0:00:01\r\u001b[K     |█████████████████████▏          | 614 kB 12.9 MB/s eta 0:00:01\r\u001b[K     |█████████████████████▌          | 624 kB 12.9 MB/s eta 0:00:01\r\u001b[K     |██████████████████████          | 634 kB 12.9 MB/s eta 0:00:01\r\u001b[K     |██████████████████████▎         | 645 kB 12.9 MB/s eta 0:00:01\r\u001b[K     |██████████████████████▋         | 655 kB 12.9 MB/s eta 0:00:01\r\u001b[K     |███████████████████████         | 665 kB 12.9 MB/s eta 0:00:01\r\u001b[K     |███████████████████████▎        | 675 kB 12.9 MB/s eta 0:00:01\r\u001b[K     |███████████████████████▋        | 686 kB 12.9 MB/s eta 0:00:01\r\u001b[K     |████████████████████████        | 696 kB 12.9 MB/s eta 0:00:01\r\u001b[K     |████████████████████████▍       | 706 kB 12.9 MB/s eta 0:00:01\r\u001b[K     |████████████████████████▊       | 716 kB 12.9 MB/s eta 0:00:01\r\u001b[K     |█████████████████████████       | 727 kB 12.9 MB/s eta 0:00:01\r\u001b[K     |█████████████████████████▍      | 737 kB 12.9 MB/s eta 0:00:01\r\u001b[K     |█████████████████████████▊      | 747 kB 12.9 MB/s eta 0:00:01\r\u001b[K     |██████████████████████████▏     | 757 kB 12.9 MB/s eta 0:00:01\r\u001b[K     |██████████████████████████▌     | 768 kB 12.9 MB/s eta 0:00:01\r\u001b[K     |██████████████████████████▉     | 778 kB 12.9 MB/s eta 0:00:01\r\u001b[K     |███████████████████████████▏    | 788 kB 12.9 MB/s eta 0:00:01\r\u001b[K     |███████████████████████████▌    | 798 kB 12.9 MB/s eta 0:00:01\r\u001b[K     |████████████████████████████    | 808 kB 12.9 MB/s eta 0:00:01\r\u001b[K     |████████████████████████████▎   | 819 kB 12.9 MB/s eta 0:00:01\r\u001b[K     |████████████████████████████▋   | 829 kB 12.9 MB/s eta 0:00:01\r\u001b[K     |█████████████████████████████   | 839 kB 12.9 MB/s eta 0:00:01\r\u001b[K     |█████████████████████████████▎  | 849 kB 12.9 MB/s eta 0:00:01\r\u001b[K     |█████████████████████████████▋  | 860 kB 12.9 MB/s eta 0:00:01\r\u001b[K     |██████████████████████████████  | 870 kB 12.9 MB/s eta 0:00:01\r\u001b[K     |██████████████████████████████▍ | 880 kB 12.9 MB/s eta 0:00:01\r\u001b[K     |██████████████████████████████▊ | 890 kB 12.9 MB/s eta 0:00:01\r\u001b[K     |███████████████████████████████ | 901 kB 12.9 MB/s eta 0:00:01\r\u001b[K     |███████████████████████████████▍| 911 kB 12.9 MB/s eta 0:00:01\r\u001b[K     |███████████████████████████████▊| 921 kB 12.9 MB/s eta 0:00:01\r\u001b[K     |████████████████████████████████| 928 kB 12.9 MB/s \n",
            "\u001b[?25h"
          ]
        }
      ],
      "source": [
        "!pip install -q asf_search\n",
        "!pip install -q geopandas\n",
        "!pip install -q geobr"
      ]
    },
    {
      "cell_type": "code",
      "source": [
        "# Bibliotecas\n",
        "import asf_search as asf\n",
        "import tifffile as tif\n",
        "import matplotlib.pyplot as plt\n",
        "import geopandas as gpd\n",
        "from shapely.geometry import box\n",
        "from datetime import date\n",
        "import geobr\n",
        "import numpy as np"
      ],
      "metadata": {
        "id": "Xep9UIRErrUM"
      },
      "execution_count": 29,
      "outputs": []
    },
    {
      "cell_type": "code",
      "source": [
        "# Baixando vetor do Distrito Federal\n",
        "DF = geobr.read_state(code_state=\"DF\", year=2020)"
      ],
      "metadata": {
        "id": "CV62Jtomur8H"
      },
      "execution_count": 12,
      "outputs": []
    },
    {
      "cell_type": "code",
      "source": [
        "# Extraindo coordenadas de canto\n",
        "bounds = DF.total_bounds\n",
        "\n",
        "# Transformando coordenadas em GeoDataFrame\n",
        "bounds_gdf = gpd.GeoSeries([box(*bounds)])\n",
        "\n",
        "# Convertendo coordenadas para WKT\n",
        "wkt = bounds_gdf.to_wkt().values.tolist()[0]"
      ],
      "metadata": {
        "id": "TvSgmvNzu196"
      },
      "execution_count": 15,
      "outputs": []
    },
    {
      "cell_type": "code",
      "source": [
        "# Realizando pesquisa por cenas S1-GRD\n",
        "results = asf.search(\n",
        "    platform= asf.PLATFORM.SENTINEL1A,\n",
        "    processingLevel=[asf.PRODUCT_TYPE.GRD_HD],\n",
        "    start = date(2022, 1, 1),\n",
        "    end = date(2022, 1, 31),\n",
        "    intersectsWith = wkt\n",
        "    )\n",
        "\n",
        "print(f'Número de cenas: {len(results)}')"
      ],
      "metadata": {
        "colab": {
          "base_uri": "https://localhost:8080/"
        },
        "id": "yayBJKDAvAD5",
        "outputId": "f5583e8b-a7d5-4937-df34-fd6225ae4f2a"
      },
      "execution_count": 31,
      "outputs": [
        {
          "output_type": "stream",
          "name": "stdout",
          "text": [
            "Número de cenas: 2\n"
          ]
        }
      ]
    },
    {
      "cell_type": "code",
      "source": [
        "# Criando sessão\n",
        "session = asf.ASFSession().auth_with_creds('Usuário', 'Senha')"
      ],
      "metadata": {
        "id": "IFrlzgcntU7q"
      },
      "execution_count": 17,
      "outputs": []
    },
    {
      "cell_type": "code",
      "source": [
        "# Baixando cenas\n",
        "results.download(\n",
        "     path = '/content',\n",
        "     session = session, \n",
        "     processes = 2 \n",
        "  )"
      ],
      "metadata": {
        "id": "oaT3lHY8si_v"
      },
      "execution_count": 23,
      "outputs": []
    },
    {
      "cell_type": "code",
      "source": [
        "# Descompactando arquivo\n",
        "!unzip /content/S1A_IW_GRDH_1SDV_20220110T084531_20220110T084556_041396_04EC0D_C3A1.zip"
      ],
      "metadata": {
        "id": "O4NvXF3Evwpp"
      },
      "execution_count": null,
      "outputs": []
    },
    {
      "cell_type": "code",
      "source": [
        "# Função de expansão\n",
        "def expansao(img, percent_ini, percent_fim):\n",
        "    s = np.zeros_like(img)\n",
        "    x,y = 0,255  \n",
        "    w = np.percentile(img, percent_ini)\n",
        "    z = np.percentile(img, percent_fim)        \n",
        "    p = x + (img - w) * (y - x) / (z - w)    \n",
        "    p[p<x] = x\n",
        "    p[p>y] = y\n",
        "    s = p\n",
        "    return s"
      ],
      "metadata": {
        "id": "JJQufJfG0c7t"
      },
      "execution_count": 27,
      "outputs": []
    },
    {
      "cell_type": "code",
      "source": [
        "# Lendo polarização VV\n",
        "img = tif.imread('caminho da imagem descompactada')"
      ],
      "metadata": {
        "id": "FFBFN24DzGxO"
      },
      "execution_count": 25,
      "outputs": []
    },
    {
      "cell_type": "code",
      "source": [
        "# Visualizando resultado\n",
        "plt.figure(figsize=(12,8))\n",
        "plt.imshow(expansao(img, 2, 98), cmap='gray')"
      ],
      "metadata": {
        "id": "NNX_BEkZzvTH"
      },
      "execution_count": null,
      "outputs": []
    },
    {
      "cell_type": "code",
      "source": [
        ""
      ],
      "metadata": {
        "id": "6fSoRJR2z4C8"
      },
      "execution_count": null,
      "outputs": []
    }
  ]
}