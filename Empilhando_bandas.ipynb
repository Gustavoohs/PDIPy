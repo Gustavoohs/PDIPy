{
  "nbformat": 4,
  "nbformat_minor": 0,
  "metadata": {
    "colab": {
      "name": "Empilhando_bandas.ipynb",
      "provenance": []
    },
    "kernelspec": {
      "name": "python3",
      "display_name": "Python 3"
    },
    "language_info": {
      "name": "python"
    }
  },
  "cells": [
    {
      "cell_type": "code",
      "execution_count": null,
      "metadata": {
        "colab": {
          "base_uri": "https://localhost:8080/"
        },
        "id": "yJEJHcLWjIcV",
        "outputId": "058ff903-3977-41de-9e2d-ecfcac889abb"
      },
      "outputs": [
        {
          "output_type": "stream",
          "name": "stdout",
          "text": [
            "\u001b[?25l\r\u001b[K     |█▌                              | 10 kB 22.8 MB/s eta 0:00:01\r\u001b[K     |███                             | 20 kB 20.6 MB/s eta 0:00:01\r\u001b[K     |████▋                           | 30 kB 11.9 MB/s eta 0:00:01\r\u001b[K     |██████▏                         | 40 kB 10.3 MB/s eta 0:00:01\r\u001b[K     |███████▊                        | 51 kB 5.7 MB/s eta 0:00:01\r\u001b[K     |█████████▎                      | 61 kB 6.2 MB/s eta 0:00:01\r\u001b[K     |██████████▉                     | 71 kB 6.0 MB/s eta 0:00:01\r\u001b[K     |████████████▍                   | 81 kB 6.7 MB/s eta 0:00:01\r\u001b[K     |██████████████                  | 92 kB 5.1 MB/s eta 0:00:01\r\u001b[K     |███████████████▍                | 102 kB 5.6 MB/s eta 0:00:01\r\u001b[K     |█████████████████               | 112 kB 5.6 MB/s eta 0:00:01\r\u001b[K     |██████████████████▌             | 122 kB 5.6 MB/s eta 0:00:01\r\u001b[K     |████████████████████            | 133 kB 5.6 MB/s eta 0:00:01\r\u001b[K     |█████████████████████▋          | 143 kB 5.6 MB/s eta 0:00:01\r\u001b[K     |███████████████████████▏        | 153 kB 5.6 MB/s eta 0:00:01\r\u001b[K     |████████████████████████▊       | 163 kB 5.6 MB/s eta 0:00:01\r\u001b[K     |██████████████████████████▎     | 174 kB 5.6 MB/s eta 0:00:01\r\u001b[K     |███████████████████████████▉    | 184 kB 5.6 MB/s eta 0:00:01\r\u001b[K     |█████████████████████████████▎  | 194 kB 5.6 MB/s eta 0:00:01\r\u001b[K     |██████████████████████████████▉ | 204 kB 5.6 MB/s eta 0:00:01\r\u001b[K     |████████████████████████████████| 212 kB 5.6 MB/s \n",
            "\u001b[?25h"
          ]
        }
      ],
      "source": [
        "!pip install -q rasterio\n",
        "!pip install -q spectral"
      ]
    },
    {
      "cell_type": "code",
      "source": [
        "#Bibliotecas\n",
        "import rasterio as rio\n",
        "from spectral import imshow\n",
        "import glob"
      ],
      "metadata": {
        "id": "-YdZ_cRMjK66"
      },
      "execution_count": null,
      "outputs": []
    },
    {
      "cell_type": "code",
      "source": [
        "# Criando lista com o caminho das bandas\n",
        "bandas = sorted(glob.glob('*.tif'))\n",
        "bandas"
      ],
      "metadata": {
        "colab": {
          "base_uri": "https://localhost:8080/"
        },
        "id": "brvZ--2JkDru",
        "outputId": "60ef80db-b260-4fbe-9a98-b6b2d1c7c811"
      },
      "execution_count": null,
      "outputs": [
        {
          "output_type": "execute_result",
          "data": {
            "text/plain": [
              "['L71221071_07120010720_DN_B1.tif',\n",
              " 'L71221071_07120010720_DN_B2.tif',\n",
              " 'L71221071_07120010720_DN_B3.tif',\n",
              " 'L71221071_07120010720_DN_B4.tif',\n",
              " 'L71221071_07120010720_DN_B5.tif',\n",
              " 'L71221071_07120010720_DN_B7.tif']"
            ]
          },
          "metadata": {},
          "execution_count": 11
        }
      ]
    },
    {
      "cell_type": "code",
      "source": [
        "# Gravando metadados da primeira cena\n",
        "with rio.open(bandas[0]) as src:\n",
        "  meta = src.meta\n",
        "\n",
        "# Atualizando número de bandas dos metadados\n",
        "meta.update(count = len(bandas))\n",
        "\n",
        "# Empilhando imagens com rasterio\n",
        "with rio.open(\"stack.tif\", 'w', **meta) as dataset:\n",
        "  for id, layer in enumerate(bandas, start=1):\n",
        "      with rio.open(layer) as src2:\n",
        "          dataset.write_band(id, src2.read(1))"
      ],
      "metadata": {
        "id": "LB06JejAkEVY"
      },
      "execution_count": null,
      "outputs": []
    },
    {
      "cell_type": "code",
      "source": [
        "# Visualizando composição com as imagens empilhadas\n",
        "import tifffile as tif\n",
        "img = tif.imread('stack.tif')\n",
        "imshow(img, (2,3,1), stretch=(0.02,0.98), figsize=(12,8))"
      ],
      "metadata": {
        "id": "M4Vef9-bl9Oa"
      },
      "execution_count": null,
      "outputs": []
    },
    {
      "cell_type": "code",
      "source": [
        ""
      ],
      "metadata": {
        "id": "P2vYrpy1mfrI"
      },
      "execution_count": null,
      "outputs": []
    },
    {
      "cell_type": "code",
      "source": [
        ""
      ],
      "metadata": {
        "id": "RxPc5jk3mlL5"
      },
      "execution_count": null,
      "outputs": []
    }
  ]
}