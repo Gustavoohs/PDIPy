{
  "nbformat": 4,
  "nbformat_minor": 0,
  "metadata": {
    "colab": {
      "name": "Imputation.ipynb",
      "provenance": [],
      "collapsed_sections": []
    },
    "kernelspec": {
      "name": "python3",
      "display_name": "Python 3"
    },
    "language_info": {
      "name": "python"
    }
  },
  "cells": [
    {
      "cell_type": "code",
      "metadata": {
        "colab": {
          "base_uri": "https://localhost:8080/"
        },
        "id": "8X34CT557v3X",
        "outputId": "e0b7faaf-113e-448d-b6ad-a78e8608cd93"
      },
      "source": [
        "!pip install spectral"
      ],
      "execution_count": null,
      "outputs": [
        {
          "output_type": "stream",
          "name": "stdout",
          "text": [
            "Collecting spectral\n",
            "  Downloading spectral-0.22.2.tar.gz (184 kB)\n",
            "\u001b[?25l\r\u001b[K     |█▉                              | 10 kB 20.0 MB/s eta 0:00:01\r\u001b[K     |███▋                            | 20 kB 11.0 MB/s eta 0:00:01\r\u001b[K     |█████▍                          | 30 kB 8.7 MB/s eta 0:00:01\r\u001b[K     |███████▏                        | 40 kB 8.1 MB/s eta 0:00:01\r\u001b[K     |█████████                       | 51 kB 4.3 MB/s eta 0:00:01\r\u001b[K     |██████████▊                     | 61 kB 4.6 MB/s eta 0:00:01\r\u001b[K     |████████████▌                   | 71 kB 4.6 MB/s eta 0:00:01\r\u001b[K     |██████████████▎                 | 81 kB 5.1 MB/s eta 0:00:01\r\u001b[K     |████████████████                | 92 kB 5.3 MB/s eta 0:00:01\r\u001b[K     |█████████████████▉              | 102 kB 4.3 MB/s eta 0:00:01\r\u001b[K     |███████████████████▋            | 112 kB 4.3 MB/s eta 0:00:01\r\u001b[K     |█████████████████████▍          | 122 kB 4.3 MB/s eta 0:00:01\r\u001b[K     |███████████████████████▏        | 133 kB 4.3 MB/s eta 0:00:01\r\u001b[K     |█████████████████████████       | 143 kB 4.3 MB/s eta 0:00:01\r\u001b[K     |██████████████████████████▊     | 153 kB 4.3 MB/s eta 0:00:01\r\u001b[K     |████████████████████████████▌   | 163 kB 4.3 MB/s eta 0:00:01\r\u001b[K     |██████████████████████████████▎ | 174 kB 4.3 MB/s eta 0:00:01\r\u001b[K     |████████████████████████████████| 184 kB 4.3 MB/s \n",
            "\u001b[?25hRequirement already satisfied: numpy in /usr/local/lib/python3.7/dist-packages (from spectral) (1.19.5)\n",
            "Building wheels for collected packages: spectral\n",
            "  Building wheel for spectral (setup.py) ... \u001b[?25l\u001b[?25hdone\n",
            "  Created wheel for spectral: filename=spectral-0.22.2-py3-none-any.whl size=212954 sha256=6531a94121596f53e1b3cb2590d970b991cea3e9b9c9413d8ad5e0bc7ea5e351\n",
            "  Stored in directory: /root/.cache/pip/wheels/8b/3c/53/b5300d56bee75c16de9b19cd481c419cc63929f2e4019a6235\n",
            "Successfully built spectral\n",
            "Installing collected packages: spectral\n",
            "Successfully installed spectral-0.22.2\n"
          ]
        }
      ]
    },
    {
      "cell_type": "code",
      "metadata": {
        "id": "SdxhYZY9IA5j"
      },
      "source": [
        "import matplotlib\n",
        "matplotlib.rcParams['figure.figsize'] = (15,10)"
      ],
      "execution_count": null,
      "outputs": []
    },
    {
      "cell_type": "code",
      "metadata": {
        "id": "3aluHgnc7dmi"
      },
      "source": [
        "# Bibliotecas\n",
        "from sklearn.impute import KNNImputer\n",
        "import numpy as np\n",
        "from spectral import imshow\n",
        "import tifffile as tif\n",
        "import matplotlib.pyplot as plt"
      ],
      "execution_count": null,
      "outputs": []
    },
    {
      "cell_type": "code",
      "metadata": {
        "id": "vvKi5LHs7zAS"
      },
      "source": [
        "# Lendo a imagem\n",
        "img = tif.imread('/content/drive/MyDrive/PDH/L7_SLC_OFF.tif')"
      ],
      "execution_count": null,
      "outputs": []
    },
    {
      "cell_type": "code",
      "metadata": {
        "id": "6MN_zFu_75vX"
      },
      "source": [
        "# Visualizando a imagem\n",
        "imshow(img, (2,3,1), stretch=(0.02))"
      ],
      "execution_count": null,
      "outputs": []
    },
    {
      "cell_type": "code",
      "metadata": {
        "id": "h9WjAMWc8KcL"
      },
      "source": [
        "# Definindo os gaps como NaN\n",
        "img[img == 0] = np.nan\n",
        "\n",
        "# Instanciando o imputer\n",
        "imputer = KNNImputer(n_neighbors=2, weights=\"uniform\")"
      ],
      "execution_count": null,
      "outputs": []
    },
    {
      "cell_type": "code",
      "metadata": {
        "id": "yFDlJYjL8Muq"
      },
      "source": [
        "# Rodando o KNN imputer em todas as bandas\n",
        "s = np.zeros(img.shape)\n",
        "for i in range(img.shape[2]):\n",
        "  s[:,:,i] = imputer.fit_transform(img[:,:,i])"
      ],
      "execution_count": null,
      "outputs": []
    },
    {
      "cell_type": "code",
      "metadata": {
        "id": "EvpFL_J4DIXB"
      },
      "source": [
        "# Visualizando resultado\n",
        "imshow(s, (2,3,1), stretch=(0.02))"
      ],
      "execution_count": null,
      "outputs": []
    },
    {
      "cell_type": "code",
      "metadata": {
        "id": "DEbCCVAtJhlz"
      },
      "source": [
        ""
      ],
      "execution_count": null,
      "outputs": []
    }
  ]
}