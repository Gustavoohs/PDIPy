{
  "nbformat": 4,
  "nbformat_minor": 0,
  "metadata": {
    "colab": {
      "provenance": []
    },
    "kernelspec": {
      "name": "python3",
      "display_name": "Python 3"
    },
    "language_info": {
      "name": "python"
    }
  },
  "cells": [
    {
      "cell_type": "code",
      "execution_count": null,
      "metadata": {
        "colab": {
          "base_uri": "https://localhost:8080/"
        },
        "id": "3qMiqNhZpTMp",
        "outputId": "676a0814-bacc-4b6b-dfd4-8b9bf2dd537e"
      },
      "outputs": [
        {
          "output_type": "stream",
          "name": "stdout",
          "text": [
            "\u001b[?25l\r\u001b[K     |███████                         | 10 kB 13.4 MB/s eta 0:00:01\r\u001b[K     |██████████████                  | 20 kB 9.7 MB/s eta 0:00:01\r\u001b[K     |████████████████████▉           | 30 kB 7.8 MB/s eta 0:00:01\r\u001b[K     |███████████████████████████▉    | 40 kB 4.3 MB/s eta 0:00:01\r\u001b[K     |████████████████████████████████| 47 kB 2.0 MB/s \n",
            "\u001b[?25h  Installing build dependencies ... \u001b[?25l\u001b[?25hdone\n",
            "  Getting requirements to build wheel ... \u001b[?25l\u001b[?25hdone\n",
            "    Preparing wheel metadata ... \u001b[?25l\u001b[?25hdone\n",
            "  Building wheel for rioxarray (PEP 517) ... \u001b[?25l\u001b[?25hdone\n"
          ]
        }
      ],
      "source": [
        "!pip install -q rasterio\n",
        "! pip install -q rioxarray"
      ]
    },
    {
      "cell_type": "code",
      "source": [
        "# Bibliotecas\n",
        "from osgeo import gdal\n",
        "import folium\n",
        "import rasterio as rio\n",
        "import numpy as np\n",
        "import matplotlib.pyplot as plt\n",
        "from folium import plugins"
      ],
      "metadata": {
        "id": "kXiXuqbWpv74"
      },
      "execution_count": null,
      "outputs": []
    },
    {
      "cell_type": "code",
      "source": [
        "# Definindo caminho de arquivos\n",
        "img_dir = '/content/drive/MyDrive/Curso PDI com Python/'\n",
        "img_path = img_dir + 'L71221071_07120010720_DN.tif'"
      ],
      "metadata": {
        "id": "O50KbR1gp9b1"
      },
      "execution_count": null,
      "outputs": []
    },
    {
      "cell_type": "code",
      "source": [
        "# Reprojetando imagem para WGS84\n",
        "input_raster = gdal.Open(img_path)\n",
        "output_raster = 'L71221071_07120010720_DN_wgs84.tif'\n",
        "warp = gdal.Warp(output_raster,input_raster,dstSRS='EPSG:4326')\n",
        "warp = None "
      ],
      "metadata": {
        "id": "qMS6PR51xpgA"
      },
      "execution_count": null,
      "outputs": []
    },
    {
      "cell_type": "code",
      "source": [
        "\n",
        "# Função de expansão  do histograma\n",
        "def expansao(img, percent_ini=2, percent_fim=98):\n",
        "    s = np.zeros_like(img)\n",
        "    x,y = 0,255  \n",
        "    w = np.percentile(img, percent_ini)\n",
        "    z = np.percentile(img, percent_fim)        \n",
        "    p = x + (img - w) * (y - x) / (z - w)    \n",
        "    p[p<x] = x\n",
        "    p[p>y] = y\n",
        "    s = p\n",
        "    return s"
      ],
      "metadata": {
        "id": "V6HK0F290BZZ"
      },
      "execution_count": null,
      "outputs": []
    },
    {
      "cell_type": "code",
      "source": [
        "# Lendo arquivo reprojetado\n",
        "with rio.open(output_raster) as src:\n",
        "    b1 = src.read(1)\n",
        "    b4 = src.read(4)\n",
        "    b3 = src.read(3)\n",
        "\n",
        "    img = np.dstack([b3,b4,b1])\n",
        "        \n",
        "    \n",
        "\n",
        "# Calculando latitude e longitude central  \n",
        "cent_lon = src.bounds[0] + (src.bounds[2] - src.bounds[0])/2\n",
        "cent_lat = src.bounds[1] + (src.bounds[3] - src.bounds[1])/2\n",
        "\n",
        "# Definindo basemap\n",
        "m = folium.Map(location=[cent_lat,  cent_lon],\n",
        "                   tiles='Stamen Terrain', zoom_start = 10)\n",
        "\n",
        "# Adicionando imagem\n",
        "m.add_child(folium.raster_layers.ImageOverlay(expansao(img), opacity=1, \n",
        "                                 bounds = [[src.bounds[1],src.bounds[0]],[src.bounds[3],src.bounds[2]]]))\n",
        "\n",
        "# Visualizando resultado\n",
        "m"
      ],
      "metadata": {
        "colab": {
          "base_uri": "https://localhost:8080/",
          "height": 716
        },
        "id": "hoG6VVEoqBrh",
        "outputId": "55346e62-6dec-4262-92d5-bf7d13f4a354"
      },
      "execution_count": null,
      "outputs": []
    },
    {
      "cell_type": "code",
      "source": [
        "\n",
        "    "
      ],
      "metadata": {
        "id": "fYGEtTvvtkdG"
      },
      "execution_count": null,
      "outputs": []
    }
  ]
}