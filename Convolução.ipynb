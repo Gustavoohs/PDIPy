{
  "nbformat": 4,
  "nbformat_minor": 0,
  "metadata": {
    "colab": {
      "name": "Convolução.ipynb",
      "provenance": []
    },
    "kernelspec": {
      "name": "python3",
      "display_name": "Python 3"
    },
    "language_info": {
      "name": "python"
    }
  },
  "cells": [
    {
      "cell_type": "code",
      "execution_count": null,
      "metadata": {
        "id": "m0hStvW9G2aF"
      },
      "outputs": [],
      "source": [
        "# Bibliotecas\n",
        "import numpy as np\n",
        "import tifffile as tif\n",
        "import matplotlib.pyplot as plt"
      ]
    },
    {
      "cell_type": "code",
      "source": [
        "# Definindo função de convolução\n",
        "def conv2d(img, kernel):\n",
        "\n",
        "    linhas_kernel = kernel.shape[0]\n",
        "    colunas_kernel = kernel.shape[1]\n",
        "\n",
        "    linhas_img= img.shape[0]\n",
        "    colunas_img = img.shape[1]\n",
        "\n",
        "    linhas_img = linhas_img - linhas_kernel + 1\n",
        "    colunas_img = colunas_img - linhas_kernel + 1\n",
        "    \n",
        "    resultado = np.empty((linhas_img,colunas_img))\n",
        "\n",
        "    for i in range(linhas_img):\n",
        "        for j in range(colunas_img):\n",
        "            resultado[i][j] = np.sum(img[i:i+linhas_kernel, \n",
        "                                         j:j+linhas_kernel]*kernel)\n",
        "    return resultado"
      ],
      "metadata": {
        "id": "N_R_UKY6LfHr"
      },
      "execution_count": null,
      "outputs": []
    },
    {
      "cell_type": "code",
      "source": [
        "# Leitura da imagem\n",
        "img = tif.imread('L71221071_07120010720_DN.tif')\n",
        "\n",
        "# Cálculo do NDVI\n",
        "ndvi = (img[:,:,3] - img[:,:,2]) / (img[:,:,3] + img[:,:,2])\n",
        "\n",
        "# Declarando kernels\n",
        "kernel_1 = np.ones((13,13))\n",
        "kernel_2 = np.matrix([[-1,-2,-1],[0,0,0],[1,2,1]])"
      ],
      "metadata": {
        "id": "vqaoTIAoHRZz"
      },
      "execution_count": null,
      "outputs": []
    },
    {
      "cell_type": "code",
      "source": [
        "# Aplicando função de convolução\n",
        "k1 = conv2d(ndvi,kernel_1)\n",
        "k2 = conv2d(ndvi,kernel_2)"
      ],
      "metadata": {
        "id": "lyQGlUWD2cNf"
      },
      "execution_count": null,
      "outputs": []
    },
    {
      "cell_type": "code",
      "source": [
        "# Visualizando resultado em imagem kernel 1\n",
        "fig, ax = plt.subplots(1,2, figsize=(12, 8))\n",
        "ax[0].imshow(ndvi, cmap=plt.cm.gray)\n",
        "ax[0].set_title('Original')\n",
        "ax[0].axis('off')\n",
        "ax[1].imshow(k1, cmap=plt.cm.gray)\n",
        "ax[1].set_title('Kernel 1')\n",
        "ax[1].axis('off')\n",
        "plt.show()"
      ],
      "metadata": {
        "id": "P_M9we2twiqB"
      },
      "execution_count": null,
      "outputs": []
    },
    {
      "cell_type": "code",
      "source": [
        "# Visualizando resultado em imagem kernel 2\n",
        "fig, ax = plt.subplots(1,2, figsize=(12, 8))\n",
        "ax[0].imshow(ndvi, cmap=plt.cm.gray)\n",
        "ax[0].set_title('Original')\n",
        "ax[0].axis('off')\n",
        "ax[1].imshow(k2, cmap=plt.cm.gray)\n",
        "ax[1].set_title('Kernel 2')\n",
        "ax[1].axis('off')\n",
        "plt.show()"
      ],
      "metadata": {
        "id": "IpDNGgxCHsza"
      },
      "execution_count": null,
      "outputs": []
    },
    {
      "cell_type": "code",
      "source": [
        ""
      ],
      "metadata": {
        "id": "7oKDKjhqHzFJ"
      },
      "execution_count": null,
      "outputs": []
    }
  ]
}