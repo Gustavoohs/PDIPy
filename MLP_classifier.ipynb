{
  "nbformat": 4,
  "nbformat_minor": 0,
  "metadata": {
    "colab": {
      "provenance": []
    },
    "kernelspec": {
      "name": "python3",
      "display_name": "Python 3"
    },
    "language_info": {
      "name": "python"
    }
  },
  "cells": [
    {
      "cell_type": "code",
      "execution_count": null,
      "metadata": {
        "id": "Sg_-qxxCcqGG"
      },
      "outputs": [],
      "source": [
        "!pip install -q rasterio"
      ]
    },
    {
      "cell_type": "code",
      "source": [
        "# Bibliotecas\n",
        "import numpy as np\n",
        "import matplotlib.pyplot as plt\n",
        "import rasterio as rio\n",
        "from rasterio.plot import reshape_as_raster\n",
        "from sklearn.neural_network import MLPClassifier\n",
        "from sklearn.model_selection import train_test_split"
      ],
      "metadata": {
        "id": "PISyb-dydXTv"
      },
      "execution_count": null,
      "outputs": []
    },
    {
      "cell_type": "code",
      "source": [
        "# Lendo imagem\n",
        "with rio.open('/content/drive/MyDrive/Curso PDI com Python/L71221071_07120010720_DN.tif') as src:\n",
        "  meta = src.meta\n",
        "  img = reshape_as_image(src.read())"
      ],
      "metadata": {
        "id": "nls25bDndjse"
      },
      "execution_count": null,
      "outputs": []
    },
    {
      "cell_type": "code",
      "source": [
        "# Lendo classes\n",
        "with rio.open('roi.tif') as src2:\n",
        "  roi = src2.read(1)"
      ],
      "metadata": {
        "id": "41ph4Or3d1J6"
      },
      "execution_count": null,
      "outputs": []
    },
    {
      "cell_type": "code",
      "source": [
        "# Armazenando metadados\n",
        "meta = src.profile"
      ],
      "metadata": {
        "id": "xaRrGf8Amw4F"
      },
      "execution_count": null,
      "outputs": []
    },
    {
      "cell_type": "code",
      "source": [
        "# Criando conjunto de treino\n",
        "X = img[roi > 0]\n",
        "y  = roi[roi > 0]"
      ],
      "metadata": {
        "id": "x0OTShwmeeQM"
      },
      "execution_count": null,
      "outputs": []
    },
    {
      "cell_type": "code",
      "source": [
        "# Dividindo conjunto em treino e teste\n",
        "X_train, X_test, y_train, y_test = train_test_split(X, y.ravel(),\n",
        "                                                    test_size = 0.3)"
      ],
      "metadata": {
        "id": "WAI2V0iRefEw"
      },
      "execution_count": null,
      "outputs": []
    },
    {
      "cell_type": "code",
      "source": [
        "# Instanciando o classificador\n",
        "mlp = MLPClassifier(solver='lbfgs', alpha=1e-5,\n",
        "                    hidden_layer_sizes=(25, 12), random_state=1)\n",
        "\n",
        "mlp.fit(X_train, y_train)"
      ],
      "metadata": {
        "id": "iG_IuKRIeh0t"
      },
      "execution_count": null,
      "outputs": []
    },
    {
      "cell_type": "code",
      "source": [
        "# Criando matriz com bandas em colunas\n",
        "img2d = img.reshape(img.shape[0]*img.shape[1], img.shape[2])\n",
        "\n",
        "# Rodando predição\n",
        "pred_mlp = mlp.predict(img2d)\n",
        "\n",
        "# Retornando para o formato original\n",
        "pred_mlp_final = pred_mlp.reshape(img[:,:,0].shape)"
      ],
      "metadata": {
        "id": "tP1fVaw1ev5F"
      },
      "execution_count": null,
      "outputs": []
    },
    {
      "cell_type": "code",
      "source": [
        "# Visualizando resultado\n",
        "plt.figure(figsize=(12,8))\n",
        "plt.imshow(pred_mlp_final, cmap='Spectral')"
      ],
      "metadata": {
        "id": "2EIb10A6kjnF"
      },
      "execution_count": null,
      "outputs": []
    },
    {
      "cell_type": "code",
      "source": [
        "# Gravando em disco\n",
        "meta.update({'count': 1})\n",
        "with rio.open('pred_mlp_final.tif', 'w', **meta) as src:\n",
        "    src.write(pred_mlp_final,1)"
      ],
      "metadata": {
        "id": "xPvCn2G1lHF-"
      },
      "execution_count": null,
      "outputs": []
    }
  ]
}