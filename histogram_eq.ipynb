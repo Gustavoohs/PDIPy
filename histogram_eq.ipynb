{
  "nbformat": 4,
  "nbformat_minor": 0,
  "metadata": {
    "colab": {
      "name": "histogram_eq.ipynb",
      "provenance": []
    },
    "kernelspec": {
      "name": "python3",
      "display_name": "Python 3"
    },
    "language_info": {
      "name": "python"
    }
  },
  "cells": [
    {
      "cell_type": "code",
      "metadata": {
        "id": "YKU1qeo1Zkk9"
      },
      "source": [
        "# Bibliotecas\n",
        "import numpy as np\n",
        "import tifffile as tif\n",
        "import matplotlib.pyplot as plt\n",
        "from skimage import exposure"
      ],
      "execution_count": null,
      "outputs": []
    },
    {
      "cell_type": "code",
      "metadata": {
        "id": "7UTUSG3yKtbh"
      },
      "source": [
        "# Leitura da imagem\n",
        "img = tif.imread('/content/drive/MyDrive/Live PDI Python/B4.tif')"
      ],
      "execution_count": null,
      "outputs": []
    },
    {
      "cell_type": "code",
      "metadata": {
        "id": "lhe9VnTa5AIb"
      },
      "source": [
        "# Expansão do histograma\n",
        "p2, p98 = np.percentile(img, (2, 98))\n",
        "stretch = exposure.rescale_intensity(img, in_range=(p2, p98))\n",
        "\n",
        "# Equalização\n",
        "eq = exposure.equalize_hist(img)\n",
        "\n",
        "# Equalização adaptativa\n",
        "adapteq = exposure.equalize_adapthist(img/256, clip_limit=0.03)"
      ],
      "execution_count": null,
      "outputs": []
    },
    {
      "cell_type": "code",
      "metadata": {
        "id": "TY50VmCb5I35"
      },
      "source": [
        "# Empilhando os resultados\n",
        "stack = np.dstack((img,stretch,eq, adapteq))"
      ],
      "execution_count": null,
      "outputs": []
    },
    {
      "cell_type": "code",
      "metadata": {
        "id": "4MXzPoM36rVz"
      },
      "source": [
        "# Visualizando imagens\n",
        "tipos = ['Original','Stretch','Equalização','Eq-adaptativa']\n",
        "fig,axes = plt.subplots(2,2,figsize=(15,10),sharex='all', sharey='all') \n",
        "axes = axes.ravel() \n",
        "for i in range(4): \n",
        "  axes[i].imshow(stack[:,:,i],cmap='gray') \n",
        "  axes[i].set_title(tipos[i],fontsize=15) \n",
        "  axes[i].axis('off')"
      ],
      "execution_count": null,
      "outputs": []
    },
    {
      "cell_type": "code",
      "metadata": {
        "id": "R7eRoI7S5WzT"
      },
      "source": [
        "# Visualizando histogramas\n",
        "fig,axes = plt.subplots(2,2,figsize=(15,10)) \n",
        "axes = axes.ravel() \n",
        "for i in range(4): \n",
        "  axes[i].hist(stack[:,:,i].flatten(),bins=200) \n",
        "  axes[i].set_title(tipos[i],fontsize=15) "
      ],
      "execution_count": null,
      "outputs": []
    },
    {
      "cell_type": "code",
      "metadata": {
        "id": "SFo_7OL6apXE"
      },
      "source": [
        ""
      ],
      "execution_count": null,
      "outputs": []
    }
  ]
}