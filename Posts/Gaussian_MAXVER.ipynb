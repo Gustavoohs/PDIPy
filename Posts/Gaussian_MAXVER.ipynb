{
  "nbformat": 4,
  "nbformat_minor": 0,
  "metadata": {
    "colab": {
      "name": "Gaussian_MAXVER.ipynb",
      "provenance": [],
      "collapsed_sections": []
    },
    "kernelspec": {
      "name": "python3",
      "display_name": "Python 3"
    },
    "language_info": {
      "name": "python"
    }
  },
  "cells": [
    {
      "cell_type": "code",
      "metadata": {
        "colab": {
          "base_uri": "https://localhost:8080/"
        },
        "id": "_8ZS_nspmid1",
        "outputId": "93ac672f-176b-4da7-aa0c-2c436fc0fdc8"
      },
      "source": [
        "!pip install spectral"
      ],
      "execution_count": null,
      "outputs": [
        {
          "output_type": "stream",
          "text": [
            "Collecting spectral\n",
            "  Downloading spectral-0.22.2.tar.gz (184 kB)\n",
            "\u001b[?25l\r\u001b[K     |█▉                              | 10 kB 20.3 MB/s eta 0:00:01\r\u001b[K     |███▋                            | 20 kB 24.6 MB/s eta 0:00:01\r\u001b[K     |█████▍                          | 30 kB 13.4 MB/s eta 0:00:01\r\u001b[K     |███████▏                        | 40 kB 9.4 MB/s eta 0:00:01\r\u001b[K     |█████████                       | 51 kB 5.3 MB/s eta 0:00:01\r\u001b[K     |██████████▊                     | 61 kB 5.4 MB/s eta 0:00:01\r\u001b[K     |████████████▌                   | 71 kB 5.9 MB/s eta 0:00:01\r\u001b[K     |██████████████▎                 | 81 kB 6.5 MB/s eta 0:00:01\r\u001b[K     |████████████████                | 92 kB 6.9 MB/s eta 0:00:01\r\u001b[K     |█████████████████▉              | 102 kB 5.2 MB/s eta 0:00:01\r\u001b[K     |███████████████████▋            | 112 kB 5.2 MB/s eta 0:00:01\r\u001b[K     |█████████████████████▍          | 122 kB 5.2 MB/s eta 0:00:01\r\u001b[K     |███████████████████████▏        | 133 kB 5.2 MB/s eta 0:00:01\r\u001b[K     |█████████████████████████       | 143 kB 5.2 MB/s eta 0:00:01\r\u001b[K     |██████████████████████████▊     | 153 kB 5.2 MB/s eta 0:00:01\r\u001b[K     |████████████████████████████▌   | 163 kB 5.2 MB/s eta 0:00:01\r\u001b[K     |██████████████████████████████▎ | 174 kB 5.2 MB/s eta 0:00:01\r\u001b[K     |████████████████████████████████| 184 kB 5.2 MB/s \n",
            "\u001b[?25hRequirement already satisfied: numpy in /usr/local/lib/python3.7/dist-packages (from spectral) (1.19.5)\n",
            "Building wheels for collected packages: spectral\n",
            "  Building wheel for spectral (setup.py) ... \u001b[?25l\u001b[?25hdone\n",
            "  Created wheel for spectral: filename=spectral-0.22.2-py3-none-any.whl size=212954 sha256=89f465b55689b3cf5e00812be5885091e5221319d8cfb4b8fca639e80cb449d0\n",
            "  Stored in directory: /root/.cache/pip/wheels/8b/3c/53/b5300d56bee75c16de9b19cd481c419cc63929f2e4019a6235\n",
            "Successfully built spectral\n",
            "Installing collected packages: spectral\n",
            "Successfully installed spectral-0.22.2\n"
          ],
          "name": "stdout"
        }
      ]
    },
    {
      "cell_type": "code",
      "metadata": {
        "id": "IFmct5X3mx-a"
      },
      "source": [
        "import matplotlib\n",
        "matplotlib.rcParams['figure.figsize'] = (15,10)"
      ],
      "execution_count": null,
      "outputs": []
    },
    {
      "cell_type": "code",
      "metadata": {
        "id": "P5mHHz3jmz7X"
      },
      "source": [
        " # Bibliotecas\n",
        " from spectral import *\n",
        " import tifffile as tif\n",
        " import matplotlib.pyplot as plt"
      ],
      "execution_count": null,
      "outputs": []
    },
    {
      "cell_type": "code",
      "metadata": {
        "id": "bTzoZEDfm9Pv"
      },
      "source": [
        "# Leitura da imagem\n",
        "img = tif.imread('/content/cubo_L7.tif')\n",
        "gt = open_image('ROI_cubo_L7.GIS').read_band(0)"
      ],
      "execution_count": null,
      "outputs": []
    },
    {
      "cell_type": "code",
      "metadata": {
        "id": "WGCmIWCvnAy2"
      },
      "source": [
        "# Criando um conjunto de treinamento\n",
        "classes = create_training_classes(img, gt)\n",
        "\n",
        "# Calculando o discriminante linear de Fisher\n",
        "fld = linear_discriminant(classes)"
      ],
      "execution_count": null,
      "outputs": []
    },
    {
      "cell_type": "code",
      "metadata": {
        "id": "AjYcehjK2h0e"
      },
      "source": [
        "# Rodando a transformação na imagem original\n",
        "img_fld = fld.transform(img)"
      ],
      "execution_count": null,
      "outputs": []
    },
    {
      "cell_type": "code",
      "metadata": {
        "id": "6PATP-IYrl3j"
      },
      "source": [
        "# Rodando o limiar de Fisher nas classes\n",
        "classes.transform(fld.transform)"
      ],
      "execution_count": null,
      "outputs": []
    },
    {
      "cell_type": "code",
      "metadata": {
        "id": "mOgOzTiXaAUQ"
      },
      "source": [
        "# Classificando a imagem\n",
        "gmlc = GaussianClassifier(classes)\n",
        "clmap = gmlc.classify_image(img_fld)\n",
        "\n",
        "# Visualizando o resultado\n",
        "plt.imshow(clmap, cmap='RdYlGn')"
      ],
      "execution_count": null,
      "outputs": []
    },
    {
      "cell_type": "code",
      "metadata": {
        "id": "xNJ4zPh3aJnI"
      },
      "source": [
        " # Calculando o erro no treinamento\n",
        "clmap_training = clmap * (gt != 0)\n",
        "fld_errors = clmap_training * (clmap_training != gt)\n",
        "\n",
        "# Visualizando o resultado\n",
        "imshow(classes=fld_errors)\n"
      ],
      "execution_count": null,
      "outputs": []
    },
    {
      "cell_type": "code",
      "metadata": {
        "id": "ycPOePcu8x5K"
      },
      "source": [
        ""
      ],
      "execution_count": null,
      "outputs": []
    }
  ]
}