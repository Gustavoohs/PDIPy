{
  "nbformat": 4,
  "nbformat_minor": 0,
  "metadata": {
    "colab": {
      "name": "Correcao_atmosferica_DOS.ipynb",
      "provenance": [],
      "collapsed_sections": []
    },
    "kernelspec": {
      "name": "python3",
      "display_name": "Python 3"
    },
    "language_info": {
      "name": "python"
    }
  },
  "cells": [
    {
      "cell_type": "markdown",
      "source": [
        "\n",
        "\n",
        "\n",
        "*   Código para cálculo de correção atmosférica por modelo empírico (DOS).\n",
        "*   Além da correção, o código contempla a comparação entre o método implementado e o derivado da biblioteca RSGISlib, utilizado no workshop.\n",
        "\n",
        "\n",
        "\n",
        "*   A comparação foi feita por similaridade entre histogramas e estatística descritiva das bandas. 🛰 📡 🌎\n",
        "\n",
        "\n",
        "\n",
        "\n",
        "\n",
        "---\n",
        "\n",
        "\n",
        "Autores: Carlos Lamarque, Gustavo Ferreira e Gustavo Baptista\n",
        "\n",
        "\n"
      ],
      "metadata": {
        "id": "DmJGgU3Nupw1"
      }
    },
    {
      "cell_type": "markdown",
      "source": [
        "# Construção da função do método DOS (primeira abordagem)"
      ],
      "metadata": {
        "id": "91qbhesH-OzF"
      }
    },
    {
      "cell_type": "code",
      "source": [
        "#Instalação de bibliotecas\n",
        "!pip install spectral -q\n",
        "!pip install rasterio -q"
      ],
      "metadata": {
        "id": "Rffi6jnASu6I",
        "colab": {
          "base_uri": "https://localhost:8080/"
        },
        "outputId": "fd7da00d-923e-4f31-9874-4b98a58ac053"
      },
      "execution_count": null,
      "outputs": [
        {
          "output_type": "stream",
          "name": "stdout",
          "text": [
            "\u001b[K     |████████████████████████████████| 212 kB 5.2 MB/s \n",
            "\u001b[K     |████████████████████████████████| 19.3 MB 1.2 MB/s \n",
            "\u001b[?25h"
          ]
        }
      ]
    },
    {
      "cell_type": "code",
      "source": [
        "# Importação de bibliotecas/métodos \n",
        "from spectral import imshow\n",
        "import tifffile as tif\n",
        "import numpy as np\n",
        "import rasterio as rio\n",
        "import matplotlib.pyplot as plt\n"
      ],
      "metadata": {
        "id": "HgJdq4MK52xF"
      },
      "execution_count": null,
      "outputs": []
    },
    {
      "cell_type": "code",
      "source": [
        "# Leitura das imagens original\n",
        "img_ori = tif.imread('/content/drive/MyDrive/Colab Notebooks/Curso_PDI_Python/correção atmosférica/L71221071_07120010720_DN.tif')"
      ],
      "metadata": {
        "id": "G_sChZSdvVMA"
      },
      "execution_count": null,
      "outputs": []
    },
    {
      "cell_type": "code",
      "source": [
        "img_ori.shape"
      ],
      "metadata": {
        "colab": {
          "base_uri": "https://localhost:8080/"
        },
        "id": "4dz1Lqqjxwgt",
        "outputId": "e18c7919-f79e-44bb-fb7e-8ce09ccbb4ad"
      },
      "execution_count": null,
      "outputs": [
        {
          "output_type": "execute_result",
          "data": {
            "text/plain": [
              "(6, 1233, 1520)"
            ]
          },
          "metadata": {},
          "execution_count": 4
        }
      ]
    },
    {
      "cell_type": "code",
      "source": [
        "# Metadados\n",
        "img_original_meta = rio.open('/content/drive/MyDrive/Colab Notebooks/Curso_PDI_Python/correção atmosférica/L71221071_07120010720_DN.tif')\n",
        "meta = img_original_meta.profile\n",
        "meta"
      ],
      "metadata": {
        "id": "HWA7MB7b-Gk3",
        "colab": {
          "base_uri": "https://localhost:8080/"
        },
        "outputId": "d7d81648-cee3-480b-860a-b10047607ed9"
      },
      "execution_count": null,
      "outputs": [
        {
          "output_type": "execute_result",
          "data": {
            "text/plain": [
              "{'driver': 'GTiff', 'dtype': 'uint8', 'nodata': None, 'width': 1520, 'height': 1233, 'count': 6, 'crs': CRS.from_epsg(32723), 'transform': Affine(30.0, 0.0, 160665.0,\n",
              "       0.0, -30.0, 8279275.0), 'tiled': False, 'interleave': 'band'}"
            ]
          },
          "metadata": {},
          "execution_count": 5
        }
      ]
    },
    {
      "cell_type": "code",
      "source": [
        "# Mudança de formato de bandas x linhas x colunas para linhas x colunas x bandas\n",
        "img_ori1 = img_ori.swapaxes(1,0)\n",
        "img_ori = img_ori1.swapaxes(2,1)\n",
        "img_ori.shape"
      ],
      "metadata": {
        "colab": {
          "base_uri": "https://localhost:8080/"
        },
        "id": "nn-Zt4NY8dCH",
        "outputId": "1679e583-312b-48f6-d76b-28116e804ab9"
      },
      "execution_count": null,
      "outputs": [
        {
          "output_type": "execute_result",
          "data": {
            "text/plain": [
              "(1233, 1520, 6)"
            ]
          },
          "metadata": {},
          "execution_count": 6
        }
      ]
    },
    {
      "cell_type": "code",
      "source": [
        "# Obtenção de dados estatísticos\n",
        "l_min=[]\n",
        "l_per=[]\n",
        "for i in range(img_ori.shape[2]):\n",
        "  min = img_ori[:,:,i].min()\n",
        "  l_min.append(min)\n",
        "  per = (np.percentile(img_ori[:,:,i], 1))\n",
        "  l_per.append(per)"
      ],
      "metadata": {
        "id": "mqucCFiIRF-a"
      },
      "execution_count": null,
      "outputs": []
    },
    {
      "cell_type": "code",
      "source": [
        "# Correção das bandas (usando um FOR melhora o código)\n",
        "img_ori1 = img_ori[:, :, 0]\n",
        "img_corr1 = img_ori1 - l_per[0]\n",
        "img_corr1 = np.where(img_corr1 > 0, img_corr1, 1)\n",
        "\n",
        "img_ori2 = img_ori[:, :, 1]\n",
        "img_corr2 = img_ori2 - l_per[1]\n",
        "img_corr2 = np.where(img_corr2 > 0, img_corr2, 1)\n",
        "\n",
        "img_ori3 = img_ori[:, :, 2]\n",
        "img_corr3 = img_ori3 - l_per[2]\n",
        "img_corr3 = np.where(img_corr3 > 0, img_corr3, 1)\n",
        "\n",
        "img_ori4 = img_ori[:, :, 3]\n",
        "img_corr4 = img_ori4 - l_per[3]\n",
        "img_corr4 = np.where(img_corr4 > 0, img_corr4, 1)"
      ],
      "metadata": {
        "id": "oEvaFzx-RIBc"
      },
      "execution_count": null,
      "outputs": []
    },
    {
      "cell_type": "code",
      "source": [
        "# Empilhamento das bandas corrigidas\n",
        "stack_img_corr1 = np.dstack([img_corr1, img_corr2, img_corr3, img_corr4, img_corr5, img_corr7])"
      ],
      "metadata": {
        "id": "AVsJUHPmRKuC"
      },
      "execution_count": null,
      "outputs": []
    },
    {
      "cell_type": "code",
      "source": [
        "# Visualização de uma composição colorida da imagem corrigida\n",
        "imshow(stack_img_corr1 , (2,3,1), figsize=(12,8))"
      ],
      "metadata": {
        "id": "ctAqK98_RMOn"
      },
      "execution_count": null,
      "outputs": []
    },
    {
      "cell_type": "code",
      "source": [
        "# Voltando para o formato bandas x linhas x colunas\n",
        "stack_lama = stack_img_corr1.swapaxes(2,1)\n",
        "stack_lama = stack_lama.swapaxes(1,0)\n",
        "stack_lama.shape"
      ],
      "metadata": {
        "id": "VqneiY_vRP9O"
      },
      "execution_count": null,
      "outputs": []
    },
    {
      "cell_type": "code",
      "source": [
        "# Gravação da imagem corrigida em disco\n",
        "with rio.open('imagem_corr_Lama.tif', 'w', **meta) as src:\n",
        "  src.write(stack_lama)"
      ],
      "metadata": {
        "id": "KG6f6_OmRRT2"
      },
      "execution_count": null,
      "outputs": []
    },
    {
      "cell_type": "markdown",
      "source": [
        "# Código retrabalhado"
      ],
      "metadata": {
        "id": "BXQFkPlOEQJs"
      }
    },
    {
      "cell_type": "code",
      "source": [
        "# Padronizando tamanho de figuras\n",
        "import matplotlib\n",
        "matplotlib.rcParams['figure.figsize'] = (12,8)"
      ],
      "metadata": {
        "id": "o9jTJXd3So3G"
      },
      "execution_count": null,
      "outputs": []
    },
    {
      "cell_type": "code",
      "source": [
        "# Funções para redimensionamento\n",
        "from rasterio.plot import reshape_as_image, reshape_as_raster"
      ],
      "metadata": {
        "id": "xiJqhJAeRXXy"
      },
      "execution_count": null,
      "outputs": []
    },
    {
      "cell_type": "code",
      "source": [
        "# Lendo imagem empilhada\n",
        "with rio.open('/content/drive/MyDrive/Dados_CBERS/stack.tif') as src:\n",
        "  cbers = src.read()\n",
        "  meta = src.profile"
      ],
      "metadata": {
        "id": "lraeErTDRbFc"
      },
      "execution_count": null,
      "outputs": []
    },
    {
      "cell_type": "code",
      "source": [
        "# Redimensionando\n",
        "cbers_reshape = reshape_as_image(cbers)\n",
        "cbers_reshape.shape"
      ],
      "metadata": {
        "colab": {
          "base_uri": "https://localhost:8080/"
        },
        "id": "J7fYR3wVRjJg",
        "outputId": "9ab2cf18-05b7-47df-90c3-b8809c082df4"
      },
      "execution_count": null,
      "outputs": [
        {
          "output_type": "execute_result",
          "data": {
            "text/plain": [
              "(3306, 3395, 4)"
            ]
          },
          "metadata": {},
          "execution_count": 7
        }
      ]
    },
    {
      "cell_type": "code",
      "source": [
        "# Função para a correção atmosférica\n",
        "def DOS(img):\n",
        "  l_per = []\n",
        "  img_corr = np.zeros_like(img)\n",
        "  for i in range(img.shape[2]):\n",
        "    per = (np.percentile(img[:,:,i], 1))\n",
        "    l_per.append(per)\n",
        "    img_corr[:,:,i] = img[:,:,i] - l_per[i]\n",
        "    img_corr[:,:,i] = np.where(img_corr[:,:,i] > 0, img_corr[:,:,i] , 0)\n",
        "  return img_corr"
      ],
      "metadata": {
        "id": "NLdjiBKNiYcg"
      },
      "execution_count": null,
      "outputs": []
    },
    {
      "cell_type": "code",
      "source": [
        "# Aplicando função\n",
        "dos = DOS(cbers_reshape)"
      ],
      "metadata": {
        "id": "35CYbLTomIdb"
      },
      "execution_count": null,
      "outputs": []
    },
    {
      "cell_type": "code",
      "source": [
        "# Visualizando espectros\n",
        "x = [0.485, 0.555, 0.66, 0.83]\n",
        "\n",
        "fig, ax = plt.subplots(1,2)\n",
        "ax[0].plot(x, cbers_reshape[1758,2146,:])\n",
        "ax[0].set_xticks(x)\n",
        "ax[1].plot(x, dos[1758,2146,:])\n",
        "ax[1].set_xticks(x)\n",
        "plt.show()"
      ],
      "metadata": {
        "id": "cSQ6CIIJmWih"
      },
      "execution_count": null,
      "outputs": []
    },
    {
      "cell_type": "code",
      "source": [
        "# Visualização de uma composição colorida da imagem corrigida\n",
        "imshow(dos, (2,3,1))"
      ],
      "metadata": {
        "id": "c3gJ6LU3QrHC"
      },
      "execution_count": null,
      "outputs": []
    },
    {
      "cell_type": "code",
      "source": [
        "# Visualização de uma composição colorida da imagem não corrigida\n",
        "imshow(cbers_reshape, (2,3,1))"
      ],
      "metadata": {
        "id": "59P9Md_Gpp3o"
      },
      "execution_count": null,
      "outputs": []
    },
    {
      "cell_type": "code",
      "source": [
        "# Redimensionando para formato legível pela rasterio\n",
        "dos_raster = reshape_as_raster(dos)"
      ],
      "metadata": {
        "id": "WCWA0eDsqHkn"
      },
      "execution_count": null,
      "outputs": []
    },
    {
      "cell_type": "code",
      "source": [
        "# Gravação da imagem corrigida em disco\n",
        "meta.update({'nodata':-9999})\n",
        "with rio.open('cbers_DOS.tif', 'w', **meta) as src:\n",
        "  src.write(dos_raster)"
      ],
      "metadata": {
        "id": "oB2qLmvHt9ZA"
      },
      "execution_count": null,
      "outputs": []
    },
    {
      "cell_type": "markdown",
      "source": [
        "# Comparação entre histogramas"
      ],
      "metadata": {
        "id": "wZJZ0v_vQ4i1"
      }
    },
    {
      "cell_type": "code",
      "source": [
        "# Bibliotecas\n",
        "import cv2\n",
        "import tifffile as tif\n",
        "import pandas as pd"
      ],
      "metadata": {
        "id": "VW8CYEzG4X94"
      },
      "execution_count": null,
      "outputs": []
    },
    {
      "cell_type": "code",
      "source": [
        "# Lendo arquivos\n",
        "DOS_1 = tif.imread('/content/cbers_DOS.tif')\n",
        "DOS_2 = tif.imread('/content/drive/MyDrive/Dados_CBERS/DOS.tif')"
      ],
      "metadata": {
        "id": "UnnDbZNz4jKt"
      },
      "execution_count": null,
      "outputs": []
    },
    {
      "cell_type": "code",
      "source": [
        "# Calculando histogramas com OpenCV\n",
        "DOS_1_hist = [cv2.calcHist([DOS_1[:,:,i].astype('float32')],[0],None,[500],[0.0,1024.0]) for i in range(DOS_1.shape[2])]\n",
        "DOS_2_hist = [cv2.calcHist([DOS_2[:,:,i].astype('float32')],[0],None,[500],[0.0,1024.0]) for i in range(DOS_2.shape[2])]"
      ],
      "metadata": {
        "id": "owSQUr19582J"
      },
      "execution_count": null,
      "outputs": []
    },
    {
      "cell_type": "code",
      "source": [
        "# Visualizando histogramas\n",
        "for i in range(len(DOS_1_hist)):\n",
        "  plt.plot(DOS_1_hist[i])\n",
        "  plt.plot(DOS_2_hist[i])\n",
        "plt.show()"
      ],
      "metadata": {
        "id": "shFt2MNAOHz0"
      },
      "execution_count": null,
      "outputs": []
    },
    {
      "cell_type": "code",
      "source": [
        "# Calculando métricas de comparação\n",
        "corr = [cv2.compareHist(DOS_1_hist[i], DOS_2_hist[i], cv2.HISTCMP_CORREL) for i in range(len(DOS_1_hist))]\n",
        "chi = [cv2.compareHist(DOS_1_hist[i], DOS_2_hist[i], cv2.HISTCMP_CHISQR) for i in range(len(DOS_1_hist))]  \n",
        "inter = [cv2.compareHist(DOS_1_hist[i], DOS_2_hist[i], cv2.HISTCMP_INTERSECT) for i in range(len(DOS_1_hist))] \n",
        "bhatt = [cv2.compareHist(DOS_1_hist[i], DOS_2_hist[i], cv2.HISTCMP_BHATTACHARYYA) for i in range(len(DOS_1_hist))]"
      ],
      "metadata": {
        "id": "G0y8GXKh42rX"
      },
      "execution_count": null,
      "outputs": []
    },
    {
      "cell_type": "code",
      "source": [
        "# Armazenando métricas em um DataFrame\n",
        "df = pd.DataFrame()\n",
        "df['Método'] = ['Correlação', 'Chi-quadrado', 'Intersecção', \n",
        "                'Distância de Bhattacharyya']\n",
        "for i in range(len(DOS_1_hist)):\n",
        "  df['B1'] = [corr[i],chi[i],inter[i],bhatt[i]]\n",
        "  df['B2'] = [corr[i],chi[i],inter[i],bhatt[i]]\n",
        "  df['B3'] = [corr[i],chi[i],inter[i],bhatt[i]]\n",
        "  df['B4'] = [corr[i],chi[i],inter[i],bhatt[i]]"
      ],
      "metadata": {
        "id": "q3lfTZL55S14"
      },
      "execution_count": null,
      "outputs": []
    },
    {
      "cell_type": "code",
      "source": [
        "# Visualizando DataFrame\n",
        "df.head()"
      ],
      "metadata": {
        "id": "qvmZoXLP5UL3"
      },
      "execution_count": null,
      "outputs": []
    },
    {
      "cell_type": "markdown",
      "source": [
        "# Estatística descritiva"
      ],
      "metadata": {
        "id": "hVqXdQRsjNbI"
      }
    },
    {
      "cell_type": "code",
      "source": [
        "# Conversão de 3 dimensões para 2\n",
        "DOS_1_2D = DOS_1.reshape(DOS_1.shape[0] * DOS_1.shape[1], DOS_1.shape[2])\n",
        "DOS_2_2D = DOS_2.reshape(DOS_2.shape[0] * DOS_2.shape[1], DOS_2.shape[2])"
      ],
      "metadata": {
        "id": "2vsRKkNJjLoo"
      },
      "execution_count": null,
      "outputs": []
    },
    {
      "cell_type": "code",
      "source": [
        "# Formatando saída de valores numéricos\n",
        "pd.options.display.float_format = '{:,.2f}'.format"
      ],
      "metadata": {
        "id": "JgGmJz7Kpm7i"
      },
      "execution_count": null,
      "outputs": []
    },
    {
      "cell_type": "code",
      "source": [
        "# Extraindo estatísticas do DOS_1\n",
        "colunas = ['B1','B2','B3','B4']\n",
        "\n",
        "df_DOS1 = pd.DataFrame(DOS_1_2D, columns=colunas)\n",
        "df_DOS1.describe()"
      ],
      "metadata": {
        "id": "CCT0uYKjncL4"
      },
      "execution_count": null,
      "outputs": []
    },
    {
      "cell_type": "code",
      "source": [
        "# Extraindo estatísticas do DOS_2\n",
        "df_DOS2 = pd.DataFrame(DOS_2_2D, columns=colunas)\n",
        "df_DOS2.describe()"
      ],
      "metadata": {
        "id": "BTF30Oeyo3O4"
      },
      "execution_count": null,
      "outputs": []
    },
    {
      "cell_type": "markdown",
      "source": [
        "# Muito Obrigado!!!"
      ],
      "metadata": {
        "id": "7c2T1Oggp_H0"
      }
    }
  ]
}