{
  "nbformat": 4,
  "nbformat_minor": 0,
  "metadata": {
    "colab": {
      "name": "Hough_transform.ipynb",
      "provenance": []
    },
    "kernelspec": {
      "name": "python3",
      "display_name": "Python 3"
    },
    "language_info": {
      "name": "python"
    }
  },
  "cells": [
    {
      "cell_type": "code",
      "source": [
        "import matplotlib\n",
        "#Configurando o tamanho das imagens na janela de output\n",
        "matplotlib.rcParams['figure.figsize'] = (15,10)"
      ],
      "metadata": {
        "id": "WRgMJHS0GnP8"
      },
      "execution_count": null,
      "outputs": []
    },
    {
      "cell_type": "code",
      "source": [
        "# Bibliotecas\n",
        "import tifffile as tif\n",
        "import numpy as np\n",
        "import matplotlib.pyplot as plt\n",
        "from skimage.transform import hough_circle, hough_circle_peaks\n",
        "from skimage.feature import canny\n",
        "from skimage.draw import circle_perimeter"
      ],
      "metadata": {
        "id": "47Zb8UYsIzZ7"
      },
      "execution_count": null,
      "outputs": []
    },
    {
      "cell_type": "code",
      "source": [
        "#Leitura da imagem\n",
        "img = tif.imread('pivos.tif')"
      ],
      "metadata": {
        "id": "ULc0TZUwJxCi"
      },
      "execution_count": null,
      "outputs": []
    },
    {
      "cell_type": "code",
      "source": [
        "#Função de expansão\n",
        "def expansao(img, percent_ini=5, percent_fim=95):\n",
        "    s = np.zeros_like(img)\n",
        "    x,y = 0,255  \n",
        "    w = np.percentile(img, percent_ini)\n",
        "    z = np.percentile(img, percent_fim)        \n",
        "    p = x + (img - w) * (y - x) / (z - w)    \n",
        "    p[p<x] = x\n",
        "    p[p>y] = y\n",
        "    s = p\n",
        "    return s"
      ],
      "metadata": {
        "id": "gt_td2TeJxXt"
      },
      "execution_count": null,
      "outputs": []
    },
    {
      "cell_type": "code",
      "source": [
        "#Expandindo banda 5\n",
        "band5 = expansao(-1/img[:,:,4])"
      ],
      "metadata": {
        "id": "TZ2Lq5s0J0tQ"
      },
      "execution_count": null,
      "outputs": []
    },
    {
      "cell_type": "code",
      "source": [
        "#Visualizando banda 5 normal\n",
        "plt.imshow(img[:,:,4], cmap='gray')"
      ],
      "metadata": {
        "id": "jzFqDIQbJ-iA"
      },
      "execution_count": null,
      "outputs": []
    },
    {
      "cell_type": "code",
      "source": [
        "#Visualizando banda 5 expandida e invertida\n",
        "plt.imshow(band5, cmap='gray')"
      ],
      "metadata": {
        "id": "W8qn_r06KC8U"
      },
      "execution_count": null,
      "outputs": []
    },
    {
      "cell_type": "code",
      "source": [
        "#Extraindo bordas da imagem\n",
        "edges = canny(band5, sigma=1, low_threshold=0, high_threshold=1)\n",
        "plt.imshow(edges, cmap='Blues')"
      ],
      "metadata": {
        "id": "UWFNTJCyI28e"
      },
      "execution_count": null,
      "outputs": []
    },
    {
      "cell_type": "code",
      "source": [
        "#Definindo valores de raio [1,2,3,4,5...20]\n",
        "hough_rad = np.arange(1, 21, 1)\n",
        "\n",
        "#Rodando a transformada\n",
        "hough_res = hough_circle(edges, hough_rad, normalize=False)\n"
      ],
      "metadata": {
        "id": "FOTHsqsUKY9V"
      },
      "execution_count": null,
      "outputs": []
    },
    {
      "cell_type": "code",
      "source": [
        "#Selecionando os 18 círculos mais representativos\n",
        "accum, cx, cy, rad = hough_circle_peaks(hough_res, hough_rad,\n",
        "                                           total_num_peaks=18)"
      ],
      "metadata": {
        "id": "JyIBTeC0Kbrl"
      },
      "execution_count": null,
      "outputs": []
    },
    {
      "cell_type": "code",
      "execution_count": null,
      "metadata": {
        "id": "O__oZXhOHRuN"
      },
      "outputs": [],
      "source": [
        "#Visualizando resultado\n",
        "fig, ax = plt.subplots(1,1)\n",
        "image = color.gray2rgb(img[:,:,4]/255)\n",
        "for center_y, center_x, radius in zip(cy, cx, rad):\n",
        "    circy, circx = circle_perimeter(center_y, center_x, radius,\n",
        "                                    shape=image.shape)\n",
        "    # Desenhando em cor vermelha\n",
        "    image[circy, circx] = (255, 0, 0)\n",
        "\n",
        "ax.imshow(image, cmap=\"gray\")\n",
        "plt.show()"
      ]
    }
  ]
}