{
  "nbformat": 4,
  "nbformat_minor": 0,
  "metadata": {
    "colab": {
      "name": "Fatiamento.ipynb",
      "provenance": [],
      "collapsed_sections": []
    },
    "kernelspec": {
      "name": "python3",
      "display_name": "Python 3"
    },
    "language_info": {
      "name": "python"
    }
  },
  "cells": [
    {
      "cell_type": "code",
      "metadata": {
        "colab": {
          "base_uri": "https://localhost:8080/"
        },
        "id": "A7iOOG4xo2bG",
        "outputId": "021b34e6-24c1-415c-da7b-696fe6c4f590"
      },
      "source": [
        "!pip install spectral"
      ],
      "execution_count": null,
      "outputs": [
        {
          "output_type": "stream",
          "name": "stdout",
          "text": [
            "Collecting spectral\n",
            "  Downloading spectral-0.22.2.tar.gz (184 kB)\n",
            "\u001b[?25l\r\u001b[K     |█▉                              | 10 kB 23.7 MB/s eta 0:00:01\r\u001b[K     |███▋                            | 20 kB 30.3 MB/s eta 0:00:01\r\u001b[K     |█████▍                          | 30 kB 25.5 MB/s eta 0:00:01\r\u001b[K     |███████▏                        | 40 kB 19.6 MB/s eta 0:00:01\r\u001b[K     |█████████                       | 51 kB 8.5 MB/s eta 0:00:01\r\u001b[K     |██████████▊                     | 61 kB 9.8 MB/s eta 0:00:01\r\u001b[K     |████████████▌                   | 71 kB 9.4 MB/s eta 0:00:01\r\u001b[K     |██████████████▎                 | 81 kB 10.4 MB/s eta 0:00:01\r\u001b[K     |████████████████                | 92 kB 10.8 MB/s eta 0:00:01\r\u001b[K     |█████████████████▉              | 102 kB 8.9 MB/s eta 0:00:01\r\u001b[K     |███████████████████▋            | 112 kB 8.9 MB/s eta 0:00:01\r\u001b[K     |█████████████████████▍          | 122 kB 8.9 MB/s eta 0:00:01\r\u001b[K     |███████████████████████▏        | 133 kB 8.9 MB/s eta 0:00:01\r\u001b[K     |█████████████████████████       | 143 kB 8.9 MB/s eta 0:00:01\r\u001b[K     |██████████████████████████▊     | 153 kB 8.9 MB/s eta 0:00:01\r\u001b[K     |████████████████████████████▌   | 163 kB 8.9 MB/s eta 0:00:01\r\u001b[K     |██████████████████████████████▎ | 174 kB 8.9 MB/s eta 0:00:01\r\u001b[K     |████████████████████████████████| 184 kB 8.9 MB/s \n",
            "\u001b[?25hRequirement already satisfied: numpy in /usr/local/lib/python3.7/dist-packages (from spectral) (1.19.5)\n",
            "Building wheels for collected packages: spectral\n",
            "  Building wheel for spectral (setup.py) ... \u001b[?25l\u001b[?25hdone\n",
            "  Created wheel for spectral: filename=spectral-0.22.2-py3-none-any.whl size=212954 sha256=7a41078f2fc8345a46dfa8f7e09d2f2c3325d747d452fac68f6f8eac3f13d585\n",
            "  Stored in directory: /root/.cache/pip/wheels/8b/3c/53/b5300d56bee75c16de9b19cd481c419cc63929f2e4019a6235\n",
            "Successfully built spectral\n",
            "Installing collected packages: spectral\n",
            "Successfully installed spectral-0.22.2\n"
          ]
        }
      ]
    },
    {
      "cell_type": "code",
      "metadata": {
        "id": "TfGMLDAKFjui"
      },
      "source": [
        "matplotlib.rcParams['figure.figsize'] = (15,10)"
      ],
      "execution_count": null,
      "outputs": []
    },
    {
      "cell_type": "code",
      "metadata": {
        "id": "r6KC2NXqvzfZ"
      },
      "source": [
        "# Bibliotecas\n",
        "import numpy as np\n",
        "import tifffile as tiff\n",
        "import matplotlib.pyplot as plt\n",
        "from spectral import imshow\n",
        "import matplotlib\n",
        "from matplotlib import colors"
      ],
      "execution_count": null,
      "outputs": []
    },
    {
      "cell_type": "code",
      "metadata": {
        "id": "uEm0NMmAwEl_"
      },
      "source": [
        "# Leitura da imagem\n",
        "img = tiff.imread('/content/multi_r_xs_psm.tif')"
      ],
      "execution_count": null,
      "outputs": []
    },
    {
      "cell_type": "code",
      "metadata": {
        "id": "1XzDZoQkFxUt"
      },
      "source": [
        "# Visualizando imagem\n",
        "imshow(img, (0,1,2), stretch=(0.02, 0.98))"
      ],
      "execution_count": null,
      "outputs": []
    },
    {
      "cell_type": "code",
      "metadata": {
        "id": "1Sj2uMnOCiWr"
      },
      "source": [
        "# Pseudo-cor\n",
        "R = ( 0.1 * img[:,:,0] ) + ( 0.9 * img[:,:,1] ) + ( 0.0 * img[:,:,2])\n",
        "G = ( 0.3 * img[:,:,0] ) + ( 0.0 * img[:,:,1] ) + ( 0.7 * img[:,:,2])\n",
        "B = ( 0.1 * img[:,:,0] ) + ( 0.1 * img[:,:,1] ) + ( 0.8 * img[:,:,2])\n",
        "\n",
        "# Empilhando imagens\n",
        "multi = np.dstack([B,G,R,img[:,:,0]])"
      ],
      "execution_count": null,
      "outputs": []
    },
    {
      "cell_type": "code",
      "metadata": {
        "id": "fuTiBPdebQ-W"
      },
      "source": [
        "# Visualizando pseudo-cor\n",
        "imshow(multi, (0,1,2),stretch=(0.02,0.98))"
      ],
      "execution_count": null,
      "outputs": []
    },
    {
      "cell_type": "code",
      "metadata": {
        "id": "kDiUjYgjDjWz"
      },
      "source": [
        "# Cálculo do NDVI\n",
        "ndvi = ( multi[:,:,3] - multi[:,:,2] )  /  ( multi[:,:,3] + multi[:,:,2] )\n",
        "\n",
        "# Cálculo do PRI\n",
        "pri = ( multi[:,:,0] - multi[:,:,1] )  /  ( multi[:,:,0] + multi[:,:,1] )"
      ],
      "execution_count": null,
      "outputs": []
    },
    {
      "cell_type": "code",
      "metadata": {
        "id": "q08v0pK2D2le"
      },
      "source": [
        "# Cálculo do sPri\n",
        "spri = (pri + 1) / 2\n",
        "\n",
        "# Cálculo do CO2flux\n",
        "CO2flux = (ndvi * spri)"
      ],
      "execution_count": null,
      "outputs": []
    },
    {
      "cell_type": "code",
      "metadata": {
        "id": "jkwfk-UAGM_j"
      },
      "source": [
        "# Visualizando histograma CO2flux\n",
        "plt.hist(CO2flux.flatten(), bins=300)\n",
        "plt.show()"
      ],
      "execution_count": null,
      "outputs": []
    },
    {
      "cell_type": "code",
      "metadata": {
        "id": "0s9z0SndFX9k"
      },
      "source": [
        "# Visualizando CO2flux com intervalos contínuos \n",
        "plt.imshow(CO2flux, cmap='jet_r', vmin=np.quantile(CO2flux, 0), vmax = np.quantile(CO2flux, 1))\n",
        "plt.show()"
      ],
      "execution_count": null,
      "outputs": []
    },
    {
      "cell_type": "code",
      "metadata": {
        "id": "oFV_3TtYGyDG"
      },
      "source": [
        "# Visualizando CO2flux com intervalos discretos\n",
        "cmap = colors.ListedColormap(['#d7191c', '#fd7a00','#25dd08','#1a4f00'])\n",
        "bounds=[np.quantile(CO2flux, 0),np.quantile(CO2flux, 0.25),np.quantile(CO2flux, 0.5),\n",
        "        np.quantile(CO2flux, 0.75), np.quantile(CO2flux, 1)]\n",
        "\n",
        "norm = colors.BoundaryNorm(bounds, cmap.N)\n",
        "\n",
        "im = plt.imshow(CO2flux,cmap=cmap, norm=norm)"
      ],
      "execution_count": null,
      "outputs": []
    }
  ]
}