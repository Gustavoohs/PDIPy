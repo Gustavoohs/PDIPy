{
  "nbformat": 4,
  "nbformat_minor": 0,
  "metadata": {
    "colab": {
      "provenance": []
    },
    "kernelspec": {
      "name": "python3",
      "display_name": "Python 3"
    },
    "language_info": {
      "name": "python"
    }
  },
  "cells": [
    {
      "cell_type": "code",
      "execution_count": null,
      "metadata": {
        "id": "teb-x1Xp8NVc"
      },
      "outputs": [],
      "source": [
        "!pip install -q pyrsgis rasterio"
      ]
    },
    {
      "cell_type": "code",
      "source": [
        "# Bibliotecas\n",
        "import os\n",
        "import numpy as np\n",
        "from tensorflow import keras\n",
        "import matplotlib.pyplot as plt\n",
        "import rasterio as rio\n",
        "from pyrsgis import raster\n",
        "from pyrsgis.convert import changeDimension\n",
        "from sklearn.metrics import confusion_matrix, precision_score, recall_score\n",
        "from sklearn.model_selection import train_test_split"
      ],
      "metadata": {
        "id": "vNzF78Kw9SoN"
      },
      "execution_count": null,
      "outputs": []
    },
    {
      "cell_type": "code",
      "source": [
        "# Arquivos\n",
        "area_treino_teste = '/content/drive/MyDrive/Sentinel-2/pnb_queimada.tif'\n",
        "poligono_queimada = '/content/drive/MyDrive/Sentinel-2/queimada.tif'\n",
        "area_total = '/content/drive/MyDrive/Sentinel-2/DF_S2_mosaico.tif'\n",
        "\n",
        "# Lendo como array\n",
        "raster1, treino = raster.read(area_treino_teste, bands='all')\n",
        "raster2, queimada = raster.read(poligono_queimada, bands=1)\n",
        "raster3, total = raster.read(area_total, bands='all')\n",
        "\n",
        "# Substituindo NoData por zero nos dados rotulados\n",
        "queimada = (queimada == 1).astype(int)"
      ],
      "metadata": {
        "id": "83XKm1e29XwG"
      },
      "execution_count": null,
      "outputs": []
    },
    {
      "cell_type": "code",
      "source": [
        "# Redimensionando dados para 1-D\n",
        "treino = changeDimension(treino)\n",
        "total = changeDimension(total)\n",
        "queimada = changeDimension(queimada)\n",
        "\n",
        "# Split treino e test\n",
        "xTrain, xTest, yTrain, yTest = train_test_split(treino, \n",
        "                                                queimada, test_size=0.4)\n",
        "# Redimensionando os dados para o shape que o keras trabalha\n",
        "xTrain = xTrain.reshape((xTrain.shape[0], 1, xTrain.shape[1]))\n",
        "xTest = xTest.reshape((xTest.shape[0], 1, xTest.shape[1]))\n",
        "total = total.reshape((total.shape[0], 1, total.shape[1]))"
      ],
      "metadata": {
        "colab": {
          "base_uri": "https://localhost:8080/"
        },
        "id": "u4-RD10g_Wx1",
        "outputId": "a6b3569e-db0d-4b2a-9aae-187e438a40bc"
      },
      "execution_count": null,
      "outputs": [
        {
          "output_type": "stream",
          "name": "stdout",
          "text": [
            "The \"changeDimension()\" function has moved to \"array_to_table()\" and will be deprecated in future versions. Please check the pyrsgis documentation at https://pyrsgis.readthedocs.io/en/master/ for more details.\n",
            "The \"changeDimension()\" function has moved to \"array_to_table()\" and will be deprecated in future versions. Please check the pyrsgis documentation at https://pyrsgis.readthedocs.io/en/master/ for more details.\n",
            "The \"changeDimension()\" function has moved to \"array_to_table()\" and will be deprecated in future versions. Please check the pyrsgis documentation at https://pyrsgis.readthedocs.io/en/master/ for more details.\n"
          ]
        }
      ]
    },
    {
      "cell_type": "code",
      "source": [
        "# Parametrizando a rede\n",
        "model = keras.Sequential([\n",
        "    keras.layers.Flatten(input_shape=(1, treino.shape[1])),\n",
        "    keras.layers.Dense(32, activation='relu'),\n",
        "    keras.layers.Dense(16),\n",
        "    keras.layers.Dense(8),\n",
        "    keras.layers.Dense(4),\n",
        "    keras.layers.Dense(2, activation='softmax')])\n",
        "\n",
        "# Compilando modelo\n",
        "model.compile(optimizer=\"adam\", loss=\"sparse_categorical_crossentropy\", metrics=[\"accuracy\"])\n",
        "\n",
        "# Rodando modelo\n",
        "model.fit(xTrain, yTrain, epochs=5)"
      ],
      "metadata": {
        "colab": {
          "base_uri": "https://localhost:8080/"
        },
        "id": "pl-WFXMmAOZI",
        "outputId": "177c134c-d87b-4a38-9f80-fa2affe55e72"
      },
      "execution_count": null,
      "outputs": [
        {
          "output_type": "stream",
          "name": "stdout",
          "text": [
            "Epoch 1/5\n",
            "127032/127032 [==============================] - 236s 2ms/step - loss: 0.0337 - accuracy: 0.9914\n",
            "Epoch 2/5\n",
            "127032/127032 [==============================] - 226s 2ms/step - loss: 0.0127 - accuracy: 0.9951\n",
            "Epoch 3/5\n",
            "127032/127032 [==============================] - 212s 2ms/step - loss: 0.0116 - accuracy: 0.9956\n",
            "Epoch 4/5\n",
            "127032/127032 [==============================] - 225s 2ms/step - loss: 0.0110 - accuracy: 0.9959\n",
            "Epoch 5/5\n",
            "127032/127032 [==============================] - 231s 2ms/step - loss: 0.0105 - accuracy: 0.9962\n"
          ]
        },
        {
          "output_type": "execute_result",
          "data": {
            "text/plain": [
              "<keras.callbacks.History at 0x7f1eae793d30>"
            ]
          },
          "metadata": {},
          "execution_count": 5
        }
      ]
    },
    {
      "cell_type": "code",
      "source": [
        "# Realizando predição em dados de teste\n",
        "predict_teste = model.predict(xTest)\n",
        "predict_teste = predict_teste[:,1].astype(int)\n",
        "\n",
        "# Calculando métricas de avaliação\n",
        "precision = precision_score(yTest, predict_teste)\n",
        "recall = recall_score(yTest, predict_teste)"
      ],
      "metadata": {
        "colab": {
          "base_uri": "https://localhost:8080/"
        },
        "id": "syjoUiz2BJw8",
        "outputId": "530e61b5-6fca-412a-ee48-9485f9291153"
      },
      "execution_count": null,
      "outputs": [
        {
          "output_type": "stream",
          "name": "stdout",
          "text": [
            "84688/84688 [==============================] - 102s 1ms/step\n"
          ]
        }
      ]
    },
    {
      "cell_type": "code",
      "source": [
        "# Realizando predição na imagem geral\n",
        "predict_total = model.predict(total)\n",
        "predict_total = predict_total[:,1]\n",
        "\n",
        "# Gravando resultado em disco\n",
        "predict_final = np.reshape(predict_total,(raster3.RasterYSize, raster3.RasterXSize))\n",
        "out_File = 'queimada_predict.tif'\n",
        "raster.export(predict_final, raster3, filename=out_File, dtype='float')"
      ],
      "metadata": {
        "colab": {
          "base_uri": "https://localhost:8080/"
        },
        "id": "ZO0WcoOJHlF2",
        "outputId": "05381ad8-c107-43e1-e504-54b63b64f998"
      },
      "execution_count": null,
      "outputs": [
        {
          "output_type": "stream",
          "name": "stdout",
          "text": [
            "2171272/3767513 [================>.............] - ETA: 35:35"
          ]
        }
      ]
    }
  ]
}