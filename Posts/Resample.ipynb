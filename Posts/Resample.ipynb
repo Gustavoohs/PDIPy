{
  "nbformat": 4,
  "nbformat_minor": 0,
  "metadata": {
    "colab": {
      "provenance": []
    },
    "kernelspec": {
      "name": "python3",
      "display_name": "Python 3"
    },
    "language_info": {
      "name": "python"
    }
  },
  "cells": [
    {
      "cell_type": "code",
      "source": [
        "!pip install -q spectral"
      ],
      "metadata": {
        "colab": {
          "base_uri": "https://localhost:8080/"
        },
        "id": "Ak5Ib3l1AqkG",
        "outputId": "ba4fe5b4-96db-486d-e3e7-3d5a98dc95f0"
      },
      "execution_count": 3,
      "outputs": [
        {
          "output_type": "stream",
          "name": "stdout",
          "text": [
            "\u001b[?25l\r\u001b[K     |█▌                              | 10 kB 2.7 MB/s eta 0:00:01\r\u001b[K     |███                             | 20 kB 4.8 MB/s eta 0:00:01\r\u001b[K     |████▋                           | 30 kB 6.8 MB/s eta 0:00:01\r\u001b[K     |██████▏                         | 40 kB 5.8 MB/s eta 0:00:01\r\u001b[K     |███████▊                        | 51 kB 5.2 MB/s eta 0:00:01\r\u001b[K     |█████████▎                      | 61 kB 6.1 MB/s eta 0:00:01\r\u001b[K     |██████████▊                     | 71 kB 5.4 MB/s eta 0:00:01\r\u001b[K     |████████████▎                   | 81 kB 6.0 MB/s eta 0:00:01\r\u001b[K     |█████████████▉                  | 92 kB 4.5 MB/s eta 0:00:01\r\u001b[K     |███████████████▍                | 102 kB 4.9 MB/s eta 0:00:01\r\u001b[K     |█████████████████               | 112 kB 4.9 MB/s eta 0:00:01\r\u001b[K     |██████████████████▌             | 122 kB 4.9 MB/s eta 0:00:01\r\u001b[K     |████████████████████            | 133 kB 4.9 MB/s eta 0:00:01\r\u001b[K     |█████████████████████▌          | 143 kB 4.9 MB/s eta 0:00:01\r\u001b[K     |███████████████████████         | 153 kB 4.9 MB/s eta 0:00:01\r\u001b[K     |████████████████████████▋       | 163 kB 4.9 MB/s eta 0:00:01\r\u001b[K     |██████████████████████████▏     | 174 kB 4.9 MB/s eta 0:00:01\r\u001b[K     |███████████████████████████▊    | 184 kB 4.9 MB/s eta 0:00:01\r\u001b[K     |█████████████████████████████▎  | 194 kB 4.9 MB/s eta 0:00:01\r\u001b[K     |██████████████████████████████▊ | 204 kB 4.9 MB/s eta 0:00:01\r\u001b[K     |████████████████████████████████| 212 kB 4.9 MB/s \n",
            "\u001b[?25h"
          ]
        }
      ]
    },
    {
      "cell_type": "code",
      "execution_count": 4,
      "metadata": {
        "id": "uwJZaruHP1YD"
      },
      "outputs": [],
      "source": [
        "# Bibliotecas\n",
        "import numpy as np\n",
        "import tifffile as tif\n",
        "import matplotlib.pyplot as plt\n",
        "from skimage.transform import rescale\n",
        "from spectral import imshow"
      ]
    },
    {
      "cell_type": "code",
      "source": [
        "# Função para redimensionar imagens\n",
        "def resample(source, target, scale):\n",
        "\n",
        "  scaled = rescale(source, (scale,scale))\n",
        "\n",
        "  if target.shape[0] < scaled.shape[0]:\n",
        "    scaled = scaled[:target.shape[0],:]\n",
        "  else:\n",
        "    target = target[:scaled.shape[0],:]\n",
        "        \n",
        "  if target.shape[1] < scaled.shape[1]:\n",
        "    scaled = scaled[:,:target.shape[1]]\n",
        "  else:\n",
        "    target = target[:,:scaled.shape[1]]\n",
        "  \n",
        "  return scaled"
      ],
      "metadata": {
        "id": "6XtWNLvvRaLy"
      },
      "execution_count": 2,
      "outputs": []
    },
    {
      "cell_type": "code",
      "source": [
        "# Lendo arquivos\n",
        "img = tif.imread('/content/drive/MyDrive/Dados_PDI/CUBO_GEOBIA.tif')\n",
        "vv = tif.imread('/content/S1A_VV.tif')\n",
        "vh = tif.imread('/content/S1A_VH.tif')"
      ],
      "metadata": {
        "id": "rlxEd5jARcb6"
      },
      "execution_count": 5,
      "outputs": []
    },
    {
      "cell_type": "code",
      "source": [
        "# Reamostrando\n",
        "vv_20 = resample(vv, img[:,:,0], 0.6)\n",
        "vh_20 = resample(vh, img[:,:,0], 0.6)"
      ],
      "metadata": {
        "id": "APDJyC6BLtMc"
      },
      "execution_count": 40,
      "outputs": []
    },
    {
      "cell_type": "code",
      "source": [
        "# Empilhando dados\n",
        "stack = np.dstack([img, vv_20, vh_20])"
      ],
      "metadata": {
        "id": "iphtLOlMLpfg"
      },
      "execution_count": 41,
      "outputs": []
    },
    {
      "cell_type": "code",
      "source": [
        "print('Dimensões do cubo: ', img.shape)\n",
        "print('Dimensões da cena VV: ', vv.shape)\n",
        "print('Dimensões da cena VH: ', vh.shape)\n",
        "print('Dimensões da cena VV reamostrada: ', vv_20.shape)\n",
        "print('Dimensões da cena VH reamostrada: ', vh_20.shape)"
      ],
      "metadata": {
        "colab": {
          "base_uri": "https://localhost:8080/"
        },
        "id": "Af11c5TpZFlV",
        "outputId": "96fd3f77-44a3-442b-a4e8-d74bf2e0fbf3"
      },
      "execution_count": 43,
      "outputs": [
        {
          "output_type": "stream",
          "name": "stdout",
          "text": [
            "Dimensões do cubo:  (1570, 2296, 9)\n",
            "Dimensões da cena VV:  (2955, 4322)\n",
            "Dimensões da cena VH:  (2955, 4322)\n",
            "Dimensões da cena VV reamostrada:  (1570, 2296)\n",
            "Dimensões da cena VH reamostrada:  (1570, 2296)\n"
          ]
        }
      ]
    },
    {
      "cell_type": "code",
      "source": [],
      "metadata": {
        "id": "iUIE_bq7f3qT"
      },
      "execution_count": null,
      "outputs": []
    }
  ]
}