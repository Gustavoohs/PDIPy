{
  "nbformat": 4,
  "nbformat_minor": 0,
  "metadata": {
    "colab": {
      "name": "Workshop_detecção_de_mudanças.ipynb",
      "provenance": [],
      "collapsed_sections": []
    },
    "kernelspec": {
      "name": "python3",
      "display_name": "Python 3"
    },
    "language_info": {
      "name": "python"
    }
  },
  "cells": [
    {
      "cell_type": "code",
      "metadata": {
        "colab": {
          "base_uri": "https://localhost:8080/"
        },
        "id": "KuWVXsVMnD3u",
        "outputId": "23bdca42-5494-4f7e-ba5f-5f135e886b2e"
      },
      "source": [
        "!pip install spectral"
      ],
      "execution_count": null,
      "outputs": [
        {
          "output_type": "stream",
          "text": [
            "Collecting spectral\n",
            "  Downloading spectral-0.22.2.tar.gz (184 kB)\n",
            "\u001b[?25l\r\u001b[K     |█▉                              | 10 kB 14.0 MB/s eta 0:00:01\r\u001b[K     |███▋                            | 20 kB 17.1 MB/s eta 0:00:01\r\u001b[K     |█████▍                          | 30 kB 17.3 MB/s eta 0:00:01\r\u001b[K     |███████▏                        | 40 kB 11.3 MB/s eta 0:00:01\r\u001b[K     |█████████                       | 51 kB 9.0 MB/s eta 0:00:01\r\u001b[K     |██████████▊                     | 61 kB 9.1 MB/s eta 0:00:01\r\u001b[K     |████████████▌                   | 71 kB 7.1 MB/s eta 0:00:01\r\u001b[K     |██████████████▎                 | 81 kB 7.9 MB/s eta 0:00:01\r\u001b[K     |████████████████                | 92 kB 8.3 MB/s eta 0:00:01\r\u001b[K     |█████████████████▉              | 102 kB 8.0 MB/s eta 0:00:01\r\u001b[K     |███████████████████▋            | 112 kB 8.0 MB/s eta 0:00:01\r\u001b[K     |█████████████████████▍          | 122 kB 8.0 MB/s eta 0:00:01\r\u001b[K     |███████████████████████▏        | 133 kB 8.0 MB/s eta 0:00:01\r\u001b[K     |█████████████████████████       | 143 kB 8.0 MB/s eta 0:00:01\r\u001b[K     |██████████████████████████▊     | 153 kB 8.0 MB/s eta 0:00:01\r\u001b[K     |████████████████████████████▌   | 163 kB 8.0 MB/s eta 0:00:01\r\u001b[K     |██████████████████████████████▎ | 174 kB 8.0 MB/s eta 0:00:01\r\u001b[K     |████████████████████████████████| 184 kB 8.0 MB/s \n",
            "\u001b[?25hRequirement already satisfied: numpy in /usr/local/lib/python3.7/dist-packages (from spectral) (1.19.5)\n",
            "Building wheels for collected packages: spectral\n",
            "  Building wheel for spectral (setup.py) ... \u001b[?25l\u001b[?25hdone\n",
            "  Created wheel for spectral: filename=spectral-0.22.2-py3-none-any.whl size=212954 sha256=d11e9ba86f6c6413c43d40de100b6c18217569336b07c9bb7e8ce609015c1235\n",
            "  Stored in directory: /root/.cache/pip/wheels/8b/3c/53/b5300d56bee75c16de9b19cd481c419cc63929f2e4019a6235\n",
            "Successfully built spectral\n",
            "Installing collected packages: spectral\n",
            "Successfully installed spectral-0.22.2\n"
          ],
          "name": "stdout"
        }
      ]
    },
    {
      "cell_type": "code",
      "metadata": {
        "id": "KYr5cL5PredB"
      },
      "source": [
        "import matplotlib\n",
        "matplotlib.rcParams['figure.figsize'] = (15,10)"
      ],
      "execution_count": null,
      "outputs": []
    },
    {
      "cell_type": "code",
      "metadata": {
        "id": "lq81Hq8rnP-Y"
      },
      "source": [
        "import numpy as np\n",
        "import matplotlib.pyplot as plt\n",
        "import tifffile as tif\n",
        "from matplotlib import colors"
      ],
      "execution_count": null,
      "outputs": []
    },
    {
      "cell_type": "code",
      "metadata": {
        "id": "29-FMWNunXLy"
      },
      "source": [
        "img_1984 = tif.imread('RT_LT05_L1TP_232066_19840624_T1_C_w.tif')\n",
        "img_2020 = tif.imread('RT_LC08_L1TP_232066_20200729_T1_C_w.tif')"
      ],
      "execution_count": null,
      "outputs": []
    },
    {
      "cell_type": "code",
      "metadata": {
        "id": "EXHKF_fJp3AG"
      },
      "source": [
        "ndvi_1984 = ((img_1984[:,:,3] - img_1984[:,:,2])/(img_1984[:,:,3] + img_1984[:,:,2]))\n",
        "ndvi_2020 = ((img_2020[:,:,3] - img_2020[:,:,2])/(img_2020[:,:,3] + img_2020[:,:,2]))"
      ],
      "execution_count": null,
      "outputs": []
    },
    {
      "cell_type": "code",
      "metadata": {
        "id": "OKZjorN9rFZa"
      },
      "source": [
        "diff = ndvi_2020 - ndvi_1984"
      ],
      "execution_count": null,
      "outputs": []
    },
    {
      "cell_type": "code",
      "metadata": {
        "id": "KKAfAIm6sOyy"
      },
      "source": [
        "plt.imshow(diff, cmap='hsv_r')"
      ],
      "execution_count": null,
      "outputs": []
    },
    {
      "cell_type": "code",
      "metadata": {
        "colab": {
          "base_uri": "https://localhost:8080/"
        },
        "id": "9EY9nwBNsy8B",
        "outputId": "0aafcf7f-6918-4923-cda0-451221394163"
      },
      "source": [
        "print(\"Mínimo: \", np.min(diff))\n",
        "print(\"Máximo: \", np.max(diff))\n",
        "print(\"Média: \", np.mean(diff))\n",
        "print(\"Mediana: \", np.median(diff))\n",
        "print(\"Desvio: \", np.std(diff))\n",
        "print(\"Variação: \", np.min(diff) - np.max(diff))"
      ],
      "execution_count": null,
      "outputs": [
        {
          "output_type": "stream",
          "text": [
            "Mínimo:  -1.8523278\n",
            "Máximo:  1.6179421\n",
            "Média:  -0.068432845\n",
            "Mediana:  0.026899457\n",
            "Desvio:  0.23046662\n",
            "Variação:  -3.47027\n"
          ],
          "name": "stdout"
        }
      ]
    },
    {
      "cell_type": "code",
      "metadata": {
        "colab": {
          "base_uri": "https://localhost:8080/",
          "height": 592
        },
        "id": "dl-vyXQ3J1gF",
        "outputId": "93921c8a-243f-487f-95ad-4221fa39646a"
      },
      "source": [
        "plt.hist(diff.flatten(), bins=300)\n",
        "plt.text(-0.9, 880000, r'$\\mu = -0.068432845$', fontsize=15)\n",
        "plt.show()"
      ],
      "execution_count": null,
      "outputs": [
        {
          "output_type": "display_data",
          "data": {
            "image/png": "[encoded data removed]",
            "text/plain": [
              "<Figure size 1080x720 with 1 Axes>"
            ]
          },
          "metadata": {
            "tags": [],
            "needs_background": "light"
          }
        }
      ]
    },
    {
      "cell_type": "code",
      "metadata": {
        "id": "QXBRbslsCA9H"
      },
      "source": [
        "meio_desvio_neg = np.median(diff) - 0.5 * np.std(diff)\n",
        "meio_desvio_pos = np.median(diff) + 0.5 * np.std(diff)\n",
        "\n",
        "um_desvio_neg = np.median(diff) - np.std(diff)\n",
        "um_desvio_pos = np.median(diff) + np.std(diff)\n",
        "\n",
        "dois_desvio_neg = np.median(diff) - 2 * np.std(diff)\n",
        "dois_desvio_pos = np.median(diff) + 2 * np.std(diff)"
      ],
      "execution_count": null,
      "outputs": []
    },
    {
      "cell_type": "code",
      "metadata": {
        "id": "_uMz6jMQEMEt"
      },
      "source": [
        "cmap = colors.ListedColormap(['red', 'orange','green','blue'])\n",
        "\n",
        "bounds=[np.min(diff),meio_desvio_neg,np.mean(diff),meio_desvio_pos,np.max(diff)]\n",
        "norm = colors.BoundaryNorm(bounds, cmap.N)\n",
        "\n",
        "img = plt.imshow(diff,cmap=cmap, norm=norm)\n",
        "\n",
        "plt.colorbar(img, cmap=cmap, norm=norm, boundaries=bounds, ticks=bounds)"
      ],
      "execution_count": null,
      "outputs": []
    },
    {
      "cell_type": "code",
      "metadata": {
        "id": "8eBdOaQFEoOl"
      },
      "source": [
        "bounds=[np.min(diff),um_desvio_neg,np.mean(diff),um_desvio_pos,np.max(diff)]\n",
        "norm = colors.BoundaryNorm(bounds, cmap.N)\n",
        "\n",
        "img = plt.imshow(diff,cmap=cmap, norm=norm)\n",
        "\n",
        "plt.colorbar(img, cmap=cmap, norm=norm, boundaries=bounds, ticks=bounds)"
      ],
      "execution_count": null,
      "outputs": []
    },
    {
      "cell_type": "code",
      "metadata": {
        "id": "xZ_g2I0NI2Tw"
      },
      "source": [
        "bounds=[np.min(diff),dois_desvio_neg,np.mean(diff),dois_desvio_pos,np.max(diff)]\n",
        "norm = colors.BoundaryNorm(bounds, cmap.N)\n",
        "\n",
        "img = plt.imshow(diff,cmap=cmap, norm=norm)\n",
        "\n",
        "plt.colorbar(img, cmap=cmap, norm=norm, boundaries=bounds, ticks=bounds)"
      ],
      "execution_count": null,
      "outputs": []
    },
    {
      "cell_type": "code",
      "metadata": {
        "id": "YaoK7LdWKczm"
      },
      "source": [
        ""
      ],
      "execution_count": null,
      "outputs": []
    }
  ]
}