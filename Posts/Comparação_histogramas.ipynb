{
  "nbformat": 4,
  "nbformat_minor": 0,
  "metadata": {
    "colab": {
      "name": "Comparação_histogramas.ipynb",
      "provenance": [],
      "collapsed_sections": []
    },
    "kernelspec": {
      "name": "python3",
      "display_name": "Python 3"
    },
    "language_info": {
      "name": "python"
    }
  },
  "cells": [
    {
      "cell_type": "code",
      "source": [
        "import matplotlib\n",
        "matplotlib.rcParams['figure.figsize'] = (15,10)"
      ],
      "metadata": {
        "id": "Wr9R7qtszXLP"
      },
      "execution_count": null,
      "outputs": []
    },
    {
      "cell_type": "code",
      "source": [
        "# Bibliotecas\n",
        "import cv2\n",
        "import tifffile as tif\n",
        "import matplotlib.pyplot as plt\n",
        "import pandas as pd"
      ],
      "metadata": {
        "id": "LhdKL6nIvjkw"
      },
      "execution_count": null,
      "outputs": []
    },
    {
      "cell_type": "code",
      "source": [
        "# Leitura das imagens\n",
        "img_1984 = tif.imread('RT_LT05_L1TP_232066_19840624_T1_C_w.tif')\n",
        "img_2020 = tif.imread('RT_LC08_L1TP_232066_20200729_T1_C_w.tif')"
      ],
      "metadata": {
        "id": "MoEWGITdlvqu"
      },
      "execution_count": null,
      "outputs": []
    },
    {
      "cell_type": "code",
      "source": [
        "# Cálculo do NDVI\n",
        "ndvi_1984 = ((img_1984[:,:,3] - img_1984[:,:,2])/(img_1984[:,:,3] + img_1984[:,:,2]))\n",
        "ndvi_2020 = ((img_2020[:,:,3] - img_2020[:,:,2])/(img_2020[:,:,3] + img_2020[:,:,2]))"
      ],
      "metadata": {
        "id": "w1427HDZlPIG"
      },
      "execution_count": null,
      "outputs": []
    },
    {
      "cell_type": "code",
      "source": [
        "# Visualizando NDVI\n",
        "fig, ax = plt.subplots(1,2)\n",
        "ax[0].imshow(ndvi_1984, cmap='RdYlGn')\n",
        "ax[0].set_title('1984')\n",
        "ax[1].imshow(ndvi_2020, cmap='RdYlGn')\n",
        "ax[1].set_title('2020')"
      ],
      "metadata": {
        "id": "FpH8V1YtnQgD"
      },
      "execution_count": null,
      "outputs": []
    },
    {
      "cell_type": "code",
      "source": [
        "# Calculando histogramas com OpenCV\n",
        "hist_1984 = cv2.calcHist([ndvi_1984],[0],None,[200],[-1,1])\n",
        "hist_2020 = cv2.calcHist([ndvi_2020],[0],None,[200],[-1,1])"
      ],
      "metadata": {
        "id": "PWo0u9M6xfYf"
      },
      "execution_count": null,
      "outputs": []
    },
    {
      "cell_type": "code",
      "source": [
        "# Visualizando histogramas\n",
        "plt.plot(hist_1984)\n",
        "plt.plot(hist_2020)\n",
        "plt.legend(labels=['1984','2020'])\n",
        "plt.show()"
      ],
      "metadata": {
        "id": "Ylqw6l8NxJG5"
      },
      "execution_count": null,
      "outputs": []
    },
    {
      "cell_type": "code",
      "source": [
        "# Calculando métricas de comparação\n",
        "corr = cv2.compareHist(hist_1984, hist_2020, cv2.HISTCMP_CORREL)\n",
        "chi = cv2.compareHist(hist_1984, hist_2020, cv2.HISTCMP_CHISQR)\n",
        "inter = cv2.compareHist(hist_1984, hist_2020, cv2.HISTCMP_INTERSECT)\n",
        "bhatt = cv2.compareHist(hist_1984, hist_2020, cv2.HISTCMP_BHATTACHARYYA)"
      ],
      "metadata": {
        "id": "5cBPPv9koLOn"
      },
      "execution_count": null,
      "outputs": []
    },
    {
      "cell_type": "code",
      "source": [
        "# Armazenando métricas em um DataFrame\n",
        "df = pd.DataFrame()\n",
        "df['Método'] = ['Correlação', 'Chi-quadrado', 'Intersecção', \n",
        "                'Distância de Bhattacharyya']\n",
        "df['Valor'] = [corr,chi,inter,bhatt]"
      ],
      "metadata": {
        "id": "G-GoW4X7og71"
      },
      "execution_count": null,
      "outputs": []
    },
    {
      "cell_type": "code",
      "source": [
        "# Visualizando DataFrame\n",
        "df.head()"
      ],
      "metadata": {
        "colab": {
          "base_uri": "https://localhost:8080/",
          "height": 175
        },
        "id": "whVtf6nMo7Zl",
        "outputId": "52789389-284d-4917-f9cc-f16b7b1c99be"
      },
      "execution_count": null,
      "outputs": [
        {
          "output_type": "execute_result",
          "data": {
            "text/html": [
              "\n",
              "  <div id=\"df-9da6d34c-ad4c-4f47-ab39-3346e9a013a8\">\n",
              "    <div class=\"colab-df-container\">\n",
              "      <div>\n",
              "<style scoped>\n",
              "    .dataframe tbody tr th:only-of-type {\n",
              "        vertical-align: middle;\n",
              "    }\n",
              "\n",
              "    .dataframe tbody tr th {\n",
              "        vertical-align: top;\n",
              "    }\n",
              "\n",
              "    .dataframe thead th {\n",
              "        text-align: right;\n",
              "    }\n",
              "</style>\n",
              "<table border=\"1\" class=\"dataframe\">\n",
              "  <thead>\n",
              "    <tr style=\"text-align: right;\">\n",
              "      <th></th>\n",
              "      <th>Método</th>\n",
              "      <th>Valor</th>\n",
              "    </tr>\n",
              "  </thead>\n",
              "  <tbody>\n",
              "    <tr>\n",
              "      <th>0</th>\n",
              "      <td>Correlação</td>\n",
              "      <td>0.329</td>\n",
              "    </tr>\n",
              "    <tr>\n",
              "      <th>1</th>\n",
              "      <td>Chi-quadrado</td>\n",
              "      <td>201945242.426</td>\n",
              "    </tr>\n",
              "    <tr>\n",
              "      <th>2</th>\n",
              "      <td>Intersecção</td>\n",
              "      <td>3360497.000</td>\n",
              "    </tr>\n",
              "    <tr>\n",
              "      <th>3</th>\n",
              "      <td>Distância de Bhattacharyya</td>\n",
              "      <td>0.557</td>\n",
              "    </tr>\n",
              "  </tbody>\n",
              "</table>\n",
              "</div>\n",
              "      <button class=\"colab-df-convert\" onclick=\"convertToInteractive('df-9da6d34c-ad4c-4f47-ab39-3346e9a013a8')\"\n",
              "              title=\"Convert this dataframe to an interactive table.\"\n",
              "              style=\"display:none;\">\n",
              "        \n",
              "  <svg xmlns=\"http://www.w3.org/2000/svg\" height=\"24px\"viewBox=\"0 0 24 24\"\n",
              "       width=\"24px\">\n",
              "    <path d=\"M0 0h24v24H0V0z\" fill=\"none\"/>\n",
              "    <path d=\"M18.56 5.44l.94 2.06.94-2.06 2.06-.94-2.06-.94-.94-2.06-.94 2.06-2.06.94zm-11 1L8.5 8.5l.94-2.06 2.06-.94-2.06-.94L8.5 2.5l-.94 2.06-2.06.94zm10 10l.94 2.06.94-2.06 2.06-.94-2.06-.94-.94-2.06-.94 2.06-2.06.94z\"/><path d=\"M17.41 7.96l-1.37-1.37c-.4-.4-.92-.59-1.43-.59-.52 0-1.04.2-1.43.59L10.3 9.45l-7.72 7.72c-.78.78-.78 2.05 0 2.83L4 21.41c.39.39.9.59 1.41.59.51 0 1.02-.2 1.41-.59l7.78-7.78 2.81-2.81c.8-.78.8-2.07 0-2.86zM5.41 20L4 18.59l7.72-7.72 1.47 1.35L5.41 20z\"/>\n",
              "  </svg>\n",
              "      </button>\n",
              "      \n",
              "  <style>\n",
              "    .colab-df-container {\n",
              "      display:flex;\n",
              "      flex-wrap:wrap;\n",
              "      gap: 12px;\n",
              "    }\n",
              "\n",
              "    .colab-df-convert {\n",
              "      background-color: #E8F0FE;\n",
              "      border: none;\n",
              "      border-radius: 50%;\n",
              "      cursor: pointer;\n",
              "      display: none;\n",
              "      fill: #1967D2;\n",
              "      height: 32px;\n",
              "      padding: 0 0 0 0;\n",
              "      width: 32px;\n",
              "    }\n",
              "\n",
              "    .colab-df-convert:hover {\n",
              "      background-color: #E2EBFA;\n",
              "      box-shadow: 0px 1px 2px rgba(60, 64, 67, 0.3), 0px 1px 3px 1px rgba(60, 64, 67, 0.15);\n",
              "      fill: #174EA6;\n",
              "    }\n",
              "\n",
              "    [theme=dark] .colab-df-convert {\n",
              "      background-color: #3B4455;\n",
              "      fill: #D2E3FC;\n",
              "    }\n",
              "\n",
              "    [theme=dark] .colab-df-convert:hover {\n",
              "      background-color: #434B5C;\n",
              "      box-shadow: 0px 1px 3px 1px rgba(0, 0, 0, 0.15);\n",
              "      filter: drop-shadow(0px 1px 2px rgba(0, 0, 0, 0.3));\n",
              "      fill: #FFFFFF;\n",
              "    }\n",
              "  </style>\n",
              "\n",
              "      <script>\n",
              "        const buttonEl =\n",
              "          document.querySelector('#df-9da6d34c-ad4c-4f47-ab39-3346e9a013a8 button.colab-df-convert');\n",
              "        buttonEl.style.display =\n",
              "          google.colab.kernel.accessAllowed ? 'block' : 'none';\n",
              "\n",
              "        async function convertToInteractive(key) {\n",
              "          const element = document.querySelector('#df-9da6d34c-ad4c-4f47-ab39-3346e9a013a8');\n",
              "          const dataTable =\n",
              "            await google.colab.kernel.invokeFunction('convertToInteractive',\n",
              "                                                     [key], {});\n",
              "          if (!dataTable) return;\n",
              "\n",
              "          const docLinkHtml = 'Like what you see? Visit the ' +\n",
              "            '<a target=\"_blank\" href=https://colab.research.google.com/notebooks/data_table.ipynb>data table notebook</a>'\n",
              "            + ' to learn more about interactive tables.';\n",
              "          element.innerHTML = '';\n",
              "          dataTable['output_type'] = 'display_data';\n",
              "          await google.colab.output.renderOutput(dataTable, element);\n",
              "          const docLink = document.createElement('div');\n",
              "          docLink.innerHTML = docLinkHtml;\n",
              "          element.appendChild(docLink);\n",
              "        }\n",
              "      </script>\n",
              "    </div>\n",
              "  </div>\n",
              "  "
            ],
            "text/plain": [
              "                       Método         Valor\n",
              "0                  Correlação         0.329\n",
              "1                Chi-quadrado 201945242.426\n",
              "2                 Intersecção   3360497.000\n",
              "3  Distância de Bhattacharyya         0.557"
            ]
          },
          "metadata": {},
          "execution_count": 26
        }
      ]
    }
  ]
}