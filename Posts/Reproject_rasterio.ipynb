{
  "nbformat": 4,
  "nbformat_minor": 0,
  "metadata": {
    "colab": {
      "provenance": []
    },
    "kernelspec": {
      "name": "python3",
      "display_name": "Python 3"
    },
    "language_info": {
      "name": "python"
    }
  },
  "cells": [
    {
      "cell_type": "code",
      "execution_count": null,
      "metadata": {
        "colab": {
          "base_uri": "https://localhost:8080/"
        },
        "id": "iOI2tNWTQLoE",
        "outputId": "0bde66c2-400a-4fb0-ebe0-9a40c43295a2"
      },
      "outputs": [
        {
          "output_type": "stream",
          "name": "stdout",
          "text": [
            "\u001b[K     |████████████████████████████████| 19.3 MB 1.2 MB/s \n",
            "\u001b[?25h"
          ]
        }
      ],
      "source": [
        "!pip install -q rasterio"
      ]
    },
    {
      "cell_type": "code",
      "source": [
        "import numpy as np\n",
        "import rasterio as rio\n",
        "from rasterio.warp import reproject, Resampling, calculate_default_transform"
      ],
      "metadata": {
        "id": "tKChCnQGQZ19"
      },
      "execution_count": null,
      "outputs": []
    },
    {
      "cell_type": "code",
      "source": [
        "CRS = \"EPSG:4326\" \n",
        "\n",
        "# Lendo imagem original\n",
        "with rio.open(\"/content/drive/MyDrive/Curso PDI com Python/L71221071_07120010720_DN.tif\") as src:\n",
        "    src_transform = src.transform\n",
        "\n",
        "    # Matriz de transformação\n",
        "    transform, width, height = calculate_default_transform(\n",
        "        src.crs,\n",
        "        CRS,\n",
        "        src.width,\n",
        "        src.height,\n",
        "        *src.bounds,  # unpacks outer boundaries (left, bottom, right, top)\n",
        "    )\n",
        "\n",
        "    # Matadados do arquivo de saída\n",
        "    meta = src.meta.copy()\n",
        "    meta.update(\n",
        "        {\n",
        "            \"crs\": CRS,\n",
        "            \"transform\": transform,\n",
        "            \"width\": width,\n",
        "            \"height\": height,\n",
        "            \"nodata\": np.nan,  \n",
        "        })\n",
        "\n",
        "    # Reprojetando e gravando em disco\n",
        "    with rio.open(\"L7_reproject.tif\", \"w\", **meta) as dst:\n",
        "        for i in range(1, src.count + 1):\n",
        "            reproject(\n",
        "                source=rio.band(src, i),\n",
        "                destination=rio.band(dst, i),\n",
        "                src_transform=src.transform,\n",
        "                src_crs=src.crs,\n",
        "                dst_transform=transform,\n",
        "                dst_crs=CRS,\n",
        "                resampling=Resampling.nearest,\n",
        "            )"
      ],
      "metadata": {
        "id": "NzRBcXmKQTGG"
      },
      "execution_count": null,
      "outputs": []
    }
  ]
}