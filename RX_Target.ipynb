{
  "nbformat": 4,
  "nbformat_minor": 0,
  "metadata": {
    "colab": {
      "name": "RX-Target.ipynb",
      "provenance": [],
      "collapsed_sections": []
    },
    "kernelspec": {
      "name": "python3",
      "display_name": "Python 3"
    },
    "language_info": {
      "name": "python"
    }
  },
  "cells": [
    {
      "cell_type": "code",
      "metadata": {
        "colab": {
          "base_uri": "https://localhost:8080/"
        },
        "id": "r_hlI-NcaG8O",
        "outputId": "ee9bec89-9e23-4d0b-c815-b48081cf596c"
      },
      "source": [
        "!pip install spectral"
      ],
      "execution_count": null,
      "outputs": [
        {
          "output_type": "stream",
          "text": [
            "Collecting spectral\n",
            "  Downloading spectral-0.22.2.tar.gz (184 kB)\n",
            "\u001b[?25l\r\u001b[K     |█▉                              | 10 kB 13.8 MB/s eta 0:00:01\r\u001b[K     |███▋                            | 20 kB 19.0 MB/s eta 0:00:01\r\u001b[K     |█████▍                          | 30 kB 17.9 MB/s eta 0:00:01\r\u001b[K     |███████▏                        | 40 kB 20.9 MB/s eta 0:00:01\r\u001b[K     |█████████                       | 51 kB 23.4 MB/s eta 0:00:01\r\u001b[K     |██████████▊                     | 61 kB 25.7 MB/s eta 0:00:01\r\u001b[K     |████████████▌                   | 71 kB 26.5 MB/s eta 0:00:01\r\u001b[K     |██████████████▎                 | 81 kB 23.2 MB/s eta 0:00:01\r\u001b[K     |████████████████                | 92 kB 23.7 MB/s eta 0:00:01\r\u001b[K     |█████████████████▉              | 102 kB 24.4 MB/s eta 0:00:01\r\u001b[K     |███████████████████▋            | 112 kB 24.4 MB/s eta 0:00:01\r\u001b[K     |█████████████████████▍          | 122 kB 24.4 MB/s eta 0:00:01\r\u001b[K     |███████████████████████▏        | 133 kB 24.4 MB/s eta 0:00:01\r\u001b[K     |█████████████████████████       | 143 kB 24.4 MB/s eta 0:00:01\r\u001b[K     |██████████████████████████▊     | 153 kB 24.4 MB/s eta 0:00:01\r\u001b[K     |████████████████████████████▌   | 163 kB 24.4 MB/s eta 0:00:01\r\u001b[K     |██████████████████████████████▎ | 174 kB 24.4 MB/s eta 0:00:01\r\u001b[K     |████████████████████████████████| 184 kB 24.4 MB/s \n",
            "\u001b[?25hRequirement already satisfied: numpy in /usr/local/lib/python3.7/dist-packages (from spectral) (1.19.5)\n",
            "Building wheels for collected packages: spectral\n",
            "  Building wheel for spectral (setup.py) ... \u001b[?25l\u001b[?25hdone\n",
            "  Created wheel for spectral: filename=spectral-0.22.2-py3-none-any.whl size=212954 sha256=5b419453f32fd4b6ee2216346527aa5c25940d2a850a189fc6a57770b7f85639\n",
            "  Stored in directory: /root/.cache/pip/wheels/8b/3c/53/b5300d56bee75c16de9b19cd481c419cc63929f2e4019a6235\n",
            "Successfully built spectral\n",
            "Installing collected packages: spectral\n",
            "Successfully installed spectral-0.22.2\n"
          ],
          "name": "stdout"
        }
      ]
    },
    {
      "cell_type": "code",
      "metadata": {
        "id": "t-FgSVOHc8F5"
      },
      "source": [
        "import matplotlib\n",
        "matplotlib.rcParams['figure.figsize'] = (15,10)"
      ],
      "execution_count": null,
      "outputs": []
    },
    {
      "cell_type": "code",
      "metadata": {
        "id": "Hg5sXXm_aMM0"
      },
      "source": [
        " from spectral import *\n",
        " from scipy.stats import chi2\n",
        " import tifffile as tif\n",
        " import matplotlib.pyplot as plt"
      ],
      "execution_count": null,
      "outputs": []
    },
    {
      "cell_type": "code",
      "metadata": {
        "id": "7cER8SYWabAH"
      },
      "source": [
        "# Leitura da imagem\n",
        "img = tif.imread('/content/cubo_L7.tif')\n",
        "imshow(img, (2,3,1), stretch=(0.02))"
      ],
      "execution_count": null,
      "outputs": []
    },
    {
      "cell_type": "code",
      "metadata": {
        "id": "IgmFjpIWa5Ht"
      },
      "source": [
        "# Cálculo do RX com janela de background de 21 x 21 e de exclusão de 5 x 5\n",
        "rxvals = rx(img, window=(5,21))\n",
        "\n",
        "# Visualização dos pixels onde RX tem uma probabilidade de menos de 0,001 em relação ao fundo\n",
        "nbands = img.shape[-1]\n",
        "P = chi2.ppf(0.999, nbands)\n",
        "imshow(1 * (rxvals > P))"
      ],
      "execution_count": null,
      "outputs": []
    },
    {
      "cell_type": "code",
      "metadata": {
        "colab": {
          "base_uri": "https://localhost:8080/",
          "height": 592
        },
        "id": "b4wW8mQ0b5B6",
        "outputId": "5c171475-d76f-4606-8a4f-c082f9fe49fd"
      },
      "source": [
        "# Visualização do histograma dos RX\n",
        "plt.figure()\n",
        "plt.hist(rxvals.ravel(), 200, log=True)\n",
        "plt.grid()"
      ],
      "execution_count": null,
      "outputs": [
        {
          "output_type": "display_data",
          "data": {
            "image/png": "[encoded data removed]",
            "text/plain": [
              "<Figure size 1080x720 with 1 Axes>"
            ]
          },
          "metadata": {
            "tags": [],
            "needs_background": "light"
          }
        }
      ]
    },
    {
      "cell_type": "code",
      "metadata": {
        "id": "b5qU5f-ZdHWH"
      },
      "source": [
        ""
      ],
      "execution_count": null,
      "outputs": []
    }
  ]
}