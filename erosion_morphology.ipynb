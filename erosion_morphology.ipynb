{
  "nbformat": 4,
  "nbformat_minor": 0,
  "metadata": {
    "colab": {
      "provenance": []
    },
    "kernelspec": {
      "name": "python3",
      "display_name": "Python 3"
    },
    "language_info": {
      "name": "python"
    }
  },
  "cells": [
    {
      "cell_type": "code",
      "source": [
        "!pip install  rasterio spectral -q"
      ],
      "metadata": {
        "colab": {
          "base_uri": "https://localhost:8080/"
        },
        "id": "T2nP8mgS4GQu",
        "outputId": "fca63af6-79cc-4633-d624-997109c7c5fe"
      },
      "execution_count": null,
      "outputs": [
        {
          "output_type": "stream",
          "name": "stdout",
          "text": [
            "\u001b[2K   \u001b[90m━━━━━━━━━━━━━━━━━━━━━━━━━━━━━━━━━━━━━━━━\u001b[0m \u001b[32m22.2/22.2 MB\u001b[0m \u001b[31m15.7 MB/s\u001b[0m eta \u001b[36m0:00:00\u001b[0m\n",
            "\u001b[2K   \u001b[90m━━━━━━━━━━━━━━━━━━━━━━━━━━━━━━━━━━━━━━━━\u001b[0m \u001b[32m212.9/212.9 kB\u001b[0m \u001b[31m8.7 MB/s\u001b[0m eta \u001b[36m0:00:00\u001b[0m\n",
            "\u001b[?25h"
          ]
        }
      ]
    },
    {
      "cell_type": "code",
      "execution_count": null,
      "metadata": {
        "id": "yy4Yz4sQ2i-M"
      },
      "outputs": [],
      "source": [
        "# libs\n",
        "from skimage.morphology import erosion\n",
        "from skimage.morphology import disk\n",
        "import numpy as np\n",
        "import matplotlib.pyplot as plt\n",
        "import rasterio as rio\n",
        "from spectral import *\n",
        "from rasterio.plot import reshape_as_image"
      ]
    },
    {
      "cell_type": "code",
      "source": [
        "# Gravando metadados da primeira cena\n",
        "with rio.open('/content/drive/MyDrive/PDISAR/Sentinel-1/Classificação/final.tif') as src:\n",
        "  meta = src.meta\n",
        "  cubo = src.read()\n",
        "cubo = reshape_as_image(cubo)"
      ],
      "metadata": {
        "id": "OZ0P2e7o4JEB"
      },
      "execution_count": null,
      "outputs": []
    },
    {
      "cell_type": "code",
      "source": [
        "# Função de conversão para decibel\n",
        "def linear_to_decibel(img):\n",
        "    return 10*np.log10(img)"
      ],
      "metadata": {
        "id": "u-CF4a3Q4KRs"
      },
      "execution_count": null,
      "outputs": []
    },
    {
      "cell_type": "code",
      "source": [
        "cubo_db = linear_to_decibel(cubo)\n",
        "cubo_db = np.nan_to_num(cubo_db)"
      ],
      "metadata": {
        "id": "pqETXPsa4LiN"
      },
      "execution_count": null,
      "outputs": []
    },
    {
      "cell_type": "code",
      "source": [
        "(classif, centros) = kmeans(cubo_db, 10, 30)"
      ],
      "metadata": {
        "id": "SnhBgiRw4MQ2"
      },
      "execution_count": null,
      "outputs": []
    },
    {
      "cell_type": "code",
      "source": [
        "# Visualização lado a lado\n",
        "def plot_comparison(original, filtered, filter_name):\n",
        "    fig, (ax1, ax2) = plt.subplots(ncols=2, figsize=(12, 10), sharex=True, sharey=True)\n",
        "    ax1.imshow(original, cmap=plt.cm.Spectral_r)\n",
        "    ax1.set_title('original')\n",
        "    ax1.set_axis_off()\n",
        "    ax2.imshow(filtered, cmap=plt.cm.Spectral_r)\n",
        "    ax2.set_title(filter_name)\n",
        "    ax2.set_axis_off()"
      ],
      "metadata": {
        "id": "mYUxUpwC4Nmh"
      },
      "execution_count": null,
      "outputs": []
    },
    {
      "cell_type": "code",
      "source": [
        "# Aplicando erosão\n",
        "footprint = disk(2)\n",
        "eroded = erosion(classif,footprint)\n",
        "plot_comparison(classif, eroded, 'erosion')"
      ],
      "metadata": {
        "id": "nxPMVG-f4T_n"
      },
      "execution_count": null,
      "outputs": []
    }
  ]
}