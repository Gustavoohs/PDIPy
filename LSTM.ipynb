{
  "nbformat": 4,
  "nbformat_minor": 0,
  "metadata": {
    "colab": {
      "provenance": [],
      "machine_shape": "hm"
    },
    "kernelspec": {
      "name": "python3",
      "display_name": "Python 3"
    },
    "language_info": {
      "name": "python"
    }
  },
  "cells": [
    {
      "cell_type": "code",
      "source": [
        "!pip install rasterio -q"
      ],
      "metadata": {
        "colab": {
          "base_uri": "https://localhost:8080/"
        },
        "id": "loLCvLXr31X0",
        "outputId": "1c9f6b6e-925b-40a6-dd5f-f6a1d2e6ce6b"
      },
      "execution_count": null,
      "outputs": [
        {
          "output_type": "stream",
          "name": "stdout",
          "text": [
            "\u001b[?25l   \u001b[90m━━━━━━━━━━━━━━━━━━━━━━━━━━━━━━━━━━━━━━━━\u001b[0m \u001b[32m0.0/22.2 MB\u001b[0m \u001b[31m?\u001b[0m eta \u001b[36m-:--:--\u001b[0m\r\u001b[2K   \u001b[90m━━━━━━━━━━━━━━━━━━━━━━━━━━━━━━━━━━━━━━━━\u001b[0m \u001b[32m0.2/22.2 MB\u001b[0m \u001b[31m7.3 MB/s\u001b[0m eta \u001b[36m0:00:04\u001b[0m\r\u001b[2K   \u001b[91m━━━\u001b[0m\u001b[91m╸\u001b[0m\u001b[90m━━━━━━━━━━━━━━━━━━━━━━━━━━━━━━━━━━━━\u001b[0m \u001b[32m2.0/22.2 MB\u001b[0m \u001b[31m29.1 MB/s\u001b[0m eta \u001b[36m0:00:01\u001b[0m\r\u001b[2K   \u001b[91m━━━━━━━━━━━━━━\u001b[0m\u001b[91m╸\u001b[0m\u001b[90m━━━━━━━━━━━━━━━━━━━━━━━━━\u001b[0m \u001b[32m8.1/22.2 MB\u001b[0m \u001b[31m77.8 MB/s\u001b[0m eta \u001b[36m0:00:01\u001b[0m\r\u001b[2K   \u001b[91m━━━━━━━━━━━━━━━━━━━━━━━━━━━━━\u001b[0m\u001b[90m╺\u001b[0m\u001b[90m━━━━━━━━━━\u001b[0m \u001b[32m16.2/22.2 MB\u001b[0m \u001b[31m227.8 MB/s\u001b[0m eta \u001b[36m0:00:01\u001b[0m\r\u001b[2K   \u001b[91m━━━━━━━━━━━━━━━━━━━━━━━━━━━━━━━━━━━━━━━\u001b[0m\u001b[91m╸\u001b[0m \u001b[32m22.2/22.2 MB\u001b[0m \u001b[31m230.0 MB/s\u001b[0m eta \u001b[36m0:00:01\u001b[0m\r\u001b[2K   \u001b[91m━━━━━━━━━━━━━━━━━━━━━━━━━━━━━━━━━━━━━━━\u001b[0m\u001b[91m╸\u001b[0m \u001b[32m22.2/22.2 MB\u001b[0m \u001b[31m230.0 MB/s\u001b[0m eta \u001b[36m0:00:01\u001b[0m\r\u001b[2K   \u001b[90m━━━━━━━━━━━━━━━━━━━━━━━━━━━━━━━━━━━━━━━━\u001b[0m \u001b[32m22.2/22.2 MB\u001b[0m \u001b[31m96.6 MB/s\u001b[0m eta \u001b[36m0:00:00\u001b[0m\n",
            "\u001b[?25h"
          ]
        }
      ]
    },
    {
      "cell_type": "code",
      "execution_count": null,
      "metadata": {
        "id": "sUar_U8a3D-O"
      },
      "outputs": [],
      "source": [
        "# Bibliotecas\n",
        "import numpy as np\n",
        "import rasterio\n",
        "import tensorflow as tf\n",
        "from tensorflow.keras.models import Sequential\n",
        "from tensorflow.keras.layers import LSTM, Dense, Dropout"
      ]
    },
    {
      "cell_type": "code",
      "source": [
        "# Caminhos dos arquivos\n",
        "caminho_cubo = \"/content/drive/MyDrive/Dados_PDI/cubo_DF_S1.tif\"\n",
        "caminho_roi = \"/content/drive/MyDrive/Dados_PDI/roi_DF_S1.tif\"\n",
        "\n",
        "# Carregar o cubo multitemporal\n",
        "with rasterio.open(caminho_cubo) as src:\n",
        "    cubo = src.read()\n",
        "\n",
        "# Carregar as amostras de treinamento (ROI)\n",
        "with rasterio.open(caminho_roi) as src:\n",
        "    roi = src.read(1)"
      ],
      "metadata": {
        "id": "Stb0k5jk3zf-"
      },
      "execution_count": null,
      "outputs": []
    },
    {
      "cell_type": "code",
      "source": [
        "# Transpor cubo para (largura, altura, n_tempos)\n",
        "cubo = np.moveaxis(cubo, 0, -1)\n",
        "\n",
        "# Identificar pixels rotulados no ROI (excluir pixels sem rótulo, geralmente 0 ou -1)\n",
        "mask = roi > 0\n",
        "X_train = cubo[mask]\n",
        "y_train = roi[mask]\n",
        "y_train -= 1"
      ],
      "metadata": {
        "id": "fZn64uBw4DkJ"
      },
      "execution_count": null,
      "outputs": []
    },
    {
      "cell_type": "code",
      "source": [
        "# Definir a forma dos dados\n",
        "n_tempos = X_train.shape[1]  # Número de imagens ao longo do tempo\n",
        "n_bandas = 1 if len(X_train.shape) == 2 else X_train.shape[2]\n",
        "\n",
        "# Reshape necessário se tivermos apenas uma banda\n",
        "if n_bandas == 1:\n",
        "    X_train = X_train.reshape(X_train.shape[0], X_train.shape[1], 1)\n",
        "\n",
        "# Criar o modelo LSTM\n",
        "model = Sequential([\n",
        "    LSTM(64, return_sequences=True, input_shape=(n_tempos, n_bandas)),\n",
        "    Dropout(0.3),\n",
        "    LSTM(32, return_sequences=False),\n",
        "    Dropout(0.3),\n",
        "    Dense(16, activation='relu'),\n",
        "    Dense(len(np.unique(y_train)), activation='softmax')\n",
        "])\n",
        "\n",
        "# Compilar o modelo\n",
        "model.compile(loss='sparse_categorical_crossentropy', optimizer='adam', metrics=['accuracy'])\n",
        "\n",
        "# Treinar\n",
        "model.fit(X_train, y_train, epochs=10, batch_size=64, validation_split=0.2)"
      ],
      "metadata": {
        "id": "_zIxcYeJ4GRF"
      },
      "execution_count": null,
      "outputs": []
    },
    {
      "cell_type": "code",
      "source": [
        "# Se o cubo tem múltiplas bandas, manter a forma correta\n",
        "if n_bandas == 1:\n",
        "    cubo = cubo.reshape(cubo.shape[0], cubo.shape[1], cubo.shape[2], 1)\n",
        "\n",
        "# Aplicar modelo para classificar cada pixel\n",
        "cubo_reshape = cubo.reshape(-1, n_tempos, n_bandas)\n",
        "preds = model.predict(cubo_reshape)\n",
        "preds = np.argmax(preds, axis=1)\n",
        "\n",
        "# Reformatar para imagem original\n",
        "classificacao = preds.reshape(cubo.shape[0], cubo.shape[1])"
      ],
      "metadata": {
        "id": "3Yhq9Vox4Jv-"
      },
      "execution_count": null,
      "outputs": []
    },
    {
      "cell_type": "code",
      "source": [
        "# Salvar como novo raster\n",
        "with rasterio.open(\n",
        "    \"/content/drive/MyDrive/Dados_PDI/classificacao_LSTM.tif\",\n",
        "    \"w\",\n",
        "    driver=\"GTiff\",\n",
        "    height=classificacao.shape[0],\n",
        "    width=classificacao.shape[1],\n",
        "    count=1,\n",
        "    dtype=rasterio.uint8,\n",
        "    crs=src.crs,\n",
        "    transform=src.transform\n",
        ") as dst:\n",
        "    dst.write(classificacao, 1)"
      ],
      "metadata": {
        "id": "VWG23Bji4t5X"
      },
      "execution_count": null,
      "outputs": []
    }
  ]
}