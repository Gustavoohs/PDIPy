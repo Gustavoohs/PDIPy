{
  "nbformat": 4,
  "nbformat_minor": 5,
  "metadata": {
    "kernelspec": {
      "display_name": "Python 3 (ipykernel)",
      "language": "python",
      "name": "python3"
    },
    "language_info": {
      "codemirror_mode": {
        "name": "ipython",
        "version": 3
      },
      "file_extension": ".py",
      "mimetype": "text/x-python",
      "name": "python",
      "nbconvert_exporter": "python",
      "pygments_lexer": "ipython3",
      "version": "3.8.11"
    },
    "colab": {
      "name": "Mosaico.ipynb",
      "provenance": []
    }
  },
  "cells": [
    {
      "cell_type": "code",
      "metadata": {
        "id": "bb6f2571"
      },
      "source": [
        "# Bibliotecas\n",
        "from rasterio.merge import merge\n",
        "from rasterio.plot import show\n",
        "import matplotlib.pyplot as plt"
      ],
      "id": "bb6f2571",
      "execution_count": null,
      "outputs": []
    },
    {
      "cell_type": "code",
      "metadata": {
        "id": "e69faf04"
      },
      "source": [
        "# Leitura das imagens\n",
        "srtm1 = rasterio.open(\"17_w048_1arc_v3.tif\")\n",
        "srtm2 = rasterio.open(\"s17_w047_1arc_v3.tif\")"
      ],
      "id": "e69faf04",
      "execution_count": null,
      "outputs": []
    },
    {
      "cell_type": "code",
      "metadata": {
        "id": "ef310296"
      },
      "source": [
        "# Visualização das imagens separadas\n",
        "fig,(ax1,ax2) = plt.subplots(1,2, figsize = (15,10))\n",
        "show(srtm1, cmap='terrain',ax=ax1)\n",
        "show(srtm2, cmap='terrain',ax=ax2)\n",
        "fig.tight_layout()"
      ],
      "id": "ef310296",
      "execution_count": null,
      "outputs": []
    },
    {
      "cell_type": "code",
      "metadata": {
        "id": "12dd1979"
      },
      "source": [
        "# Mosaico\n",
        "mosaic,transform = merge([srtm1,srtm2], resampling=2 )"
      ],
      "id": "12dd1979",
      "execution_count": null,
      "outputs": []
    },
    {
      "cell_type": "code",
      "metadata": {
        "scrolled": true,
        "id": "c3013236"
      },
      "source": [
        "# Visualização do mosaico\n",
        "show(mosaic, cmap='terrain')"
      ],
      "id": "c3013236",
      "execution_count": null,
      "outputs": []
    },
    {
      "cell_type": "code",
      "metadata": {
        "id": "35ea6fa6",
        "outputId": "2a6c1adc-3a49-44bb-bd99-086fe84d048c"
      },
      "source": [
        "# informações da transformação utilizada\n",
        "transform"
      ],
      "id": "35ea6fa6",
      "execution_count": null,
      "outputs": [
        {
          "data": {
            "text/plain": [
              "Affine(0.0002777777777777778, 0.0, -48.00013888888889,\n",
              "       0.0, -0.0002777777777777778, -15.999861111111109)"
            ]
          },
          "execution_count": 50,
          "metadata": {},
          "output_type": "execute_result"
        }
      ]
    },
    {
      "cell_type": "code",
      "metadata": {
        "id": "a19bf3d3"
      },
      "source": [
        ""
      ],
      "id": "a19bf3d3",
      "execution_count": null,
      "outputs": []
    }
  ]
}