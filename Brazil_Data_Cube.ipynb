{
  "nbformat": 4,
  "nbformat_minor": 0,
  "metadata": {
    "colab": {
      "provenance": []
    },
    "kernelspec": {
      "name": "python3",
      "display_name": "Python 3"
    },
    "language_info": {
      "name": "python"
    }
  },
  "cells": [
    {
      "cell_type": "code",
      "execution_count": null,
      "metadata": {
        "colab": {
          "base_uri": "https://localhost:8080/"
        },
        "id": "6xFzqBsqM02a",
        "outputId": "e102a069-7f07-484a-a0f3-a3041474a99e"
      },
      "outputs": [
        {
          "output_type": "stream",
          "name": "stdout",
          "text": [
            "\u001b[2K   \u001b[90m━━━━━━━━━━━━━━━━━━━━━━━━━━━━━━━━━━━━━━━━\u001b[0m \u001b[32m41.4/41.4 kB\u001b[0m \u001b[31m2.4 MB/s\u001b[0m eta \u001b[36m0:00:00\u001b[0m\n",
            "\u001b[2K   \u001b[90m━━━━━━━━━━━━━━━━━━━━━━━━━━━━━━━━━━━━━━━━\u001b[0m \u001b[32m22.2/22.2 MB\u001b[0m \u001b[31m71.1 MB/s\u001b[0m eta \u001b[36m0:00:00\u001b[0m\n",
            "\u001b[2K   \u001b[90m━━━━━━━━━━━━━━━━━━━━━━━━━━━━━━━━━━━━━━━━\u001b[0m \u001b[32m194.2/194.2 kB\u001b[0m \u001b[31m12.8 MB/s\u001b[0m eta \u001b[36m0:00:00\u001b[0m\n",
            "\u001b[?25h"
          ]
        }
      ],
      "source": [
        "!pip install pystac_client rasterio -q"
      ]
    },
    {
      "cell_type": "code",
      "source": [
        "# Libs\n",
        "import os\n",
        "import requests\n",
        "import pystac_client\n",
        "import rasterio\n",
        "import numpy as np\n",
        "import geopandas as gpd\n",
        "import matplotlib.pyplot as plt\n",
        "from rasterio.io import MemoryFile\n",
        "from rasterio.mask import mask\n",
        "from rasterio.windows import from_bounds\n",
        "from pyproj import Transformer, CRS\n",
        "from tqdm import tqdm\n",
        "from rasterio.enums import Resampling\n",
        "from rasterio.warp import calculate_default_transform, reproject, Resampling"
      ],
      "metadata": {
        "id": "C5CyIjWqO1aI"
      },
      "execution_count": null,
      "outputs": []
    },
    {
      "cell_type": "code",
      "source": [
        "def get_evi_cube_from_bdc(geojson_file, collection='S2-16D-2', datetime_range=\"2024-05-01/2024-09-30\", output_multiband=\"evi_cube.tif\"):\n",
        "    # Conectar ao STAC do Brazil Data Cube\n",
        "    service = pystac_client.Client.open('https://data.inpe.br/bdc/stac/v1/')\n",
        "\n",
        "    # Carregar geojson\n",
        "    gdf = gpd.read_file(geojson_file)\n",
        "    bbox = gdf.total_bounds\n",
        "\n",
        "    # Buscar imagens que intersectam a área\n",
        "    item_search = service.search(\n",
        "        bbox=bbox,\n",
        "        datetime=datetime_range,\n",
        "        collections=[collection]\n",
        "    )\n",
        "\n",
        "    items = list(item_search.items())\n",
        "    if not items:\n",
        "        print(\"Nenhuma imagem encontrada.\")\n",
        "        return\n",
        "\n",
        "    print(f\"{len(items)} imagens encontradas.\")\n",
        "\n",
        "    evi_bands = []\n",
        "    transform, crs = None, None\n",
        "\n",
        "    for i, item in enumerate(items):\n",
        "        assets = item.assets\n",
        "\n",
        "        if 'EVI' not in assets:\n",
        "            print(f\"Aviso: Item {item.id} não possui EVI.\")\n",
        "            continue\n",
        "\n",
        "        asset_url = assets['EVI'].href  # URL direta da imagem\n",
        "\n",
        "        with rasterio.open(asset_url) as src:\n",
        "            try:\n",
        "                # Verificar e reprojetar para WGS84, se necessário\n",
        "                if not src.crs or src.crs.to_epsg() != 4326:\n",
        "                    dst_crs = CRS.from_epsg(4326)\n",
        "                    transform, width, height = calculate_default_transform(\n",
        "                        src.crs, dst_crs, src.width, src.height, *src.bounds\n",
        "                    )\n",
        "\n",
        "                    kwargs = src.meta.copy()\n",
        "                    kwargs.update({\n",
        "                        'crs': dst_crs,\n",
        "                        'transform': transform,\n",
        "                        'width': width,\n",
        "                        'height': height\n",
        "                    })\n",
        "\n",
        "                    # Criar um arquivo temporário na memória para armazenar a reprojeção\n",
        "                    memfile = MemoryFile()\n",
        "                    with memfile.open(**kwargs) as dst:\n",
        "                        for j in range(1, src.count + 1):\n",
        "                            reproject(\n",
        "                                source=rasterio.band(src, j),\n",
        "                                destination=rasterio.band(dst, j),\n",
        "                                src_transform=src.transform,\n",
        "                                src_crs=src.crs,\n",
        "                                dst_transform=transform,\n",
        "                                dst_crs=dst_crs,\n",
        "                                resampling=Resampling.nearest\n",
        "                            )\n",
        "\n",
        "                    # Abrir novamente o dataset para evitar o fechamento prematuro\n",
        "                    src_reprojected = memfile.open()\n",
        "\n",
        "                else:\n",
        "                    src_reprojected = src  # Se já estiver em WGS84, usar direto\n",
        "\n",
        "                # Agora podemos cortar a imagem sem erro\n",
        "                evi, transform = mask(src_reprojected, gdf.geometry, crop=True)\n",
        "                evi = evi[0] * 0.0001  # Ajuste da escala\n",
        "\n",
        "                # Fechar corretamente a memória ao final do uso\n",
        "                if 'memfile' in locals():\n",
        "                    memfile.close()\n",
        "\n",
        "                # Substituir valores inválidos por NaN\n",
        "                evi = np.where(evi != -9999, evi, np.nan)\n",
        "\n",
        "                evi_bands.append(evi)\n",
        "                crs = src.crs  # Salvar CRS para o arquivo final\n",
        "\n",
        "            except ValueError as e:\n",
        "                print(f\"Erro ao recortar imagem {i}: {e}\")\n",
        "\n",
        "    # Se nenhuma imagem foi processada, encerrar\n",
        "    if not evi_bands:\n",
        "        print(\"Nenhuma imagem válida para salvar.\")\n",
        "        return\n",
        "\n",
        "    # Converter lista para array numpy com shape adequado (bandas, altura, largura)\n",
        "    evi_array = np.stack(evi_bands, axis=0)\n",
        "\n",
        "    # Salvar o cubo EVI como um único arquivo multibanda\n",
        "    save_multiband_image(evi_array, transform, crs, output_multiband)\n",
        "    print(f\"Cubo EVI salvo como: {output_multiband}\")\n",
        "\n",
        "\n",
        "def save_multiband_image(data, transform, crs, output_path):\n",
        "    \"\"\" Salva um array numpy como um único GeoTIFF multibanda \"\"\"\n",
        "    with rasterio.open(\n",
        "        output_path, 'w',\n",
        "        driver='GTiff',\n",
        "        height=data.shape[1],  # Altura\n",
        "        width=data.shape[2],   # Largura\n",
        "        count=data.shape[0],   # Número de bandas\n",
        "        dtype=data.dtype,\n",
        "        crs=crs,\n",
        "        transform=transform\n",
        "    ) as dst:\n",
        "        for i in range(data.shape[0]):\n",
        "            dst.write(data[i], i + 1)\n",
        "\n",
        "    print(f\"Arquivo multibanda salvo: {output_path}\")"
      ],
      "metadata": {
        "id": "BpfzyYqnO9H2"
      },
      "execution_count": null,
      "outputs": []
    },
    {
      "cell_type": "code",
      "source": [
        "# Caminho do GeoJSON\n",
        "geojson_file = \"/content/PNB.geojson\"\n",
        "\n",
        "# Obter stack EVI\n",
        "evi_stack = get_evi_cube_from_bdc(geojson_file)"
      ],
      "metadata": {
        "colab": {
          "base_uri": "https://localhost:8080/"
        },
        "id": "KtQ2h5uLkwuH",
        "outputId": "46e7cdc4-d1b0-4088-f5b4-7c51fccb52fb"
      },
      "execution_count": null,
      "outputs": [
        {
          "output_type": "stream",
          "name": "stdout",
          "text": [
            "11 imagens encontradas.\n",
            "Arquivo multibanda salvo: evi_cube.tif\n",
            "Cubo EVI salvo como: evi_cube.tif\n"
          ]
        }
      ]
    },
    {
      "cell_type": "code",
      "source": [
        "def plot_multiband_tiff(tiff_path, nodata_value=-0.9999):\n",
        "    \"\"\"Lê um arquivo GeoTIFF multibanda e plota as bandas em 2 linhas e 5 colunas.\"\"\"\n",
        "\n",
        "    with rasterio.open(tiff_path) as src:\n",
        "        num_bands = src.count\n",
        "        fig, axes = plt.subplots(2, 5, figsize=(20, 15))\n",
        "\n",
        "        axes = axes.flatten()\n",
        "\n",
        "        for i in range(num_bands):\n",
        "            band = src.read(i + 1)\n",
        "\n",
        "            # Máscara para valores nodata\n",
        "            band = np.where(band == nodata_value, np.nan, band)\n",
        "\n",
        "            im = axes[i].imshow(band, cmap='RdYlGn', interpolation='nearest')\n",
        "            axes[i].set_title(f'Banda {i+1}')\n",
        "            axes[i].axis('off')\n",
        "            fig.colorbar(im, ax=axes[i], fraction=0.046, pad=0.04)\n",
        "\n",
        "        # Oculta eixos extras\n",
        "        for j in range(num_bands, len(axes)):\n",
        "            fig.delaxes(axes[j])\n",
        "\n",
        "        plt.tight_layout()\n",
        "        plt.show()"
      ],
      "metadata": {
        "id": "9KbrHrFEk8Ap"
      },
      "execution_count": null,
      "outputs": []
    },
    {
      "cell_type": "code",
      "source": [
        "# Exemplo de uso\n",
        "plot_multiband_tiff(\"/content/evi_cube.tif\")"
      ],
      "metadata": {
        "id": "gLsHY2jCmrJS"
      },
      "execution_count": null,
      "outputs": []
    },
    {
      "cell_type": "code",
      "source": [
        "def plot_median_per_band(tiff_path, nodata_value=-0.9999):\n",
        "    \"\"\"Lê um arquivo GeoTIFF multibanda, calcula a mediana de cada banda e plota um gráfico de linha.\"\"\"\n",
        "\n",
        "    with rasterio.open(tiff_path) as src:\n",
        "        num_bands = src.count\n",
        "        medians = []\n",
        "\n",
        "        for i in range(num_bands):\n",
        "            band = src.read(i + 1)\n",
        "\n",
        "            # Máscara para valores nodata\n",
        "            band = band[band != nodata_value]\n",
        "\n",
        "            # Calcula a mediana ignorando NaNs\n",
        "            medians.append(np.median(band) if band.size > 0 else np.nan)\n",
        "\n",
        "    # Plotando o gráfico\n",
        "    plt.figure(figsize=(10, 5))\n",
        "    plt.plot(range(1, num_bands + 1), medians, marker='o', linestyle='-', color='g', label='Mediana (EVI)')\n",
        "\n",
        "    # Ajustes do gráfico\n",
        "    plt.xlabel(\"Banda\")\n",
        "    plt.ylabel(\"EVI\")\n",
        "    plt.title(\"Mediana por Banda\")\n",
        "    plt.xticks(range(1, num_bands + 1))\n",
        "    plt.grid(True, linestyle=\"--\", alpha=0.6)\n",
        "    plt.legend()\n",
        "    plt.show()"
      ],
      "metadata": {
        "id": "ioq8rWlKr5DE"
      },
      "execution_count": null,
      "outputs": []
    },
    {
      "cell_type": "code",
      "source": [
        "# Exemplo de uso\n",
        "plot_median_per_band(\"/content/evi_cube.tif\")"
      ],
      "metadata": {
        "id": "RUIQLBnBr6Mw"
      },
      "execution_count": null,
      "outputs": []
    }
  ]
}