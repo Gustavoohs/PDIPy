{
 "cells": [
  {
   "cell_type": "code",
   "execution_count": null,
   "id": "0d39510f",
   "metadata": {},
   "outputs": [],
   "source": [
    "!python -V"
   ]
  },
  {
   "cell_type": "code",
   "execution_count": null,
   "id": "269b0571",
   "metadata": {},
   "outputs": [],
   "source": [
    "# Função para ver quais são os parâmetros de cada operador \n",
    "def get_operator_info(operator):\n",
    "\n",
    "    op_spi = GPF.getDefaultInstance().getOperatorSpiRegistry().getOperatorSpi(operator)\n",
    "    print('Op name:', op_spi.getOperatorDescriptor().getName())\n",
    "    print('Op alias:', op_spi.getOperatorDescriptor().getAlias()) \n",
    "    param_Desc = op_spi.getOperatorDescriptor().getParameterDescriptors()\n",
    "    for param in param_Desc:\n",
    "          print(param.getName(), \"or\", param.getAlias())"
   ]
  },
  {
   "cell_type": "code",
   "execution_count": null,
   "id": "fce25819",
   "metadata": {},
   "outputs": [],
   "source": [
    "# Bibliotecas\n",
    "import os\n",
    "import snappy\n",
    "from snappy import GPF\n",
    "from snappy import ProductIO\n",
    "from snappy import HashMap\n",
    "from snappy import jpy\n",
    "from snappy import ProductUtils\n",
    "import subprocess"
   ]
  },
  {
   "cell_type": "code",
   "execution_count": null,
   "id": "446aa889",
   "metadata": {},
   "outputs": [],
   "source": [
    "# Acessando os operadores Java\n",
    "HashMap = jpy.get_type('java.util.HashMap')\n",
    "parameters = HashMap()\n",
    "\n",
    "# Função para ler arquivo\n",
    "def read(file):\n",
    "    return ProductIO.readProduct(file)\n",
    "\n",
    "# Função para escrever arquivo em disco\n",
    "def write(product, file):\n",
    "    ProductIO.writeProduct(product, file, \"GeoTIFF\")"
   ]
  },
  {
   "cell_type": "code",
   "execution_count": null,
   "id": "5c329be2",
   "metadata": {},
   "outputs": [],
   "source": [
    "# TOPSAR-Split\n",
    "def split(product):\n",
    "    parameters.put('subswath', 'IW1')\n",
    "    parameters.put('selectedPolarisations', 'VV')\n",
    "    parameters.put('firstBurstIndex', '4')\n",
    "    parameters.put('lastBurstIndex', '5')\n",
    "    return GPF.createProduct(\"TOPSAR-Split\", parameters, product)\n",
    "\n",
    "# Orbit files\n",
    "def apply_orbit_file(product):   \n",
    "    parameters.put(\"Orbit State Vectors\", \"Sentinel Precise (Auto Download)\")\n",
    "    parameters.put(\"Polynomial Degree\", 3)    \n",
    "    return GPF.createProduct(\"Apply-Orbit-File\", parameters, product)\n",
    "\n",
    "# Back Geocoding\n",
    "def back_geocoding(product):    \n",
    "    parameters.put(\"Digital Elevation Model\", \"SRTM 1Sec HGT (Auto Download)\")\n",
    "    parameters.put(\"DEM Resampling Method\", \"BICUBIC_INTERPOLATION\")\n",
    "    parameters.put(\"Resampling Type\", \"BISINC_5_POINT_INTERPOLATION\")\n",
    "    parameters.put(\"Mask out areas with no elevation\", True)\n",
    "    parameters.put(\"Output Deramp and Demod Phase\", False)    \n",
    "    return GPF.createProduct(\"Back-Geocoding\", parameters, product)"
   ]
  },
  {
   "cell_type": "code",
   "execution_count": null,
   "id": "557f4c45",
   "metadata": {},
   "outputs": [],
   "source": [
    "# Interferograma\n",
    "def interferogram(product):  \n",
    "    parameters.put(\"Subtract flat-earth phase\", True)\n",
    "    parameters.put(\"Degree of \\\"Flat Earth\\\" polynomial\", 5)\n",
    "    parameters.put(\"Number of \\\"Flat Earth\\\" estimation points\", 501)\n",
    "    parameters.put(\"Orbit interpolation degree\", 3)\n",
    "    parameters.put(\"Include coherence estimation\", True)\n",
    "    parameters.put(\"Square Pixel\", False)\n",
    "    parameters.put(\"Independent Window Sizes\", False)\n",
    "    parameters.put(\"Coherence Azimuth Window Size\", 10)\n",
    "    parameters.put(\"Coherence Range Window Size\", 10)\n",
    "    return GPF.createProduct(\"Interferogram\", parameters, product)\n",
    "\n",
    "# Deburst\n",
    "def deburst(product):\n",
    "    parameters.put(\"Polarisations\", \"VV\")\n",
    "    return GPF.createProduct(\"TOPSAR-Deburst\", parameters, product)\n",
    "\n",
    "# Multilooking\n",
    "def multilook(product):\n",
    "    parameters.put(\"Number of Range Looks\", 4)\n",
    "    parameters.put(\"Number of Azimuth Looks\", 1)\n",
    "    return GPF.createProduct(\"Multilook\", parameters, product)\n",
    "\n",
    "# Remover fase topográfica\n",
    "def topophase_removal(product):\n",
    "    parameters.put(\"Orbit Interpolation Degree\", 3)\n",
    "    parameters.put(\"Digital Elevation Model\", \"SRTM 1Sec HGT (Auto Download)\")\n",
    "    parameters.put(\"Tile Extension[%]\", 100)\n",
    "    parameters.put(\"Output topographic phase band\", True)\n",
    "    parameters.put(\"Output elevation band\", False)\n",
    "    return GPF.createProduct(\"TopoPhaseRemoval\", parameters, product)"
   ]
  },
  {
   "cell_type": "code",
   "execution_count": null,
   "id": "da3f9214",
   "metadata": {},
   "outputs": [],
   "source": [
    "# Filtro de Goldstein para a fase\n",
    "def goldstein_filtering(product):\n",
    "    parameters.put(\"Adaptive Filter Exponent in(0,1]:\", 1.0)\n",
    "    parameters.put(\"FFT Size\", 64)\n",
    "    parameters.put(\"Window Size\", 3)\n",
    "    parameters.put(\"Use coherence mask\", False)\n",
    "    parameters.put(\"Coherence Threshold in[0,1]:\", 0.2)\n",
    "    return GPF.createProduct(\"GoldsteinPhaseFiltering\", parameters, product)\n",
    "\n",
    "# Converter fase desdobrada em deslocamento\n",
    "def displacement(product):\n",
    "    return GPF.createProduct(\"PhaseToDisplacement\", product)\n",
    "\n",
    "# Correção geométrica\n",
    "def terrain_correction(product):\n",
    "    parameters.put('Digital Elevation Model', 'SRTM 1Sec HGT (Auto Download)')\n",
    "    parameters.put(\"DEM Resampling Method\", \"BICUBIC_INTERPOLATION\")\n",
    "    parameters.put(\"Image Resampling Method\", \"BICUBIC_INTERPOLATION\")\n",
    "    parameters.put('pixelSpacingInMeter', 15.0) \n",
    "    parameters.put('sourceBands', 'Phase_ifg_VV_07Jun2021_25Jul2021')\n",
    "    return GPF.createProduct(\"Terrain-Correction\",parameters, product)"
   ]
  },
  {
   "cell_type": "code",
   "execution_count": null,
   "id": "06537b00",
   "metadata": {},
   "outputs": [],
   "source": [
    "# Fluxo de processos\n",
    "def workflow(file_1, file_2):\n",
    "\n",
    "    print('Reading files')\n",
    "    product_1 = read(file_1)\n",
    "    product_2 = read(file_2)\n",
    "\n",
    "    print('TOPSAR-Split')\n",
    "    SPLIT_1 = split(product_1)\n",
    "    SPLIT_2 = split(product_2)\n",
    "\n",
    "    print('Applying orbit files')\n",
    "    product_orbitFile_1 = apply_orbit_file(SPLIT_1)\n",
    "    product_orbitFile_2 = apply_orbit_file(SPLIT_2)\n",
    "\n",
    "    print('Back geocoding')\n",
    "    backgeocoding = back_geocoding([product_orbitFile_1, product_orbitFile_2])\n",
    "\n",
    "    print('Interferogram generation')\n",
    "    interferogram_formation = interferogram(backgeocoding)\n",
    "\n",
    "    print('TOPSAR_deburst')\n",
    "    TOPSAR_deburst = deburst(interferogram_formation)\n",
    "\n",
    "    print('TopoPhase removal')\n",
    "    TOPO_phase_removal = topophase_removal(TOPSAR_deburst)\n",
    "    \n",
    "    print('Multilooking')\n",
    "    multi = multilook(TOPO_phase_removal)\n",
    "\n",
    "    print('Goldstein filtering')\n",
    "    gold = goldstein_filtering(multi)\n",
    "    \n",
    "    \n",
    "    print('Terrain Correction')\n",
    "    corr = terrain_correction(gold)\n",
    "\n",
    "    print('Write')\n",
    "    #write(gold, output)\n",
    "        \n",
    "    write(corr, output)"
   ]
  },
  {
   "cell_type": "code",
   "execution_count": null,
   "id": "5807a0a9",
   "metadata": {},
   "outputs": [],
   "source": [
    "# Data 1\n",
    "master = os.path.join('D:/S1A_IW_SLC__1SDV_20210725T080234_20210725T080301_038931_0497F8_CE2A.zip')\n",
    "\n",
    "# Data 2\n",
    "slave = os.path.join('D:/S1A_IW_SLC__1SDV_20210607T080231_20210607T080258_038231_048301_9CEE.zip')\n",
    "\n",
    "# Nome do arquivo final\n",
    "output= 'Interf.tif'\n",
    "\n",
    "workflow(master, slave)"
   ]
  },
  {
   "cell_type": "code",
   "execution_count": null,
   "id": "3cb5a54a",
   "metadata": {},
   "outputs": [],
   "source": [
    "# Lendo fase desdobrada\n",
    "unwrapp = read('Interf_snaphu.tif')\n",
    "\n",
    "# Calculando deslocamento\n",
    "dis = displacement(unwrapp)\n",
    "\n",
    "write(dis, 'displacement')"
   ]
  },
  {
   "cell_type": "code",
   "execution_count": 4,
   "id": "037e5f1c",
   "metadata": {},
   "outputs": [],
   "source": [
    "!jt -t monokai"
   ]
  },
  {
   "cell_type": "code",
   "execution_count": null,
   "id": "da76c8ff",
   "metadata": {},
   "outputs": [],
   "source": []
  }
 ],
 "metadata": {
  "kernelspec": {
   "display_name": "Python 3",
   "language": "python",
   "name": "python3"
  },
  "language_info": {
   "codemirror_mode": {
    "name": "ipython",
    "version": 3
   },
   "file_extension": ".py",
   "mimetype": "text/x-python",
   "name": "python",
   "nbconvert_exporter": "python",
   "pygments_lexer": "ipython3",
   "version": "3.6.13"
  }
 },
 "nbformat": 4,
 "nbformat_minor": 5
}
