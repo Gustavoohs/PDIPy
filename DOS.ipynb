{
  "nbformat": 4,
  "nbformat_minor": 0,
  "metadata": {
    "colab": {
      "name": "dos.ipynb",
      "provenance": []
    },
    "kernelspec": {
      "name": "python3",
      "display_name": "Python 3"
    },
    "language_info": {
      "name": "python"
    }
  },
  "cells": [
    {
      "cell_type": "code",
      "source": [
        ""
      ],
      "metadata": {
        "id": "3saFlA27WM3h"
      },
      "execution_count": null,
      "outputs": []
    },
    {
      "cell_type": "code",
      "execution_count": null,
      "metadata": {
        "id": "TGpADrf-LG4f"
      },
      "outputs": [],
      "source": [
        "# Instalando anaconda\n",
        "!wget https://repo.anaconda.com/miniconda/Miniconda3-py37_4.8.2-Linux-x86_64.sh\n",
        "!chmod +x Miniconda3-py37_4.8.2-Linux-x86_64.sh\n",
        "!bash ./Miniconda3-py37_4.8.2-Linux-x86_64.sh -b -f -p /usr/local\n",
        "import sys\n",
        "sys.path.append('/usr/local/lib/python3.7/site-packages/')"
      ]
    },
    {
      "cell_type": "code",
      "source": [
        "# Instalando spectral\n",
        "!pip install -q spectral"
      ],
      "metadata": {
        "id": "7R_rIp0hR1lz"
      },
      "execution_count": 3,
      "outputs": []
    },
    {
      "cell_type": "code",
      "source": [
        "# Instalando rsgislib\n",
        "!conda install -c conda-forge rsgislib==4.1.95 -y"
      ],
      "metadata": {
        "id": "DjX6d7VFLNzb"
      },
      "execution_count": null,
      "outputs": []
    },
    {
      "cell_type": "code",
      "source": [
        "# Bibliotecas\n",
        "from rsgislib import imagecalibration\n",
        "import tifffile as tif\n",
        "from spectral import imshow"
      ],
      "metadata": {
        "id": "Yyl4JhCOLQR5"
      },
      "execution_count": 5,
      "outputs": []
    },
    {
      "cell_type": "code",
      "source": [
        "# Calculando DOS\n",
        "imagecalibration.performDOSCalc('L5.tif','DOS.tif','GTiff')"
      ],
      "metadata": {
        "id": "I7cBe5jQLU2G"
      },
      "execution_count": 4,
      "outputs": []
    },
    {
      "cell_type": "code",
      "source": [
        "# Lendo resultados\n",
        "img_original = tif.imread('L5.tif')\n",
        "img_DOS = tif.imread('DOS.tif')"
      ],
      "metadata": {
        "id": "_1E_-g18LWZM"
      },
      "execution_count": 9,
      "outputs": []
    },
    {
      "cell_type": "code",
      "source": [
        ""
      ],
      "metadata": {
        "id": "DdXCrw4iSpuJ"
      },
      "execution_count": null,
      "outputs": []
    }
  ]
}